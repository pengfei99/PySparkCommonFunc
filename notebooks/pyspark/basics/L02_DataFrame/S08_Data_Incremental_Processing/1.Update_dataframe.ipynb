{
 "cells": [
  {
   "cell_type": "markdown",
   "source": [
    "# Incremental data load\n",
    "\n",
    "Even though update data set incrementally is not very often, we still need to consider this kind of event."
   ],
   "metadata": {
    "collapsed": false
   },
   "id": "b96a41978bfb33ff"
  },
  {
   "cell_type": "code",
   "execution_count": 1,
   "outputs": [],
   "source": [
    "from pyspark.sql import SparkSession\n",
    "from pyspark.sql.types import StructType, StructField, IntegerType, StringType\n",
    "from pyspark.sql.functions import col, coalesce, expr"
   ],
   "metadata": {
    "collapsed": false,
    "ExecuteTime": {
     "end_time": "2023-11-24T08:28:26.184952507Z",
     "start_time": "2023-11-24T08:28:26.107280666Z"
    }
   },
   "id": "1ed9b8a504426450"
  },
  {
   "cell_type": "code",
   "execution_count": 2,
   "outputs": [
    {
     "name": "stdout",
     "output_type": "stream",
     "text": [
      "23/11/24 09:28:30 WARN Utils: Your hostname, pengfei-Virtual-Machine resolves to a loopback address: 127.0.1.1; using 10.50.2.80 instead (on interface eth0)\n",
      "23/11/24 09:28:30 WARN Utils: Set SPARK_LOCAL_IP if you need to bind to another address\n"
     ]
    },
    {
     "name": "stderr",
     "output_type": "stream",
     "text": [
      "Setting default log level to \"WARN\".\n",
      "To adjust logging level use sc.setLogLevel(newLevel). For SparkR, use setLogLevel(newLevel).\n"
     ]
    },
    {
     "name": "stdout",
     "output_type": "stream",
     "text": [
      "23/11/24 09:28:31 WARN NativeCodeLoader: Unable to load native-hadoop library for your platform... using builtin-java classes where applicable\n"
     ]
    }
   ],
   "source": [
    "# Create a Spark session\n",
    "spark = SparkSession.builder.master(\"local\").appName(\"IncrementalProcessing\").getOrCreate()"
   ],
   "metadata": {
    "collapsed": false,
    "ExecuteTime": {
     "end_time": "2023-11-24T08:28:37.090511285Z",
     "start_time": "2023-11-24T08:28:27.447618504Z"
    }
   },
   "id": "1b71b1a060d16478"
  },
  {
   "cell_type": "code",
   "execution_count": 3,
   "outputs": [
    {
     "name": "stderr",
     "output_type": "stream",
     "text": [
      "[Stage 0:>                                                          (0 + 1) / 1]\r"
     ]
    },
    {
     "name": "stdout",
     "output_type": "stream",
     "text": [
      "+---+-----+---+------+\n",
      "| id| name|age|salary|\n",
      "+---+-----+---+------+\n",
      "|  1|Alice| 30| 50000|\n",
      "|  2|  Bob| 35| 60000|\n",
      "|  3|Carol| 28| 45000|\n",
      "+---+-----+---+------+\n"
     ]
    },
    {
     "name": "stderr",
     "output_type": "stream",
     "text": [
      "                                                                                \r"
     ]
    }
   ],
   "source": [
    "# Define the schema\n",
    "schema = StructType([\n",
    "    StructField(\"id\", IntegerType(), True),\n",
    "    StructField(\"name\", StringType(), True),\n",
    "    StructField(\"age\", IntegerType(), True),\n",
    "    StructField(\"salary\", IntegerType(), True)\n",
    "])\n",
    "\n",
    "\n",
    "# Create the initial DataFrame\n",
    "initial_data = [\n",
    "    (1, \"Alice\", 30, 50000),\n",
    "    (2, \"Bob\", 35, 60000),\n",
    "    (3, \"Carol\", 28, 45000)\n",
    "]\n",
    "\n",
    "df = spark.createDataFrame(initial_data, schema=schema)\n",
    "\n",
    "# Show the initial DataFrame\n",
    "df.show()"
   ],
   "metadata": {
    "collapsed": false,
    "ExecuteTime": {
     "end_time": "2023-11-24T08:28:49.285553147Z",
     "start_time": "2023-11-24T08:28:42.128787887Z"
    }
   },
   "id": "10fc2690622bbe5b"
  },
  {
   "cell_type": "code",
   "execution_count": 5,
   "outputs": [
    {
     "name": "stdout",
     "output_type": "stream",
     "text": [
      "+------+--------+-------+----------+\n",
      "|inc_id|inc_name|inc_age|inc_salary|\n",
      "+------+--------+-------+----------+\n",
      "|     1|   Alice|     30|     52000|\n",
      "|     2|     Bob|     29|     65000|\n",
      "|     3|    Hari|     28|     47000|\n",
      "|     4|    Dave|     40|     70000|\n",
      "+------+--------+-------+----------+\n"
     ]
    }
   ],
   "source": [
    "# Define the schema for incremental data\n",
    "schema_incremental = StructType([\n",
    "    StructField(\"inc_id\", IntegerType(), True),\n",
    "    StructField(\"inc_name\", StringType(), True),\n",
    "    StructField(\"inc_age\", IntegerType(), True),\n",
    "    StructField(\"inc_salary\", IntegerType(), True)\n",
    "])\n",
    "\n",
    "# Create another DataFrame with incremental data (including new and changed records)\n",
    "incremental_data = [\n",
    "    (1, \"Alice\", 30, 52000),  # Updated salary for Alice\n",
    "    (2, \"Bob\", 29, 65000),  # Updated salary for Bob\n",
    "    (3, \"Hari\", 28, 47000),  # Updated salary for Carol\n",
    "    (4, \"Dave\", 40, 70000)  # New record for Dave\n",
    "]\n",
    "\n",
    "# Create a new DataFrame with the incremental data\n",
    "incremental_df = spark.createDataFrame(incremental_data, schema=schema_incremental)\n",
    "\n",
    "# Show the incremental DataFrame\n",
    "incremental_df.show()"
   ],
   "metadata": {
    "collapsed": false,
    "ExecuteTime": {
     "end_time": "2023-11-24T08:29:13.626875132Z",
     "start_time": "2023-11-24T08:29:13.285845056Z"
    }
   },
   "id": "8c65c719f08ecb1e"
  },
  {
   "cell_type": "markdown",
   "source": [
    "## Step1: Find new added record and changed record\n",
    "\n",
    "In the Incremental data frame, we need to distinguish the type of records:\n",
    "- changed_records: existing record in the origin dataset which will be updated by the new dataset\n",
    "- new_records: non-existing record in the origin dataset which will be added by the new dataset"
   ],
   "metadata": {
    "collapsed": false
   },
   "id": "f80cec5289763d96"
  },
  {
   "cell_type": "markdown",
   "source": [
    "### 1.1 Identify changed records \n",
    "\n",
    "To identify the changed records, we need to use the primary key of the dataframe. In this tutorial, the primary key is the column `id`.\n",
    "\n",
    "We do an inner join (because the record must exist in both origin and incremental dataset), then filter the rows which other columns have been changed.\n",
    "\n",
    "> The origin and the incremental dataset must have the same primary key, otherwise it's impossible to do the incremental update.\n",
    "\n"
   ],
   "metadata": {
    "collapsed": false
   },
   "id": "a42b255123452617"
  },
  {
   "cell_type": "code",
   "execution_count": 6,
   "outputs": [],
   "source": [
    "changed_records = df.join(incremental_df, col(\"id\") == col(\"inc_id\"), 'inner').filter(\n",
    "    (df.salary != incremental_df.inc_salary) |\n",
    "    (df.name != incremental_df.inc_name) |\n",
    "    (df.age != incremental_df.inc_age)\n",
    ").select(\"inc_id\", \"inc_name\", \"inc_age\", \"inc_salary\")"
   ],
   "metadata": {
    "collapsed": false,
    "ExecuteTime": {
     "end_time": "2023-11-24T08:29:25.557706054Z",
     "start_time": "2023-11-24T08:29:25.407145405Z"
    }
   },
   "id": "6882b319d2f0b177"
  },
  {
   "cell_type": "code",
   "execution_count": 7,
   "outputs": [
    {
     "name": "stdout",
     "output_type": "stream",
     "text": [
      "Changed Records:\n",
      "+------+--------+-------+----------+\n",
      "|inc_id|inc_name|inc_age|inc_salary|\n",
      "+------+--------+-------+----------+\n",
      "|     1|   Alice|     30|     52000|\n",
      "|     2|     Bob|     29|     65000|\n",
      "|     3|    Hari|     28|     47000|\n",
      "+------+--------+-------+----------+\n"
     ]
    }
   ],
   "source": [
    "# Show the changed records\n",
    "print(\"Changed Records:\")\n",
    "changed_records.show()"
   ],
   "metadata": {
    "collapsed": false,
    "ExecuteTime": {
     "end_time": "2023-11-24T08:29:28.795629312Z",
     "start_time": "2023-11-24T08:29:26.674985038Z"
    }
   },
   "id": "2560e9591f52d997"
  },
  {
   "cell_type": "markdown",
   "source": [
    "### 1.2 Identify new records \n",
    "\n",
    "To identify the new records, we need to use the primary key of the dataframe. In this tutorial, the primary key is the column `id`.\n",
    "\n",
    "As the new record primary key(id) exists only in the incremental df not in the origin df, so we need to do a left join on the origin dataset and filter the id==null row."
   ],
   "metadata": {
    "collapsed": false
   },
   "id": "2d4187ef1eefa0fc"
  },
  {
   "cell_type": "code",
   "execution_count": 8,
   "outputs": [
    {
     "name": "stdout",
     "output_type": "stream",
     "text": [
      "New Records:\n",
      "+------+--------+-------+----------+\n",
      "|inc_id|inc_name|inc_age|inc_salary|\n",
      "+------+--------+-------+----------+\n",
      "|     4|    Dave|     40|     70000|\n",
      "+------+--------+-------+----------+\n"
     ]
    }
   ],
   "source": [
    "# Identify new records in the incremental data\n",
    "new_records = incremental_df.join(df, col(\"id\") == col(\"inc_id\"), 'left_outer').filter(df.id.isNull()).select(\"inc_id\", \"inc_name\",\"inc_age\",\"inc_salary\")\n",
    "\n",
    "# Show the new records\n",
    "print(\"New Records:\")\n",
    "new_records.show()"
   ],
   "metadata": {
    "collapsed": false,
    "ExecuteTime": {
     "end_time": "2023-11-24T09:43:01.740818476Z",
     "start_time": "2023-11-24T09:42:59.892630834Z"
    }
   },
   "id": "292342aeda4ca3c7"
  },
  {
   "cell_type": "markdown",
   "source": [
    "## 2. Update the origin records\n",
    "\n",
    "There are two steps:\n",
    "- update the changed records value into the origin dataset\n",
    "- add the new records into the origin dataset  \n",
    "\n",
    "### 2.1 Update the changed records value"
   ],
   "metadata": {
    "collapsed": false
   },
   "id": "8dda91284351c12c"
  },
  {
   "cell_type": "code",
   "execution_count": 10,
   "outputs": [
    {
     "name": "stdout",
     "output_type": "stream",
     "text": [
      "Updated DataFrame:\n",
      "+---+-----+---+------+\n",
      "| id| name|age|salary|\n",
      "+---+-----+---+------+\n",
      "|  1|Alice| 30| 52000|\n",
      "|  3| Hari| 28| 47000|\n",
      "|  2|  Bob| 29| 65000|\n",
      "+---+-----+---+------+\n"
     ]
    }
   ],
   "source": [
    "# Update the existing records in the original DataFrame with the changes\n",
    "updated_df = df.join(\n",
    "    changed_records.selectExpr(\"inc_id as id\", \"inc_name \", \"inc_age\", \"inc_salary\"), on='id', how='left_outer').coalesce(1). \\\n",
    "    withColumn(\"name\", coalesce(col(\"inc_name\"), col(\"name\"))). \\\n",
    "    withColumn(\"age\", coalesce(col(\"inc_age\"), col(\"age\"))). \\\n",
    "    withColumn(\"salary\", coalesce(col(\"inc_salary\"), col(\"salary\"))). \\\n",
    "    drop(\"inc_name\", \"inc_age\", \"inc_salary\")\n",
    "\n",
    "# for each row, if the incremental dataset columns has a non-null value, update the origin dataset column value with this value. Otherwise, conserve the origin value.\n",
    "# Show the updated DataFrame\n",
    "print(\"Updated DataFrame:\")\n",
    "updated_df.show()\n"
   ],
   "metadata": {
    "collapsed": false,
    "ExecuteTime": {
     "end_time": "2023-11-24T09:45:08.152509054Z",
     "start_time": "2023-11-24T09:45:06.184360429Z"
    }
   },
   "id": "d3b8a3e44b43cd81"
  },
  {
   "cell_type": "markdown",
   "source": [
    "## Add the new records \n",
    "\n",
    "Now we only need to add the new records to build the final results."
   ],
   "metadata": {
    "collapsed": false
   },
   "id": "b2f2c738fc48f118"
  },
  {
   "cell_type": "code",
   "execution_count": 11,
   "outputs": [
    {
     "name": "stdout",
     "output_type": "stream",
     "text": [
      "Final DataFrame:\n"
     ]
    }
   ],
   "source": [
    "# Combine the updated DataFrame with the new records\n",
    "final_df = updated_df.union(new_records)\n",
    "\n",
    "# Show the final DataFrame\n",
    "print(\"Final DataFrame:\")\n"
   ],
   "metadata": {
    "collapsed": false,
    "ExecuteTime": {
     "end_time": "2023-11-24T09:45:12.285497872Z",
     "start_time": "2023-11-24T09:45:12.233480710Z"
    }
   },
   "id": "1b3490bac583228a"
  },
  {
   "cell_type": "code",
   "execution_count": 12,
   "outputs": [
    {
     "name": "stderr",
     "output_type": "stream",
     "text": [
      "                                                                                \r"
     ]
    },
    {
     "name": "stdout",
     "output_type": "stream",
     "text": [
      "+---+-----+---+------+\n",
      "| id| name|age|salary|\n",
      "+---+-----+---+------+\n",
      "|  1|Alice| 30| 52000|\n",
      "|  3| Hari| 28| 47000|\n",
      "|  2|  Bob| 29| 65000|\n",
      "|  4| Dave| 40| 70000|\n",
      "+---+-----+---+------+\n"
     ]
    }
   ],
   "source": [
    "final_df.show()"
   ],
   "metadata": {
    "collapsed": false,
    "ExecuteTime": {
     "end_time": "2023-11-24T09:45:15.665926141Z",
     "start_time": "2023-11-24T09:45:13.467498214Z"
    }
   },
   "id": "dcefebef843ac472"
  },
  {
   "cell_type": "code",
   "execution_count": 13,
   "outputs": [],
   "source": [
    "# Stop the Spark session\n",
    "spark.stop()"
   ],
   "metadata": {
    "collapsed": false,
    "ExecuteTime": {
     "end_time": "2023-11-24T09:45:19.084531873Z",
     "start_time": "2023-11-24T09:45:18.716824810Z"
    }
   },
   "id": "ca122071cc1eeac4"
  },
  {
   "cell_type": "code",
   "execution_count": null,
   "outputs": [],
   "source": [],
   "metadata": {
    "collapsed": false
   },
   "id": "a13b32653b943a4"
  }
 ],
 "metadata": {
  "kernelspec": {
   "display_name": "Python 3",
   "language": "python",
   "name": "python3"
  },
  "language_info": {
   "codemirror_mode": {
    "name": "ipython",
    "version": 2
   },
   "file_extension": ".py",
   "mimetype": "text/x-python",
   "name": "python",
   "nbconvert_exporter": "python",
   "pygments_lexer": "ipython2",
   "version": "2.7.6"
  }
 },
 "nbformat": 4,
 "nbformat_minor": 5
}
