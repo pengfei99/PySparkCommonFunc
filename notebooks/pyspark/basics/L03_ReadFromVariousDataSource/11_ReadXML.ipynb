{
 "cells": [
  {
   "metadata": {},
   "cell_type": "markdown",
   "source": "# Read xml files",
   "id": "3b469c973c3e3850"
  },
  {
   "metadata": {
    "ExecuteTime": {
     "end_time": "2024-11-27T09:55:27.677392Z",
     "start_time": "2024-11-27T09:55:27.668856Z"
    }
   },
   "cell_type": "code",
   "source": [
    "from pyspark.sql import SparkSession\n",
    "from pyspark.sql.functions import split, col"
   ],
   "id": "6133aaaea9379448",
   "outputs": [],
   "execution_count": 2
  },
  {
   "metadata": {},
   "cell_type": "code",
   "outputs": [],
   "execution_count": null,
   "source": [
    "# Create a Spark session with databricks spark xml reader package\n",
    "spark = SparkSession.builder \\\n",
    "    .appName(\"Read XML in PySpark\") \\\n",
    "    .config(\"spark.jars.packages\", \"com.databricks:spark-xml_2.13:0.14.0\") \\\n",
    "    .getOrCreate()"
   ],
   "id": "ba1190c983eb6c26"
  },
  {
   "metadata": {},
   "cell_type": "code",
   "outputs": [],
   "execution_count": null,
   "source": [
    "# Path to the XML file\n",
    "xml_file_path = \"./data/xml/city.xml\"\n",
    "\n",
    "# Read the XML file\n",
    "df = spark.read \\\n",
    "    .format(\"com.databricks.spark.xml\") \\\n",
    "    .option(\"rowTag\", \"Placemark\") \\\n",
    "    .load(xml_file_path)\n",
    "\n"
   ],
   "id": "ac97c695d6c58419"
  },
  {
   "metadata": {},
   "cell_type": "code",
   "outputs": [],
   "execution_count": null,
   "source": [
    "# Show the DataFrame\n",
    "df.show(truncate=False)\n",
    "df.printSchema()"
   ],
   "id": "bc663a424886a0ad"
  },
  {
   "metadata": {
    "ExecuteTime": {
     "end_time": "2024-11-27T09:55:46.125074Z",
     "start_time": "2024-11-27T09:55:45.784151Z"
    }
   },
   "cell_type": "code",
   "source": [
    "# Split the coordinates into latitude and longitude\n",
    "df = df.withColumn(\"longitude\", split(col(\"Point.coordinates\"), \",\").getItem(0)) \\\n",
    "       .withColumn(\"latitude\", split(col(\"Point.coordinates\"), \",\").getItem(1)) \\\n",
    "       .withColumn(\"altitude\", split(col(\"Point.coordinates\"), \",\").getItem(2))\n",
    "\n",
    "df.select(\"name\", \"description\", \"longitude\", \"latitude\", \"altitude\").show()"
   ],
   "id": "81bd94546a4272a1",
   "outputs": [
    {
     "name": "stdout",
     "output_type": "stream",
     "text": [
      "+-------------+-------------+----------+---------+--------+\n",
      "|         name|  description| longitude| latitude|altitude|\n",
      "+-------------+-------------+----------+---------+--------+\n",
      "|New York City|New York City|-74.006393|40.714172|       0|\n",
      "+-------------+-------------+----------+---------+--------+\n",
      "\n"
     ]
    }
   ],
   "execution_count": 3
  }
 ],
 "metadata": {
  "kernelspec": {
   "display_name": "Python 3",
   "language": "python",
   "name": "python3"
  },
  "language_info": {
   "codemirror_mode": {
    "name": "ipython",
    "version": 2
   },
   "file_extension": ".py",
   "mimetype": "text/x-python",
   "name": "python",
   "nbconvert_exporter": "python",
   "pygments_lexer": "ipython2",
   "version": "2.7.6"
  }
 },
 "nbformat": 4,
 "nbformat_minor": 5
}
