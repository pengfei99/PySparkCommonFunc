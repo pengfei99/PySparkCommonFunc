{
 "cells": [
  {
   "cell_type": "markdown",
   "source": [
    "# Use graphx to solve real world problems\n",
    "\n"
   ],
   "metadata": {
    "collapsed": false
   },
   "id": "9c56234a29ba2716"
  },
  {
   "cell_type": "code",
   "execution_count": 4,
   "outputs": [],
   "source": [
    "import networkx as nx\n",
    "import matplotlib.pyplot as plt\n",
    "from pyspark.sql import SparkSession\n",
    "import os\n",
    "from pyspark.sql import Row\n",
    "from graphframes import GraphFrame\n",
    "from pathlib import Path"
   ],
   "metadata": {
    "collapsed": false,
    "ExecuteTime": {
     "end_time": "2023-10-05T09:16:31.830685239Z",
     "start_time": "2023-10-05T09:16:31.761023043Z"
    }
   },
   "id": "c4ef7e2de4e76efc"
  },
  {
   "cell_type": "code",
   "execution_count": 16,
   "outputs": [],
   "source": [
    "def buildEdgesLabels(InGraph:GraphFrame):\n",
    "    edgeLabels = {}\n",
    "    # edgeList is a list of spark dataframe rows\n",
    "    edgeList = InGraph.edges.collect()\n",
    "    for edgeItem in edgeList:\n",
    "        edgeLabels[(edgeItem[\"src\"], edgeItem[\"dst\"])]=edgeItem[\"type\"]\n",
    "    return edgeLabels\n",
    "\n",
    "def drawGraph(InGraph:GraphFrame):\n",
    "    nxGraph = nx.Graph()\n",
    "    for edge in InGraph.edges.collect():\n",
    "        nxGraph.add_edge(edge[\"src\"], edge[\"dst\"])\n",
    "    \n",
    "    # Define layout\n",
    "    pos = nx.spring_layout(nxGraph, seed=42)\n",
    "    \n",
    "    # Draw nodes and edges\n",
    "    nx.draw(nxGraph, pos, with_labels=True, node_size=400, node_color='lightblue', font_size=10, font_color='black')\n",
    "    nx.draw_networkx_edge_labels(nxGraph, pos, edge_labels=buildEdgesLabels(InGraph))\n",
    "    \n",
    "    plt.show()"
   ],
   "metadata": {
    "collapsed": false,
    "ExecuteTime": {
     "end_time": "2023-10-05T09:42:01.393878016Z",
     "start_time": "2023-10-05T09:42:01.336156765Z"
    }
   },
   "id": "546aa3eb90aa61dc"
  },
  {
   "cell_type": "code",
   "execution_count": 3,
   "outputs": [
    {
     "name": "stdout",
     "output_type": "stream",
     "text": [
      "23/10/05 11:13:55 WARN Utils: Your hostname, pengfei-Virtual-Machine resolves to a loopback address: 127.0.1.1; using 10.50.2.80 instead (on interface eth0)\n",
      "23/10/05 11:13:55 WARN Utils: Set SPARK_LOCAL_IP if you need to bind to another address\n",
      ":: loading settings :: url = jar:file:/home/pengfei/opt/spark-3.3.0/jars/ivy-2.5.0.jar!/org/apache/ivy/core/settings/ivysettings.xml\n"
     ]
    },
    {
     "name": "stderr",
     "output_type": "stream",
     "text": [
      "Ivy Default Cache set to: /home/pengfei/.ivy2/cache\n",
      "The jars for the packages stored in: /home/pengfei/.ivy2/jars\n",
      "graphframes#graphframes added as a dependency\n",
      ":: resolving dependencies :: org.apache.spark#spark-submit-parent-0231815b-abad-45bc-ab43-e0d946bf6edd;1.0\n",
      "\tconfs: [default]\n",
      "\tfound graphframes#graphframes;0.8.2-spark3.2-s_2.12 in spark-packages\n",
      "\tfound org.slf4j#slf4j-api;1.7.16 in central\n",
      ":: resolution report :: resolve 530ms :: artifacts dl 14ms\n",
      "\t:: modules in use:\n",
      "\tgraphframes#graphframes;0.8.2-spark3.2-s_2.12 from spark-packages in [default]\n",
      "\torg.slf4j#slf4j-api;1.7.16 from central in [default]\n",
      "\t---------------------------------------------------------------------\n",
      "\t|                  |            modules            ||   artifacts   |\n",
      "\t|       conf       | number| search|dwnlded|evicted|| number|dwnlded|\n",
      "\t---------------------------------------------------------------------\n",
      "\t|      default     |   2   |   0   |   0   |   0   ||   2   |   0   |\n",
      "\t---------------------------------------------------------------------\n",
      ":: retrieving :: org.apache.spark#spark-submit-parent-0231815b-abad-45bc-ab43-e0d946bf6edd\n",
      "\tconfs: [default]\n",
      "\t0 artifacts copied, 2 already retrieved (0kB/21ms)\n"
     ]
    },
    {
     "name": "stdout",
     "output_type": "stream",
     "text": [
      "23/10/05 11:13:57 WARN NativeCodeLoader: Unable to load native-hadoop library for your platform... using builtin-java classes where applicable\n"
     ]
    },
    {
     "name": "stderr",
     "output_type": "stream",
     "text": [
      "Setting default log level to \"WARN\".\n",
      "To adjust logging level use sc.setLogLevel(newLevel). For SparkR, use setLogLevel(newLevel).\n"
     ]
    }
   ],
   "source": [
    "\n",
    "local=True\n",
    "if local:\n",
    "    spark = SparkSession.builder\\\n",
    "        .master(\"local[4]\")\\\n",
    "        .appName(\"GraphX\")\\\n",
    "        .config(\"spark.executor.memory\", \"4g\")\\\n",
    "        .config('spark.jars.packages','graphframes:graphframes:0.8.2-spark3.2-s_2.12') \\\n",
    "        .getOrCreate()\n",
    "else:\n",
    "    spark = SparkSession.builder\\\n",
    "        .master(\"k8s://https://kubernetes.default.svc:443\")\\\n",
    "        .appName(\"GraphX\")\\\n",
    "        .config(\"spark.kubernetes.container.image\", \"inseefrlab/jupyter-datascience:master\")\\\n",
    "        .config(\"spark.kubernetes.authenticate.driver.serviceAccountName\", os.environ['KUBERNETES_SERVICE_ACCOUNT'])\\\n",
    "        .config('spark.jars.packages','graphframes:graphframes:0.8.2-spark3.2-s_2.12') \\\n",
    "        .config(\"spark.executor.instances\", \"4\")\\\n",
    "        .config(\"spark.executor.memory\",\"2g\")\\\n",
    "        .config(\"spark.kubernetes.namespace\", os.environ['KUBERNETES_NAMESPACE'])\\\n",
    "        .getOrCreate()\n",
    "\n",
    "# make the large dataframe show pretty\n",
    "spark.conf.set(\"spark.sql.repl.eagerEval.enabled\",True)"
   ],
   "metadata": {
    "collapsed": false,
    "ExecuteTime": {
     "end_time": "2023-10-05T09:14:07.828033944Z",
     "start_time": "2023-10-05T09:13:49.134745284Z"
    }
   },
   "id": "7a2f93d4afc5bc77"
  },
  {
   "cell_type": "code",
   "execution_count": 11,
   "outputs": [],
   "source": [
    "data_path = Path(\"/home/pengfei/git/PySparkCommonFunc/data\")\n",
    "doc_path = data_path / 'doctors.csv'\n",
    "patient_path = data_path / 'patients.csv'\n",
    "relation_path = data_path / 'doc_patient_relation.csv'"
   ],
   "metadata": {
    "collapsed": false,
    "ExecuteTime": {
     "end_time": "2023-10-05T09:25:30.626683611Z",
     "start_time": "2023-10-05T09:25:30.572594538Z"
    }
   },
   "id": "7377c6ae49efcb24"
  },
  {
   "cell_type": "code",
   "execution_count": 8,
   "outputs": [
    {
     "name": "stdout",
     "output_type": "stream",
     "text": [
      "+---+--------------+--------------------+---+\n",
      "| id|          name|               title|age|\n",
      "+---+--------------+--------------------+---+\n",
      "| D1|Carter_Derrick|             dentist| 50|\n",
      "| D2|   May_Derrick|        pediatrician| 26|\n",
      "| D3|    Mills_Jeff|           ophthalmo| 80|\n",
      "| D4|   Hood_Robert|general_practitioner| 65|\n",
      "| D5|    Banks_Mike|             surgeon| 43|\n",
      "| D6|      Berg_Tim|general_practitioner| 28|\n",
      "| D7|    Page_Allan|general_practitioner| 16|\n",
      "| D8|Carter_Derrick|             dentist| 50|\n",
      "+---+--------------+--------------------+---+\n"
     ]
    }
   ],
   "source": [
    "doc_df = spark.read.csv(str(doc_path),header=True,inferSchema=True)\n",
    "doc_df.show()"
   ],
   "metadata": {
    "collapsed": false,
    "ExecuteTime": {
     "end_time": "2023-10-05T09:17:59.915606566Z",
     "start_time": "2023-10-05T09:17:58.854743772Z"
    }
   },
   "id": "dac5814d3781681b"
  },
  {
   "cell_type": "code",
   "execution_count": 10,
   "outputs": [
    {
     "name": "stdout",
     "output_type": "stream",
     "text": [
      "+---+-----------+-------+---+\n",
      "| id|       name|  title|age|\n",
      "+---+-----------+-------+---+\n",
      "| P1|    Foo_Bar|patient| 26|\n",
      "| P2|May_Derrick|patient| 26|\n",
      "| P3| Mills_Jeff|patient| 80|\n",
      "| P4|Hood_Robert|patient| 65|\n",
      "| P5| Banks_Mike|patient| 93|\n",
      "| P6|   Berg_Tim|patient| 28|\n",
      "| P7| Page_Allan|patient| 16|\n",
      "| P8|    Foo_Bar|patient| 26|\n",
      "| P9|May_Derrick|patient| 26|\n",
      "|P10| Mills_Jeff|patient| 80|\n",
      "|P11|Hood_Robert|patient| 65|\n",
      "|P12| Banks_Mike|patient| 93|\n",
      "|P13|   Berg_Tim|patient| 28|\n",
      "|P14| Page_Allan|patient| 16|\n",
      "+---+-----------+-------+---+\n"
     ]
    }
   ],
   "source": [
    "patient_df = spark.read.csv(str(patient_path),header=True,inferSchema=True)\n",
    "patient_df.show()"
   ],
   "metadata": {
    "collapsed": false,
    "ExecuteTime": {
     "end_time": "2023-10-05T09:19:08.485056895Z",
     "start_time": "2023-10-05T09:19:07.671252375Z"
    }
   },
   "id": "8bf2b82435ddc58c"
  },
  {
   "cell_type": "code",
   "execution_count": 13,
   "outputs": [
    {
     "name": "stdout",
     "output_type": "stream",
     "text": [
      "+---+---+-----+\n",
      "|src|dst| type|\n",
      "+---+---+-----+\n",
      "| D2|P14|treat|\n",
      "| D3| P1|treat|\n",
      "| D1| P3|treat|\n",
      "| D4| P1|treat|\n",
      "| D4| P2|treat|\n",
      "| D4| P3|treat|\n",
      "| D4| P4|treat|\n",
      "| D6| P5|treat|\n",
      "| D6| P6|treat|\n",
      "| D6| P7|treat|\n",
      "| D6| P8|treat|\n",
      "| D7| P9|treat|\n",
      "| D7|P10|treat|\n",
      "| D7|P11|treat|\n",
      "| D7|P12|treat|\n",
      "| D5|P10|treat|\n",
      "| D5|P12|treat|\n",
      "| D1| P2|treat|\n",
      "| D1| P7|treat|\n",
      "| D1| P8|treat|\n",
      "+---+---+-----+\n"
     ]
    }
   ],
   "source": [
    "relation_df = spark.read.csv(str(relation_path),header=True,inferSchema=True)\n",
    "relation_df.show()"
   ],
   "metadata": {
    "collapsed": false,
    "ExecuteTime": {
     "end_time": "2023-10-05T09:34:41.607811298Z",
     "start_time": "2023-10-05T09:34:41.018450830Z"
    }
   },
   "id": "1d7ec3b816e4c3f3"
  },
  {
   "cell_type": "code",
   "execution_count": 14,
   "outputs": [
    {
     "name": "stderr",
     "output_type": "stream",
     "text": [
      "/home/pengfei/.cache/pypoetry/virtualenvs/sparkcommonfunc-jby-k8HJ-py3.8/lib/python3.8/site-packages/pyspark/sql/dataframe.py:148: UserWarning: DataFrame.sql_ctx is an internal property, and will be removed in future releases. Use DataFrame.sparkSession instead.\n",
      "  warnings.warn(\n"
     ]
    }
   ],
   "source": [
    "edges_df = patient_df.union(doc_df)\n",
    "\n",
    "graph = GraphFrame(edges_df,relation_df)"
   ],
   "metadata": {
    "collapsed": false,
    "ExecuteTime": {
     "end_time": "2023-10-05T09:40:26.989081269Z",
     "start_time": "2023-10-05T09:40:26.857359422Z"
    }
   },
   "id": "480ba43af8010218"
  },
  {
   "cell_type": "code",
   "execution_count": 17,
   "outputs": [
    {
     "data": {
      "text/plain": "<Figure size 640x480 with 1 Axes>",
      "image/png": "[encoded data removed]"
     },
     "metadata": {},
     "output_type": "display_data"
    }
   ],
   "source": [
    "drawGraph(graph)"
   ],
   "metadata": {
    "collapsed": false,
    "ExecuteTime": {
     "end_time": "2023-10-05T09:42:08.025665050Z",
     "start_time": "2023-10-05T09:42:07.332967149Z"
    }
   },
   "id": "6193087644ebab6a"
  },
  {
   "cell_type": "code",
   "execution_count": null,
   "outputs": [],
   "source": [],
   "metadata": {
    "collapsed": false
   },
   "id": "523889c02a14756f"
  }
 ],
 "metadata": {
  "kernelspec": {
   "display_name": "Python 3",
   "language": "python",
   "name": "python3"
  },
  "language_info": {
   "codemirror_mode": {
    "name": "ipython",
    "version": 2
   },
   "file_extension": ".py",
   "mimetype": "text/x-python",
   "name": "python",
   "nbconvert_exporter": "python",
   "pygments_lexer": "ipython2",
   "version": "2.7.6"
  }
 },
 "nbformat": 4,
 "nbformat_minor": 5
}
