{
 "cells": [
  {
   "cell_type": "markdown",
   "source": [
    "# Use graphx to solve real world problems\n",
    "\n"
   ],
   "metadata": {
    "collapsed": false
   },
   "id": "9c56234a29ba2716"
  },
  {
   "cell_type": "code",
   "execution_count": null,
   "outputs": [],
   "source": [
    "import networkx as nx\n",
    "import matplotlib.pyplot as plt\n",
    "from pyspark.sql import SparkSession\n",
    "import os\n",
    "from pyspark.sql import Row\n",
    "from graphframes import GraphFrame"
   ],
   "metadata": {
    "collapsed": false
   },
   "id": "c4ef7e2de4e76efc"
  },
  {
   "cell_type": "code",
   "execution_count": null,
   "outputs": [],
   "source": [
    "def buildEdgesLabels(InGraph:GraphFrame):\n",
    "    edgeLabels = {}\n",
    "    # edgeList is a list of spark dataframe rows\n",
    "    edgeList = InGraph.edges.collect()\n",
    "    for edgeItem in edgeList:\n",
    "        edgeLabels[(edgeItem[\"src\"], edgeItem[\"dst\"])]=edgeItem[\"type\"]\n",
    "    return edgeLabels\n",
    "\n",
    "def drawGraph(InGraph:GraphFrame):\n",
    "    nxGraph = nx.Graph()\n",
    "    for edge in InGraph.edges.collect():\n",
    "        nxGraph.add_edge(edge[\"src\"], edge[\"dst\"])\n",
    "    \n",
    "    # Define layout\n",
    "    pos = nx.spring_layout(nxGraph, seed=42)\n",
    "    \n",
    "    # Draw nodes and edges\n",
    "    nx.draw(nxGraph, pos, with_labels=True, node_size=500, node_color='lightblue', font_size=10, font_color='black')\n",
    "    nx.draw_networkx_edge_labels(nxGraph, pos, edge_labels=buildEdgesLabels(InGraph))\n",
    "    \n",
    "    plt.show()"
   ],
   "metadata": {
    "collapsed": false
   },
   "id": "546aa3eb90aa61dc"
  },
  {
   "cell_type": "code",
   "execution_count": null,
   "outputs": [],
   "source": [
    "\n",
    "local=True\n",
    "if local:\n",
    "    spark = SparkSession.builder\\\n",
    "        .master(\"local[4]\")\\\n",
    "        .appName(\"GraphX\")\\\n",
    "        .config(\"spark.executor.memory\", \"4g\")\\\n",
    "        .config('spark.jars.packages','graphframes:graphframes:0.8.2-spark3.2-s_2.12') \\\n",
    "        .getOrCreate()\n",
    "else:\n",
    "    spark = SparkSession.builder\\\n",
    "        .master(\"k8s://https://kubernetes.default.svc:443\")\\\n",
    "        .appName(\"GraphX\")\\\n",
    "        .config(\"spark.kubernetes.container.image\", \"inseefrlab/jupyter-datascience:master\")\\\n",
    "        .config(\"spark.kubernetes.authenticate.driver.serviceAccountName\", os.environ['KUBERNETES_SERVICE_ACCOUNT'])\\\n",
    "        .config('spark.jars.packages','graphframes:graphframes:0.8.2-spark3.2-s_2.12') \\\n",
    "        .config(\"spark.executor.instances\", \"4\")\\\n",
    "        .config(\"spark.executor.memory\",\"2g\")\\\n",
    "        .config(\"spark.kubernetes.namespace\", os.environ['KUBERNETES_NAMESPACE'])\\\n",
    "        .getOrCreate()\n",
    "\n",
    "# make the large dataframe show pretty\n",
    "spark.conf.set(\"spark.sql.repl.eagerEval.enabled\",True)"
   ],
   "metadata": {
    "collapsed": false
   },
   "id": "7a2f93d4afc5bc77"
  },
  {
   "cell_type": "code",
   "execution_count": null,
   "outputs": [],
   "source": [],
   "metadata": {
    "collapsed": false
   },
   "id": "7377c6ae49efcb24"
  }
 ],
 "metadata": {
  "kernelspec": {
   "display_name": "Python 3",
   "language": "python",
   "name": "python3"
  },
  "language_info": {
   "codemirror_mode": {
    "name": "ipython",
    "version": 2
   },
   "file_extension": ".py",
   "mimetype": "text/x-python",
   "name": "python",
   "nbconvert_exporter": "python",
   "pygments_lexer": "ipython2",
   "version": "2.7.6"
  }
 },
 "nbformat": 4,
 "nbformat_minor": 5
}
