{
 "cells": [
  {
   "cell_type": "code",
   "execution_count": null,
   "id": "initial_id",
   "metadata": {
    "collapsed": true
   },
   "outputs": [],
   "source": []
  },
  {
   "cell_type": "code",
   "execution_count": 1,
   "outputs": [],
   "source": [
    "from pyspark.sql import SparkSession\n",
    "import os\n"
   ],
   "metadata": {
    "collapsed": false,
    "ExecuteTime": {
     "end_time": "2023-09-27T13:12:52.276880163Z",
     "start_time": "2023-09-27T13:12:52.113207435Z"
    }
   },
   "id": "14b232b93d23c55e"
  },
  {
   "cell_type": "code",
   "execution_count": 2,
   "outputs": [
    {
     "name": "stdout",
     "output_type": "stream",
     "text": [
      "23/09/27 15:13:01 WARN Utils: Your hostname, pengfei-Virtual-Machine resolves to a loopback address: 127.0.1.1; using 10.50.2.80 instead (on interface eth0)\n",
      "23/09/27 15:13:01 WARN Utils: Set SPARK_LOCAL_IP if you need to bind to another address\n",
      ":: loading settings :: url = jar:file:/home/pengfei/opt/spark-3.3.0/jars/ivy-2.5.0.jar!/org/apache/ivy/core/settings/ivysettings.xml\n"
     ]
    },
    {
     "name": "stderr",
     "output_type": "stream",
     "text": [
      "Ivy Default Cache set to: /home/pengfei/.ivy2/cache\n",
      "The jars for the packages stored in: /home/pengfei/.ivy2/jars\n",
      "graphframes#graphframes added as a dependency\n",
      ":: resolving dependencies :: org.apache.spark#spark-submit-parent-64ea0315-bd3f-4f81-ba9f-ca37fa789610;1.0\n",
      "\tconfs: [default]\n",
      "\tfound graphframes#graphframes;0.8.2-spark3.2-s_2.12 in spark-packages\n",
      "\tfound org.slf4j#slf4j-api;1.7.16 in central\n",
      ":: resolution report :: resolve 393ms :: artifacts dl 12ms\n",
      "\t:: modules in use:\n",
      "\tgraphframes#graphframes;0.8.2-spark3.2-s_2.12 from spark-packages in [default]\n",
      "\torg.slf4j#slf4j-api;1.7.16 from central in [default]\n",
      "\t---------------------------------------------------------------------\n",
      "\t|                  |            modules            ||   artifacts   |\n",
      "\t|       conf       | number| search|dwnlded|evicted|| number|dwnlded|\n",
      "\t---------------------------------------------------------------------\n",
      "\t|      default     |   2   |   0   |   0   |   0   ||   2   |   0   |\n",
      "\t---------------------------------------------------------------------\n",
      ":: retrieving :: org.apache.spark#spark-submit-parent-64ea0315-bd3f-4f81-ba9f-ca37fa789610\n",
      "\tconfs: [default]\n",
      "\t0 artifacts copied, 2 already retrieved (0kB/6ms)\n"
     ]
    },
    {
     "name": "stdout",
     "output_type": "stream",
     "text": [
      "23/09/27 15:13:03 WARN NativeCodeLoader: Unable to load native-hadoop library for your platform... using builtin-java classes where applicable\n"
     ]
    },
    {
     "name": "stderr",
     "output_type": "stream",
     "text": [
      "Setting default log level to \"WARN\".\n",
      "To adjust logging level use sc.setLogLevel(newLevel). For SparkR, use setLogLevel(newLevel).\n"
     ]
    }
   ],
   "source": [
    "\n",
    "\n",
    "local=True\n",
    "if local:\n",
    "    spark = SparkSession.builder\\\n",
    "        .master(\"local[4]\")\\\n",
    "        .appName(\"RepartitionAndCoalesce\")\\\n",
    "        .config(\"spark.executor.memory\", \"4g\")\\\n",
    "        .config('spark.jars.packages','graphframes:graphframes:0.8.2-spark3.2-s_2.12') \\\n",
    "        .getOrCreate()\n",
    "else:\n",
    "    spark = SparkSession.builder\\\n",
    "        .master(\"k8s://https://kubernetes.default.svc:443\")\\\n",
    "        .appName(\"RepartitionAndCoalesce\")\\\n",
    "        .config(\"spark.kubernetes.container.image\", \"inseefrlab/jupyter-datascience:master\")\\\n",
    "        .config(\"spark.kubernetes.authenticate.driver.serviceAccountName\", os.environ['KUBERNETES_SERVICE_ACCOUNT'])\\\n",
    "        .config('spark.jars.packages','graphframes:graphframes:0.8.2-spark3.2-s_2.12') \\\n",
    "        .config(\"spark.executor.instances\", \"4\")\\\n",
    "        .config(\"spark.executor.memory\",\"2g\")\\\n",
    "        .config(\"spark.kubernetes.namespace\", os.environ['KUBERNETES_NAMESPACE'])\\\n",
    "        .getOrCreate()\n",
    "\n",
    "# make the large dataframe show pretty\n",
    "spark.conf.set(\"spark.sql.repl.eagerEval.enabled\",True)"
   ],
   "metadata": {
    "collapsed": false,
    "ExecuteTime": {
     "end_time": "2023-09-27T13:13:08.425506789Z",
     "start_time": "2023-09-27T13:12:58.315977345Z"
    }
   },
   "id": "4566e55e3acb218b"
  },
  {
   "cell_type": "code",
   "execution_count": 11,
   "outputs": [],
   "source": [
    "from pyspark.sql import Row\n",
    "\n",
    "vertices = spark.createDataFrame([('1', 'Carter', 'Derrick', 50),\n",
    "                                  ('2', 'May', 'Derrick', 26),\n",
    "                                 ('3', 'Mills', 'Jeff', 80),\n",
    "                                  ('4', 'Hood', 'Robert', 65),\n",
    "                                  ('5', 'Banks', 'Mike', 93),\n",
    "                                 ('98', 'Berg', 'Tim', 28),\n",
    "                                 ('99', 'Page', 'Allan', 16)],\n",
    "                                 ['id', 'name', 'firstname', 'age'])\n",
    "\n",
    "edges = spark.createDataFrame([('1', '2', 'friend'),\n",
    "                               ('2', '1', 'friend'),\n",
    "                              ('3', '1', 'friend'),\n",
    "                              ('1', '3', 'friend'),\n",
    "                               ('2', '3', 'follows'),\n",
    "                               ('3', '4', 'friend'),\n",
    "                               ('4', '3', 'friend'),\n",
    "                               ('5', '3', 'friend'),\n",
    "                               ('3', '5', 'friend'),\n",
    "                               ('4', '5', 'follows'),\n",
    "                              ('98', '99', 'friend'),\n",
    "                              ('99', '98', 'friend')],\n",
    "                              ['src', 'dst', 'type'])\n"
   ],
   "metadata": {
    "collapsed": false,
    "ExecuteTime": {
     "end_time": "2023-09-27T13:19:10.588963183Z",
     "start_time": "2023-09-27T13:19:10.403244409Z"
    }
   },
   "id": "c91a0572c6f2a19"
  },
  {
   "cell_type": "code",
   "execution_count": 12,
   "outputs": [
    {
     "name": "stderr",
     "output_type": "stream",
     "text": [
      "/home/pengfei/.cache/pypoetry/virtualenvs/sparkcommonfunc-jby-k8HJ-py3.8/lib/python3.8/site-packages/pyspark/sql/dataframe.py:148: UserWarning: DataFrame.sql_ctx is an internal property, and will be removed in future releases. Use DataFrame.sparkSession instead.\n",
      "  warnings.warn(\n"
     ]
    }
   ],
   "source": [
    "from graphframes import GraphFrame\n",
    "\n",
    "graph = GraphFrame(vertices, edges)\n"
   ],
   "metadata": {
    "collapsed": false,
    "ExecuteTime": {
     "end_time": "2023-09-27T13:19:11.910947279Z",
     "start_time": "2023-09-27T13:19:11.896550964Z"
    }
   },
   "id": "81a54eb3ffcfed6c"
  },
  {
   "cell_type": "code",
   "execution_count": 13,
   "outputs": [
    {
     "name": "stdout",
     "output_type": "stream",
     "text": [
      "+---+------+---------+---+\n",
      "| id|  name|firstname|age|\n",
      "+---+------+---------+---+\n",
      "|  1|Carter|  Derrick| 50|\n",
      "|  2|   May|  Derrick| 26|\n",
      "|  3| Mills|     Jeff| 80|\n",
      "|  4|  Hood|   Robert| 65|\n",
      "|  5| Banks|     Mike| 93|\n",
      "| 98|  Berg|      Tim| 28|\n",
      "| 99|  Page|    Allan| 16|\n",
      "+---+------+---------+---+\n"
     ]
    }
   ],
   "source": [
    "graph.vertices.show()"
   ],
   "metadata": {
    "collapsed": false,
    "ExecuteTime": {
     "end_time": "2023-09-27T13:19:13.906172518Z",
     "start_time": "2023-09-27T13:19:13.387063397Z"
    }
   },
   "id": "f8cc22d43819a101"
  },
  {
   "cell_type": "code",
   "execution_count": 14,
   "outputs": [
    {
     "name": "stdout",
     "output_type": "stream",
     "text": [
      "+---+---+-------+\n",
      "|src|dst|   type|\n",
      "+---+---+-------+\n",
      "|  1|  2| friend|\n",
      "|  2|  1| friend|\n",
      "|  3|  1| friend|\n",
      "|  1|  3| friend|\n",
      "|  2|  3|follows|\n",
      "|  3|  4| friend|\n",
      "|  4|  3| friend|\n",
      "|  5|  3| friend|\n",
      "|  3|  5| friend|\n",
      "|  4|  5|follows|\n",
      "| 98| 99| friend|\n",
      "| 99| 98| friend|\n",
      "+---+---+-------+\n"
     ]
    }
   ],
   "source": [
    "graph.edges.show()"
   ],
   "metadata": {
    "collapsed": false,
    "ExecuteTime": {
     "end_time": "2023-09-27T13:19:16.893152027Z",
     "start_time": "2023-09-27T13:19:16.271222691Z"
    }
   },
   "id": "727a27502e45f4a"
  },
  {
   "cell_type": "code",
   "execution_count": 15,
   "outputs": [
    {
     "ename": "KeyError",
     "evalue": "'type'",
     "output_type": "error",
     "traceback": [
      "\u001B[0;31m---------------------------------------------------------------------------\u001B[0m",
      "\u001B[0;31mKeyError\u001B[0m                                  Traceback (most recent call last)",
      "Cell \u001B[0;32mIn[15], line 14\u001B[0m\n\u001B[1;32m     12\u001B[0m \u001B[38;5;66;03m# Draw nodes and edges\u001B[39;00m\n\u001B[1;32m     13\u001B[0m nx\u001B[38;5;241m.\u001B[39mdraw(nx_graph, pos, with_labels\u001B[38;5;241m=\u001B[39m\u001B[38;5;28;01mTrue\u001B[39;00m, node_size\u001B[38;5;241m=\u001B[39m\u001B[38;5;241m500\u001B[39m, node_color\u001B[38;5;241m=\u001B[39m\u001B[38;5;124m'\u001B[39m\u001B[38;5;124mlightblue\u001B[39m\u001B[38;5;124m'\u001B[39m, font_size\u001B[38;5;241m=\u001B[39m\u001B[38;5;241m10\u001B[39m, font_color\u001B[38;5;241m=\u001B[39m\u001B[38;5;124m'\u001B[39m\u001B[38;5;124mblack\u001B[39m\u001B[38;5;124m'\u001B[39m)\n\u001B[0;32m---> 14\u001B[0m labels \u001B[38;5;241m=\u001B[39m {edge: data[\u001B[38;5;124m\"\u001B[39m\u001B[38;5;124mtype\u001B[39m\u001B[38;5;124m\"\u001B[39m] \u001B[38;5;28;01mfor\u001B[39;00m edge, data \u001B[38;5;129;01min\u001B[39;00m nx_graph\u001B[38;5;241m.\u001B[39medges\u001B[38;5;241m.\u001B[39mitems()}\n\u001B[1;32m     15\u001B[0m nx\u001B[38;5;241m.\u001B[39mdraw_networkx_edge_labels(nx_graph, pos, edge_labels\u001B[38;5;241m=\u001B[39mlabels)\n\u001B[1;32m     17\u001B[0m plt\u001B[38;5;241m.\u001B[39mshow()\n",
      "Cell \u001B[0;32mIn[15], line 14\u001B[0m, in \u001B[0;36m<dictcomp>\u001B[0;34m(.0)\u001B[0m\n\u001B[1;32m     12\u001B[0m \u001B[38;5;66;03m# Draw nodes and edges\u001B[39;00m\n\u001B[1;32m     13\u001B[0m nx\u001B[38;5;241m.\u001B[39mdraw(nx_graph, pos, with_labels\u001B[38;5;241m=\u001B[39m\u001B[38;5;28;01mTrue\u001B[39;00m, node_size\u001B[38;5;241m=\u001B[39m\u001B[38;5;241m500\u001B[39m, node_color\u001B[38;5;241m=\u001B[39m\u001B[38;5;124m'\u001B[39m\u001B[38;5;124mlightblue\u001B[39m\u001B[38;5;124m'\u001B[39m, font_size\u001B[38;5;241m=\u001B[39m\u001B[38;5;241m10\u001B[39m, font_color\u001B[38;5;241m=\u001B[39m\u001B[38;5;124m'\u001B[39m\u001B[38;5;124mblack\u001B[39m\u001B[38;5;124m'\u001B[39m)\n\u001B[0;32m---> 14\u001B[0m labels \u001B[38;5;241m=\u001B[39m {edge: \u001B[43mdata\u001B[49m\u001B[43m[\u001B[49m\u001B[38;5;124;43m\"\u001B[39;49m\u001B[38;5;124;43mtype\u001B[39;49m\u001B[38;5;124;43m\"\u001B[39;49m\u001B[43m]\u001B[49m \u001B[38;5;28;01mfor\u001B[39;00m edge, data \u001B[38;5;129;01min\u001B[39;00m nx_graph\u001B[38;5;241m.\u001B[39medges\u001B[38;5;241m.\u001B[39mitems()}\n\u001B[1;32m     15\u001B[0m nx\u001B[38;5;241m.\u001B[39mdraw_networkx_edge_labels(nx_graph, pos, edge_labels\u001B[38;5;241m=\u001B[39mlabels)\n\u001B[1;32m     17\u001B[0m plt\u001B[38;5;241m.\u001B[39mshow()\n",
      "\u001B[0;31mKeyError\u001B[0m: 'type'"
     ]
    },
    {
     "data": {
      "text/plain": "<Figure size 640x480 with 1 Axes>",
      "image/png": "[encoded data removed]"
     },
     "metadata": {},
     "output_type": "display_data"
    }
   ],
   "source": [
    "import networkx as nx\n",
    "import matplotlib.pyplot as plt\n",
    "\n",
    "# Convert the GraphFrame to a NetworkX graph manually\n",
    "nx_graph = nx.Graph()\n",
    "for edge in graph.edges.collect():\n",
    "    nx_graph.add_edge(edge[\"src\"], edge[\"dst\"])\n",
    "\n",
    "# Define layout\n",
    "pos = nx.spring_layout(nx_graph, seed=42)\n",
    "\n",
    "# Draw nodes and edges\n",
    "nx.draw(nx_graph, pos, with_labels=True, node_size=500, node_color='lightblue', font_size=10, font_color='black')\n",
    "labels = {edge: data[\"type\"] for edge, data in nx_graph.edges.items()}\n",
    "nx.draw_networkx_edge_labels(nx_graph, pos, edge_labels=labels)\n",
    "\n",
    "plt.show()\n"
   ],
   "metadata": {
    "collapsed": false,
    "ExecuteTime": {
     "end_time": "2023-09-27T13:19:21.831693322Z",
     "start_time": "2023-09-27T13:19:21.341821735Z"
    }
   },
   "id": "8f9899ca0263c402"
  },
  {
   "cell_type": "markdown",
   "source": [
    "When we try to create different types of nodes in a graphe, we have difficulties. Because we use one data frame to build the vertexs. And a dataframe can't have two different schema. I found a https://stackoverflow.com/questions/33241332/how-to-create-a-bipartite-graph-in-graphx\n",
    "\n",
    "It uses RDD to do the job. Need to test if possible with python.\n",
    "\n",
    "Another solution is to build a parent Class which can be subclass for the different node type. In our case, if there are a patient type node, and a doctor type node. We need to create a person class which contains not only all required attributes of doctor and patient, but also an extra attribute such as `profession` which distinct the patient and doctor"
   ],
   "metadata": {
    "collapsed": false
   },
   "id": "c6831d839c573113"
  },
  {
   "cell_type": "code",
   "execution_count": 23,
   "outputs": [
    {
     "ename": "ValueError",
     "evalue": "Vertex ID column id missing from vertex DataFrame, which has columns: name,age,address",
     "output_type": "error",
     "traceback": [
      "\u001B[0;31m---------------------------------------------------------------------------\u001B[0m",
      "\u001B[0;31mValueError\u001B[0m                                Traceback (most recent call last)",
      "Cell \u001B[0;32mIn[23], line 25\u001B[0m\n\u001B[1;32m     16\u001B[0m edges \u001B[38;5;241m=\u001B[39m spark\u001B[38;5;241m.\u001B[39mcreateDataFrame([\n\u001B[1;32m     17\u001B[0m    (\u001B[38;5;241m1\u001B[39m, \u001B[38;5;241m101\u001B[39m, \u001B[38;5;124m\"\u001B[39m\u001B[38;5;124msee doctor\u001B[39m\u001B[38;5;124m\"\u001B[39m),\n\u001B[1;32m     18\u001B[0m    (\u001B[38;5;241m2\u001B[39m, \u001B[38;5;241m102\u001B[39m, \u001B[38;5;124m\"\u001B[39m\u001B[38;5;124msee doctor\u001B[39m\u001B[38;5;124m\"\u001B[39m),\n\u001B[0;32m   (...)\u001B[0m\n\u001B[1;32m     21\u001B[0m    \u001B[38;5;66;03m# Add more edges as needed\u001B[39;00m\n\u001B[1;32m     22\u001B[0m ], [\u001B[38;5;124m\"\u001B[39m\u001B[38;5;124msrc\u001B[39m\u001B[38;5;124m\"\u001B[39m, \u001B[38;5;124m\"\u001B[39m\u001B[38;5;124mdst\u001B[39m\u001B[38;5;124m\"\u001B[39m, \u001B[38;5;124m\"\u001B[39m\u001B[38;5;124mrelationship\u001B[39m\u001B[38;5;124m\"\u001B[39m])\n\u001B[1;32m     24\u001B[0m \u001B[38;5;66;03m# Create GraphFrames for partite A and B\u001B[39;00m\n\u001B[0;32m---> 25\u001B[0m graph_A \u001B[38;5;241m=\u001B[39m \u001B[43mGraphFrame\u001B[49m\u001B[43m(\u001B[49m\u001B[43mpatients\u001B[49m\u001B[43m,\u001B[49m\u001B[43m \u001B[49m\u001B[43medges\u001B[49m\u001B[43m)\u001B[49m\n\u001B[1;32m     26\u001B[0m graph_B \u001B[38;5;241m=\u001B[39m GraphFrame(docs, edges)\n\u001B[1;32m     28\u001B[0m \u001B[38;5;66;03m# Merge the vertices and edges of both GraphFrames to create a bipartite graph\u001B[39;00m\n",
      "File \u001B[0;32m/tmp/spark-8bc35f4e-f70d-46b7-9f46-a870d88ad373/userFiles-ed83919b-900c-4dcf-9aab-a783c3b93226/graphframes_graphframes-0.8.2-spark3.2-s_2.12.jar/graphframes/graphframe.py:77\u001B[0m, in \u001B[0;36mGraphFrame.__init__\u001B[0;34m(self, v, e)\u001B[0m\n\u001B[1;32m     75\u001B[0m \u001B[38;5;66;03m# Check that provided DataFrames contain required columns\u001B[39;00m\n\u001B[1;32m     76\u001B[0m \u001B[38;5;28;01mif\u001B[39;00m \u001B[38;5;28mself\u001B[39m\u001B[38;5;241m.\u001B[39mID \u001B[38;5;129;01mnot\u001B[39;00m \u001B[38;5;129;01min\u001B[39;00m v\u001B[38;5;241m.\u001B[39mcolumns:\n\u001B[0;32m---> 77\u001B[0m     \u001B[38;5;28;01mraise\u001B[39;00m \u001B[38;5;167;01mValueError\u001B[39;00m(\n\u001B[1;32m     78\u001B[0m         \u001B[38;5;124m\"\u001B[39m\u001B[38;5;124mVertex ID column \u001B[39m\u001B[38;5;132;01m{}\u001B[39;00m\u001B[38;5;124m missing from vertex DataFrame, which has columns: \u001B[39m\u001B[38;5;132;01m{}\u001B[39;00m\u001B[38;5;124m\"\u001B[39m\n\u001B[1;32m     79\u001B[0m         \u001B[38;5;241m.\u001B[39mformat(\u001B[38;5;28mself\u001B[39m\u001B[38;5;241m.\u001B[39mID, \u001B[38;5;124m\"\u001B[39m\u001B[38;5;124m,\u001B[39m\u001B[38;5;124m\"\u001B[39m\u001B[38;5;241m.\u001B[39mjoin(v\u001B[38;5;241m.\u001B[39mcolumns)))\n\u001B[1;32m     80\u001B[0m \u001B[38;5;28;01mif\u001B[39;00m \u001B[38;5;28mself\u001B[39m\u001B[38;5;241m.\u001B[39mSRC \u001B[38;5;129;01mnot\u001B[39;00m \u001B[38;5;129;01min\u001B[39;00m e\u001B[38;5;241m.\u001B[39mcolumns:\n\u001B[1;32m     81\u001B[0m     \u001B[38;5;28;01mraise\u001B[39;00m \u001B[38;5;167;01mValueError\u001B[39;00m(\n\u001B[1;32m     82\u001B[0m         \u001B[38;5;124m\"\u001B[39m\u001B[38;5;124mSource vertex ID column \u001B[39m\u001B[38;5;132;01m{}\u001B[39;00m\u001B[38;5;124m missing from edge DataFrame, which has columns: \u001B[39m\u001B[38;5;132;01m{}\u001B[39;00m\u001B[38;5;124m\"\u001B[39m\n\u001B[1;32m     83\u001B[0m         \u001B[38;5;241m.\u001B[39mformat(\u001B[38;5;28mself\u001B[39m\u001B[38;5;241m.\u001B[39mSRC, \u001B[38;5;124m\"\u001B[39m\u001B[38;5;124m,\u001B[39m\u001B[38;5;124m\"\u001B[39m\u001B[38;5;241m.\u001B[39mjoin(e\u001B[38;5;241m.\u001B[39mcolumns)))\n",
      "\u001B[0;31mValueError\u001B[0m: Vertex ID column id missing from vertex DataFrame, which has columns: name,age,address"
     ]
    }
   ],
   "source": [
    "# Define vertices for partite A\n",
    "patients = spark.createDataFrame([\n",
    "   (\"patient 1\", 12, \"1st rue toto\"),\n",
    "   (\"patient 2\", 26, \"1st rue t1t1\"),\n",
    "   # Add more vertices for partite A as needed\n",
    "], [\"name\",\"age\",\"address\"])\n",
    "\n",
    "# Define vertices for partite B\n",
    "docs = spark.createDataFrame([\n",
    "   (\"doctor1\", \"hospital1\", \"2 rue toto\"),\n",
    "   (\"doctor2\", \"hospital2\", \"3 rue toto\"),\n",
    "   # Add more vertices for partite B as needed\n",
    "], [\"name\", \"hospital_name\", \"hostpital_address\"])\n",
    "\n",
    "# Define edges connecting partite A to partite B\n",
    "edges = spark.createDataFrame([\n",
    "   (1, 101, \"see doctor\"),\n",
    "   (2, 102, \"see doctor\"),\n",
    "    (1, 102, \"see doctor\"),\n",
    "   (2, 101, \"see doctor\"),\n",
    "   # Add more edges as needed\n",
    "], [\"src\", \"dst\", \"relationship\"])\n",
    "\n",
    "# Create GraphFrames for partite A and B\n",
    "graph_A = GraphFrame(patients, edges)\n",
    "graph_B = GraphFrame(docs, edges)\n",
    "\n",
    "# Merge the vertices and edges of both GraphFrames to create a bipartite graph\n",
    "merged_vertices = patients.union(docs)\n",
    "merged_edges = edges\n",
    "bipartite_graph = GraphFrame(merged_vertices, merged_edges)\n",
    "\n"
   ],
   "metadata": {
    "collapsed": false,
    "ExecuteTime": {
     "end_time": "2023-09-27T14:16:16.074861609Z",
     "start_time": "2023-09-27T14:16:15.739713736Z"
    }
   },
   "id": "f3d08a6c0c72b537"
  },
  {
   "cell_type": "code",
   "execution_count": 22,
   "outputs": [
    {
     "ename": "KeyError",
     "evalue": "'type'",
     "output_type": "error",
     "traceback": [
      "\u001B[0;31m---------------------------------------------------------------------------\u001B[0m",
      "\u001B[0;31mKeyError\u001B[0m                                  Traceback (most recent call last)",
      "Cell \u001B[0;32mIn[22], line 10\u001B[0m\n\u001B[1;32m      8\u001B[0m \u001B[38;5;66;03m# Draw nodes and edges\u001B[39;00m\n\u001B[1;32m      9\u001B[0m nx\u001B[38;5;241m.\u001B[39mdraw(nx_graph, pos, with_labels\u001B[38;5;241m=\u001B[39m\u001B[38;5;28;01mTrue\u001B[39;00m, node_size\u001B[38;5;241m=\u001B[39m\u001B[38;5;241m500\u001B[39m, node_color\u001B[38;5;241m=\u001B[39m\u001B[38;5;124m'\u001B[39m\u001B[38;5;124mlightblue\u001B[39m\u001B[38;5;124m'\u001B[39m, font_size\u001B[38;5;241m=\u001B[39m\u001B[38;5;241m10\u001B[39m, font_color\u001B[38;5;241m=\u001B[39m\u001B[38;5;124m'\u001B[39m\u001B[38;5;124mblack\u001B[39m\u001B[38;5;124m'\u001B[39m)\n\u001B[0;32m---> 10\u001B[0m labels \u001B[38;5;241m=\u001B[39m {edge: data[\u001B[38;5;124m\"\u001B[39m\u001B[38;5;124mtype\u001B[39m\u001B[38;5;124m\"\u001B[39m] \u001B[38;5;28;01mfor\u001B[39;00m edge, data \u001B[38;5;129;01min\u001B[39;00m nx_graph\u001B[38;5;241m.\u001B[39medges\u001B[38;5;241m.\u001B[39mitems()}\n\u001B[1;32m     11\u001B[0m nx\u001B[38;5;241m.\u001B[39mdraw_networkx_edge_labels(nx_graph, pos, edge_labels\u001B[38;5;241m=\u001B[39mlabels)\n\u001B[1;32m     13\u001B[0m plt\u001B[38;5;241m.\u001B[39mshow()\n",
      "Cell \u001B[0;32mIn[22], line 10\u001B[0m, in \u001B[0;36m<dictcomp>\u001B[0;34m(.0)\u001B[0m\n\u001B[1;32m      8\u001B[0m \u001B[38;5;66;03m# Draw nodes and edges\u001B[39;00m\n\u001B[1;32m      9\u001B[0m nx\u001B[38;5;241m.\u001B[39mdraw(nx_graph, pos, with_labels\u001B[38;5;241m=\u001B[39m\u001B[38;5;28;01mTrue\u001B[39;00m, node_size\u001B[38;5;241m=\u001B[39m\u001B[38;5;241m500\u001B[39m, node_color\u001B[38;5;241m=\u001B[39m\u001B[38;5;124m'\u001B[39m\u001B[38;5;124mlightblue\u001B[39m\u001B[38;5;124m'\u001B[39m, font_size\u001B[38;5;241m=\u001B[39m\u001B[38;5;241m10\u001B[39m, font_color\u001B[38;5;241m=\u001B[39m\u001B[38;5;124m'\u001B[39m\u001B[38;5;124mblack\u001B[39m\u001B[38;5;124m'\u001B[39m)\n\u001B[0;32m---> 10\u001B[0m labels \u001B[38;5;241m=\u001B[39m {edge: \u001B[43mdata\u001B[49m\u001B[43m[\u001B[49m\u001B[38;5;124;43m\"\u001B[39;49m\u001B[38;5;124;43mtype\u001B[39;49m\u001B[38;5;124;43m\"\u001B[39;49m\u001B[43m]\u001B[49m \u001B[38;5;28;01mfor\u001B[39;00m edge, data \u001B[38;5;129;01min\u001B[39;00m nx_graph\u001B[38;5;241m.\u001B[39medges\u001B[38;5;241m.\u001B[39mitems()}\n\u001B[1;32m     11\u001B[0m nx\u001B[38;5;241m.\u001B[39mdraw_networkx_edge_labels(nx_graph, pos, edge_labels\u001B[38;5;241m=\u001B[39mlabels)\n\u001B[1;32m     13\u001B[0m plt\u001B[38;5;241m.\u001B[39mshow()\n",
      "\u001B[0;31mKeyError\u001B[0m: 'type'"
     ]
    },
    {
     "data": {
      "text/plain": "<Figure size 640x480 with 1 Axes>",
      "image/png": "[encoded data removed]"
     },
     "metadata": {},
     "output_type": "display_data"
    }
   ],
   "source": [
    "nx_graph = nx.Graph()\n",
    "for edge in bipartite_graph.edges.collect():\n",
    "    nx_graph.add_edge(edge[\"src\"], edge[\"dst\"])\n",
    "\n",
    "# Define layout\n",
    "pos = nx.spring_layout(nx_graph, seed=42)\n",
    "\n",
    "# Draw nodes and edges\n",
    "nx.draw(nx_graph, pos, with_labels=True, node_size=500, node_color='lightblue', font_size=10, font_color='black')\n",
    "labels = {edge: data[\"type\"] for edge, data in nx_graph.edges.items()}\n",
    "nx.draw_networkx_edge_labels(nx_graph, pos, edge_labels=labels)\n",
    "\n",
    "plt.show()"
   ],
   "metadata": {
    "collapsed": false,
    "ExecuteTime": {
     "end_time": "2023-09-27T14:08:38.075284626Z",
     "start_time": "2023-09-27T14:08:37.533138171Z"
    }
   },
   "id": "915a581b7480139"
  },
  {
   "cell_type": "code",
   "execution_count": null,
   "outputs": [],
   "source": [],
   "metadata": {
    "collapsed": false
   },
   "id": "56eb0dcae666535f"
  }
 ],
 "metadata": {
  "kernelspec": {
   "display_name": "Python 3",
   "language": "python",
   "name": "python3"
  },
  "language_info": {
   "codemirror_mode": {
    "name": "ipython",
    "version": 2
   },
   "file_extension": ".py",
   "mimetype": "text/x-python",
   "name": "python",
   "nbconvert_exporter": "python",
   "pygments_lexer": "ipython2",
   "version": "2.7.6"
  }
 },
 "nbformat": 4,
 "nbformat_minor": 5
}
