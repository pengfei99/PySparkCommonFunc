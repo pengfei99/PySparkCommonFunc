{
 "cells": [
  {
   "cell_type": "code",
   "execution_count": null,
   "id": "initial_id",
   "metadata": {
    "collapsed": true
   },
   "outputs": [],
   "source": []
  },
  {
   "cell_type": "code",
   "execution_count": 1,
   "outputs": [],
   "source": [
    "from datetime import datetime\n",
    "\n",
    "from pyspark.sql import SparkSession, DataFrame\n",
    "from pyspark.sql.types import StringType\n",
    "from pyspark.sql.functions import udf, col, split, when, to_date, max, min"
   ],
   "metadata": {
    "collapsed": false,
    "ExecuteTime": {
     "end_time": "2024-05-14T11:22:47.397075149Z",
     "start_time": "2024-05-14T11:22:47.136871559Z"
    }
   },
   "id": "9afea461edbb964d"
  },
  {
   "cell_type": "code",
   "execution_count": 2,
   "outputs": [
    {
     "name": "stdout",
     "output_type": "stream",
     "text": [
      "24/05/14 13:22:56 WARN Utils: Your hostname, pengfei-Virtual-Machine resolves to a loopback address: 127.0.1.1; using 10.50.2.80 instead (on interface eth0)\n",
      "24/05/14 13:22:56 WARN Utils: Set SPARK_LOCAL_IP if you need to bind to another address\n"
     ]
    },
    {
     "name": "stderr",
     "output_type": "stream",
     "text": [
      "Setting default log level to \"WARN\".\n",
      "To adjust logging level use sc.setLogLevel(newLevel). For SparkR, use setLogLevel(newLevel).\n"
     ]
    },
    {
     "name": "stdout",
     "output_type": "stream",
     "text": [
      "24/05/14 13:22:58 WARN NativeCodeLoader: Unable to load native-hadoop library for your platform... using builtin-java classes where applicable\n"
     ]
    }
   ],
   "source": [
    "# Create a SparkSession\n",
    "spark = SparkSession.builder \\\n",
    "    .master(\"local[*]\") \\\n",
    "    .appName(\"Midares test job\") \\\n",
    "    .getOrCreate()"
   ],
   "metadata": {
    "collapsed": false,
    "ExecuteTime": {
     "end_time": "2024-05-14T11:23:05.652962804Z",
     "start_time": "2024-05-14T11:22:50.073853132Z"
    }
   },
   "id": "1d9a28975edec8f6"
  },
  {
   "cell_type": "code",
   "execution_count": 3,
   "outputs": [],
   "source": [
    "pjc_path= \"/home/pengfei/git/PySparkCommonFunc/data/midares/PJC.csv\"\n",
    "pjc_df_1 = spark.read.csv(pjc_path,header=True, inferSchema=True)"
   ],
   "metadata": {
    "collapsed": false,
    "ExecuteTime": {
     "end_time": "2024-05-06T13:57:46.572483394Z",
     "start_time": "2024-05-06T13:57:39.065868365Z"
    }
   },
   "id": "2038d360cf162ec2"
  },
  {
   "cell_type": "code",
   "execution_count": 4,
   "outputs": [
    {
     "name": "stdout",
     "output_type": "stream",
     "text": [
      "root\n",
      " |-- id_midas: string (nullable = true)\n",
      " |-- KROD3: string (nullable = true)\n",
      " |-- KDDPJ: timestamp (nullable = true)\n",
      " |-- KDFPJ: timestamp (nullable = true)\n",
      " |-- KCPJC: integer (nullable = true)\n",
      " |-- KCOPP: integer (nullable = true)\n",
      " |-- KCFPP: integer (nullable = true)\n",
      " |-- KCMNI: string (nullable = true)\n",
      " |-- KCALF: double (nullable = true)\n",
      " |-- KQRSPP: integer (nullable = true)\n",
      " |-- KNOPRP: integer (nullable = true)\n",
      " |-- KTDGAP: double (nullable = true)\n",
      " |-- KQBPJP: integer (nullable = true)\n",
      " |-- KQJSTP: integer (nullable = true)\n",
      " |-- KCPJCC: string (nullable = true)\n",
      " |-- alloc: string (nullable = true)\n"
     ]
    }
   ],
   "source": [
    "pjc_df_1.printSchema()"
   ],
   "metadata": {
    "collapsed": false,
    "ExecuteTime": {
     "end_time": "2024-05-06T13:57:47.507734879Z",
     "start_time": "2024-05-06T13:57:47.469937220Z"
    }
   },
   "id": "44b58b52b49fe642"
  },
  {
   "cell_type": "code",
   "execution_count": 5,
   "outputs": [
    {
     "name": "stdout",
     "output_type": "stream",
     "text": [
      "+--------+-----+-------------------+-------------------+-----+-----+-----+-----+-----+------+------+------+------+------+------+-----+\n",
      "|id_midas|KROD3|              KDDPJ|              KDFPJ|KCPJC|KCOPP|KCFPP|KCMNI|KCALF|KQRSPP|KNOPRP|KTDGAP|KQBPJP|KQJSTP|KCPJCC|alloc|\n",
      "+--------+-----+-------------------+-------------------+-----+-----+-----+-----+-----+------+------+------+------+------+------+-----+\n",
      "|     M01|  S01|2017-07-01 00:00:00|2017-09-30 00:00:00|   66|   66|   66|   BK| 26.4|     0|     0|  21.6|     0|    99|    AC| null|\n",
      "|     M01|  S02|2017-07-04 00:00:00|2017-09-30 00:00:00|   66|   66|   66|   BK| 26.4|     0|     0|  21.6|     0|    99|    AC| null|\n",
      "|     M01|  S03|2017-07-05 00:00:00|2017-09-30 00:00:00|   66|   66|   66|   BK| 26.4|     0|     0|  21.6|     0|    99|    AC| null|\n",
      "|     M01|  S04|2017-07-06 00:00:00|2017-09-30 00:00:00|   66|   66|   66|   BK| 26.4|     0|     0|  21.6|     0|    99|    AC| null|\n",
      "|     M02|  S01|2017-08-05 00:00:00|2017-09-30 00:00:00|   66|   66|   66|   BK| 26.4|     0|     0|  21.6|     0|    99|    AC| null|\n",
      "|     M02|  S02|2017-08-03 00:00:00|2017-09-30 00:00:00|   66|   66|   66|   BK| 26.4|     0|     0|  21.6|     0|    99|    AC| null|\n",
      "|     M02|  S03|2017-08-02 00:00:00|2017-09-30 00:00:00|   66|   66|   66|   BK| 26.4|     0|     0|  21.6|     0|    99|    AC| null|\n",
      "|     M02|  S04|2017-08-01 00:00:00|2017-09-30 00:00:00|   66|   66|   66|   BK| 26.4|     0|     0|  21.6|     0|    99|    AC| null|\n",
      "+--------+-----+-------------------+-------------------+-----+-----+-----+-----+-----+------+------+------+------+------+------+-----+\n",
      "\n",
      "None\n"
     ]
    }
   ],
   "source": [
    "print(pjc_df_1.show())"
   ],
   "metadata": {
    "collapsed": false,
    "ExecuteTime": {
     "end_time": "2024-05-06T13:58:12.858816367Z",
     "start_time": "2024-05-06T13:58:11.922073587Z"
    }
   },
   "id": "64db01e662e67488"
  },
  {
   "cell_type": "code",
   "execution_count": 8,
   "outputs": [],
   "source": [
    "pjc_df_1 = pjc_df_1.withColumn(\"KDDPJ_date\",to_date(col(\"KDDPJ\"))).withColumn(\"KDFPJ_date\",to_date(col(\"KDFPJ\"))).drop(\"KDDPJ\",\"KDFPJ\").withColumnRenamed(\"KDDPJ_date\",\"KDDPJ\").withColumnRenamed(\"KDFPJ_date\",\"KDFPJ\")"
   ],
   "metadata": {
    "collapsed": false,
    "ExecuteTime": {
     "end_time": "2024-05-06T14:02:49.322110744Z",
     "start_time": "2024-05-06T14:02:49.085800734Z"
    }
   },
   "id": "621a74fabb6e7293"
  },
  {
   "cell_type": "code",
   "execution_count": 9,
   "outputs": [
    {
     "name": "stdout",
     "output_type": "stream",
     "text": [
      "root\n",
      " |-- id_midas: string (nullable = true)\n",
      " |-- KROD3: string (nullable = true)\n",
      " |-- KCPJC: integer (nullable = true)\n",
      " |-- KCOPP: integer (nullable = true)\n",
      " |-- KCFPP: integer (nullable = true)\n",
      " |-- KCMNI: string (nullable = true)\n",
      " |-- KCALF: double (nullable = true)\n",
      " |-- KQRSPP: integer (nullable = true)\n",
      " |-- KNOPRP: integer (nullable = true)\n",
      " |-- KTDGAP: double (nullable = true)\n",
      " |-- KQBPJP: integer (nullable = true)\n",
      " |-- KQJSTP: integer (nullable = true)\n",
      " |-- KCPJCC: string (nullable = true)\n",
      " |-- alloc: string (nullable = true)\n",
      " |-- KDDPJ: date (nullable = true)\n",
      " |-- KDFPJ: date (nullable = true)\n"
     ]
    }
   ],
   "source": [
    "pjc_df_1.printSchema()"
   ],
   "metadata": {
    "collapsed": false,
    "ExecuteTime": {
     "end_time": "2024-05-06T14:02:57.210388208Z",
     "start_time": "2024-05-06T14:02:57.165291793Z"
    }
   },
   "id": "a30df66c3ea88d2d"
  },
  {
   "cell_type": "code",
   "execution_count": 10,
   "outputs": [
    {
     "name": "stdout",
     "output_type": "stream",
     "text": [
      "+--------+-----+-----+-----+-----+-----+-----+------+------+------+------+------+------+-----+----------+----------+\n",
      "|id_midas|KROD3|KCPJC|KCOPP|KCFPP|KCMNI|KCALF|KQRSPP|KNOPRP|KTDGAP|KQBPJP|KQJSTP|KCPJCC|alloc|     KDDPJ|     KDFPJ|\n",
      "+--------+-----+-----+-----+-----+-----+-----+------+------+------+------+------+------+-----+----------+----------+\n",
      "|     M01|  S01|   66|   66|   66|   BK| 26.4|     0|     0|  21.6|     0|    99|    AC| null|2017-07-01|2017-09-30|\n",
      "|     M01|  S02|   66|   66|   66|   BK| 26.4|     0|     0|  21.6|     0|    99|    AC| null|2017-07-04|2017-09-30|\n",
      "|     M01|  S03|   66|   66|   66|   BK| 26.4|     0|     0|  21.6|     0|    99|    AC| null|2017-07-05|2017-09-30|\n",
      "|     M01|  S04|   66|   66|   66|   BK| 26.4|     0|     0|  21.6|     0|    99|    AC| null|2017-07-06|2017-09-30|\n",
      "|     M02|  S01|   66|   66|   66|   BK| 26.4|     0|     0|  21.6|     0|    99|    AC| null|2017-08-05|2017-09-30|\n",
      "|     M02|  S02|   66|   66|   66|   BK| 26.4|     0|     0|  21.6|     0|    99|    AC| null|2017-08-03|2017-09-30|\n",
      "|     M02|  S03|   66|   66|   66|   BK| 26.4|     0|     0|  21.6|     0|    99|    AC| null|2017-08-02|2017-09-30|\n",
      "|     M02|  S04|   66|   66|   66|   BK| 26.4|     0|     0|  21.6|     0|    99|    AC| null|2017-08-01|2017-09-30|\n",
      "+--------+-----+-----+-----+-----+-----+-----+------+------+------+------+------+------+-----+----------+----------+\n"
     ]
    }
   ],
   "source": [
    "pjc_df_1.show()"
   ],
   "metadata": {
    "collapsed": false,
    "ExecuteTime": {
     "end_time": "2024-05-06T14:03:23.759653256Z",
     "start_time": "2024-05-06T14:03:23.290694003Z"
    }
   },
   "id": "4b99795d9021ac1a"
  },
  {
   "cell_type": "code",
   "execution_count": 34,
   "outputs": [],
   "source": [
    "dateformat_str = \"%Y-%m-%d\"\n",
    "feature_cols = [\"id_midas\", \"KROD3\"]\n",
    "\n",
    "seuil_debut = datetime.strptime(\"2017-01-01\", dateformat_str)\n",
    "seuil_fin = datetime.strptime(\"2023-08-31\", dateformat_str)\n",
    "seuil_raz = datetime.strptime(\"2021-07-01\", dateformat_str)\n",
    "seuil_fin_censure_17 = datetime.strptime(\"2018-08-31\", dateformat_str)\n",
    "seuil_fin_censure_18 = datetime.strptime(\"2019-08-31\", dateformat_str)\n",
    "seuil_fin_censure_19 = datetime.strptime(\"2020-08-31\", dateformat_str)"
   ],
   "metadata": {
    "collapsed": false,
    "ExecuteTime": {
     "end_time": "2024-05-10T08:32:32.522771593Z",
     "start_time": "2024-05-10T08:32:32.499295173Z"
    }
   },
   "id": "66309a2c5af780e9"
  },
  {
   "cell_type": "code",
   "execution_count": 40,
   "outputs": [],
   "source": [
    "pjc_df_2 = pjc_df_1.select(\"id_midas\", \"KROD3\", \"KCPJC\", \"KQBPJP\", \"KDDPJ\", \"KDFPJ\", \"KCFPP\", \"alloc\")"
   ],
   "metadata": {
    "collapsed": false
   },
   "id": "c12dbb64e254782d"
  },
  {
   "cell_type": "code",
   "execution_count": 35,
   "outputs": [],
   "source": [
    "temp = pjc_df_2 \\\n",
    "    .filter(col(\"KDDPJ\") <= seuil_fin) \\\n",
    "    .groupBy(feature_cols).agg(max(\"KDFPJ\").alias(\"date_der_PJC\"), min(\"KDDPJ\").alias(\"date_ouv_droit\")).orderBy(\"id_midas\",\"KROD3\")"
   ],
   "metadata": {
    "collapsed": false,
    "ExecuteTime": {
     "end_time": "2024-05-10T08:32:36.638822520Z",
     "start_time": "2024-05-10T08:32:36.510387560Z"
    }
   },
   "id": "7b0fd03da2e77b41"
  },
  {
   "cell_type": "code",
   "execution_count": 36,
   "outputs": [
    {
     "name": "stdout",
     "output_type": "stream",
     "text": [
      "+--------+-----+------------+--------------+\n",
      "|id_midas|KROD3|date_der_PJC|date_ouv_droit|\n",
      "+--------+-----+------------+--------------+\n",
      "|     M01|  S01|  2017-09-30|    2017-07-01|\n",
      "|     M01|  S02|  2017-09-30|    2017-07-04|\n",
      "|     M01|  S03|  2017-09-30|    2017-07-05|\n",
      "|     M01|  S04|  2017-09-30|    2017-07-06|\n",
      "|     M02|  S01|  2017-09-30|    2017-08-05|\n",
      "|     M02|  S02|  2017-09-30|    2017-08-03|\n",
      "|     M02|  S03|  2017-09-30|    2017-08-02|\n",
      "|     M02|  S04|  2017-09-30|    2017-08-01|\n",
      "+--------+-----+------------+--------------+\n"
     ]
    }
   ],
   "source": [
    "temp.show()"
   ],
   "metadata": {
    "collapsed": false,
    "ExecuteTime": {
     "end_time": "2024-05-10T08:32:39.970293150Z",
     "start_time": "2024-05-10T08:32:38.817506520Z"
    }
   },
   "id": "c9f123e2ea006d08"
  },
  {
   "cell_type": "code",
   "execution_count": 39,
   "outputs": [],
   "source": [
    "resu = pjc_df_2.join(temp, feature_cols, type=\"inner\")\n",
    "resu.show(5)"
   ],
   "metadata": {
    "collapsed": false
   },
   "id": "77f0c7e044fe7f74"
  },
  {
   "cell_type": "code",
   "execution_count": 30,
   "outputs": [],
   "source": [],
   "metadata": {
    "collapsed": false,
    "ExecuteTime": {
     "end_time": "2024-05-07T15:53:36.865099733Z",
     "start_time": "2024-05-07T15:53:36.849528039Z"
    }
   },
   "id": "c93b877a0d46dfa"
  },
  {
   "cell_type": "code",
   "execution_count": 31,
   "outputs": [],
   "source": [
    "# build time elapse graph\n",
    "\n",
    "script_name=\"test\"\n",
    "job_id = \"1\"\n",
    "job_name= f\"{script_name}_{job_id}\""
   ],
   "metadata": {
    "collapsed": false,
    "ExecuteTime": {
     "end_time": "2024-05-07T15:53:37.414584447Z",
     "start_time": "2024-05-07T15:53:37.389591797Z"
    }
   },
   "id": "39bb349a7423e050"
  },
  {
   "cell_type": "code",
   "execution_count": 3,
   "outputs": [
    {
     "name": "stderr",
     "output_type": "stream",
     "text": [
      "                                                                                \r"
     ]
    },
    {
     "name": "stdout",
     "output_type": "stream",
     "text": [
      "+--------+--------------------+--------------------+-----------------+\n",
      "|job_name|      cluster_config|           operation|duration(seconds)|\n",
      "+--------+--------------------+--------------------+-----------------+\n",
      "|  test_1|driver:4core_16g ...|spark_session_cre...|              190|\n",
      "|  test_1|driver:4core_16g ...|  job_execution_time|              288|\n",
      "|  test_2|driver:6core_16g ...|spark_session_cre...|              160|\n",
      "|  test_2|driver:6core_16g ...|  job_execution_time|              240|\n",
      "|  test_3|driver:4core_16g ...|spark_session_cre...|              190|\n",
      "|  test_3|driver:4core_16g ...|  job_execution_time|              100|\n",
      "+--------+--------------------+--------------------+-----------------+\n"
     ]
    }
   ],
   "source": [
    "from pyspark.sql.types import StructType, StructField, LongType\n",
    "\n",
    "schema = StructType([       \n",
    "    StructField('job_name', StringType(), True),\n",
    "    StructField('cluster_config', StringType(), True),\n",
    "    StructField('operation', StringType(), True),\n",
    "    StructField('duration(seconds)', LongType(), True)\n",
    "])\n",
    "\n",
    "sample_data= [(\"test_1\",\"driver:4core_16g worker:16core_128g\",\"spark_session_creation\",190),\n",
    "              (\"test_1\",\"driver:4core_16g worker:16core_128g\",\"job_execution_time\",288),\n",
    "              (\"test_2\",\"driver:6core_16g worker:16core_128g\",\"spark_session_creation\",160),\n",
    "              (\"test_2\",\"driver:6core_16g worker:16core_128g\",\"job_execution_time\",240),\n",
    "              (\"test_3\",\"driver:4core_16g worker:32core_256g\",\"spark_session_creation\",190),\n",
    "              (\"test_3\",\"driver:4core_16g worker:32core_256g\",\"job_execution_time\", 100)\n",
    "              ]\n",
    "\n",
    "df = spark.createDataFrame(data=sample_data,schema=schema)\n",
    "\n",
    "df.show()"
   ],
   "metadata": {
    "collapsed": false,
    "ExecuteTime": {
     "end_time": "2024-05-14T11:23:22.147675218Z",
     "start_time": "2024-05-14T11:23:14.102541474Z"
    }
   },
   "id": "fc66d696cca30d5b"
  },
  {
   "cell_type": "code",
   "execution_count": 4,
   "outputs": [
    {
     "name": "stderr",
     "output_type": "stream",
     "text": [
      "/tmp/ipykernel_2406762/2718944201.py:3: FutureWarning: \n",
      "\n",
      "The `ci` parameter is deprecated. Use `errorbar='sd'` for the same effect.\n",
      "\n",
      "  g_col_op = sns.catplot(\n",
      "/home/pengfei/.cache/pypoetry/virtualenvs/sparkcommonfunc-jby-k8HJ-py3.8/lib/python3.8/site-packages/seaborn/axisgrid.py:123: UserWarning: The figure layout has changed to tight\n",
      "  self._figure.tight_layout(*args, **kwargs)\n"
     ]
    },
    {
     "data": {
      "text/plain": "<seaborn.axisgrid.FacetGrid at 0x7f17383dc9a0>"
     },
     "execution_count": 4,
     "metadata": {},
     "output_type": "execute_result"
    },
    {
     "data": {
      "text/plain": "<Figure size 1010.38x800 with 1 Axes>",
      "image/png": "[encoded data removed]"
     },
     "metadata": {},
     "output_type": "display_data"
    }
   ],
   "source": [
    "import seaborn as sns\n",
    "\n",
    "g_col_op = sns.catplot(\n",
    "    data=df.toPandas(), kind=\"bar\",hue=\"operation\",\n",
    "    x=\"job_name\", y=\"duration(seconds)\", \n",
    "    order=['test_1','test_2','test_3'],\n",
    "    ci=\"sd\", palette=\"dark\", alpha=0.8, height=8\n",
    ")\n",
    "g_col_op.despine(left=False)\n",
    "g_col_op.set_axis_labels(\"\", \"Latency (seconds) \")\n",
    "g_col_op.set(ylim=(0, 300))"
   ],
   "metadata": {
    "collapsed": false,
    "ExecuteTime": {
     "end_time": "2024-05-14T11:23:27.202788945Z",
     "start_time": "2024-05-14T11:23:25.895012253Z"
    }
   },
   "id": "23658067a95587ee"
  },
  {
   "cell_type": "code",
   "execution_count": 7,
   "outputs": [],
   "source": [
    "output_path = \"/home/pengfei/git/PySparkCommonFunc/data/midares/time\"\n",
    "df.coalesce(1).write.mode(\"overwrite\").options(header=True,delimiter=\",\").csv(output_path)"
   ],
   "metadata": {
    "collapsed": false,
    "ExecuteTime": {
     "end_time": "2024-05-14T13:23:56.409273337Z",
     "start_time": "2024-05-14T13:23:55.537441750Z"
    }
   },
   "id": "fbfcf2c90771a190"
  },
  {
   "cell_type": "code",
   "execution_count": 9,
   "outputs": [],
   "source": [
    "import time\n",
    "\n",
    "# Get current time in seconds since the epoch\n",
    "start_time = int(time.time())\n",
    "\n"
   ],
   "metadata": {
    "collapsed": false,
    "ExecuteTime": {
     "end_time": "2024-05-14T09:44:40.988920253Z",
     "start_time": "2024-05-14T09:44:40.975601570Z"
    }
   },
   "id": "bcd9e785632f1280"
  },
  {
   "cell_type": "code",
   "execution_count": 10,
   "outputs": [],
   "source": [
    "end_time = int(time.time())"
   ],
   "metadata": {
    "collapsed": false,
    "ExecuteTime": {
     "end_time": "2024-05-14T09:44:41.916005512Z",
     "start_time": "2024-05-14T09:44:41.906328852Z"
    }
   },
   "id": "41c6eacfe7f03bdc"
  },
  {
   "cell_type": "code",
   "execution_count": 11,
   "outputs": [
    {
     "name": "stdout",
     "output_type": "stream",
     "text": [
      "Duration in seconds: 1\n"
     ]
    }
   ],
   "source": [
    "print(f\"Duration in seconds: {end_time-start_time}\")"
   ],
   "metadata": {
    "collapsed": false,
    "ExecuteTime": {
     "end_time": "2024-05-14T09:44:43.167855388Z",
     "start_time": "2024-05-14T09:44:43.152650494Z"
    }
   },
   "id": "bdbd10cd09fa105"
  },
  {
   "cell_type": "code",
   "execution_count": 8,
   "outputs": [],
   "source": [
    "import pandas as pd\n",
    "\n",
    "csv_path = \"/home/pengfei/git/PySparkCommonFunc/data/midares/time.csv\"\n",
    "pdf = pd.read_csv(csv_path, header=0, sep=',')"
   ],
   "metadata": {
    "collapsed": false,
    "ExecuteTime": {
     "end_time": "2024-05-14T13:25:17.324789558Z",
     "start_time": "2024-05-14T13:25:17.191020Z"
    }
   },
   "id": "3e3555fb63e64fcb"
  },
  {
   "cell_type": "code",
   "execution_count": 9,
   "outputs": [
    {
     "data": {
      "text/plain": "  job_name                       cluster_config               operation  \\\n0   test_1  driver:4core_16g worker:16core_128g  spark_session_creation   \n1   test_1  driver:4core_16g worker:16core_128g      job_execution_time   \n2   test_2  driver:6core_16g worker:16core_128g  spark_session_creation   \n3   test_2  driver:6core_16g worker:16core_128g      job_execution_time   \n4   test_3  driver:4core_16g worker:32core_256g  spark_session_creation   \n\n   duration(seconds)  \n0                190  \n1                288  \n2                160  \n3                240  \n4                190  ",
      "text/html": "<div>\n<style scoped>\n    .dataframe tbody tr th:only-of-type {\n        vertical-align: middle;\n    }\n\n    .dataframe tbody tr th {\n        vertical-align: top;\n    }\n\n    .dataframe thead th {\n        text-align: right;\n    }\n</style>\n<table border=\"1\" class=\"dataframe\">\n  <thead>\n    <tr style=\"text-align: right;\">\n      <th></th>\n      <th>job_name</th>\n      <th>cluster_config</th>\n      <th>operation</th>\n      <th>duration(seconds)</th>\n    </tr>\n  </thead>\n  <tbody>\n    <tr>\n      <th>0</th>\n      <td>test_1</td>\n      <td>driver:4core_16g worker:16core_128g</td>\n      <td>spark_session_creation</td>\n      <td>190</td>\n    </tr>\n    <tr>\n      <th>1</th>\n      <td>test_1</td>\n      <td>driver:4core_16g worker:16core_128g</td>\n      <td>job_execution_time</td>\n      <td>288</td>\n    </tr>\n    <tr>\n      <th>2</th>\n      <td>test_2</td>\n      <td>driver:6core_16g worker:16core_128g</td>\n      <td>spark_session_creation</td>\n      <td>160</td>\n    </tr>\n    <tr>\n      <th>3</th>\n      <td>test_2</td>\n      <td>driver:6core_16g worker:16core_128g</td>\n      <td>job_execution_time</td>\n      <td>240</td>\n    </tr>\n    <tr>\n      <th>4</th>\n      <td>test_3</td>\n      <td>driver:4core_16g worker:32core_256g</td>\n      <td>spark_session_creation</td>\n      <td>190</td>\n    </tr>\n  </tbody>\n</table>\n</div>"
     },
     "execution_count": 9,
     "metadata": {},
     "output_type": "execute_result"
    }
   ],
   "source": [
    "pdf.head(5)"
   ],
   "metadata": {
    "collapsed": false,
    "ExecuteTime": {
     "end_time": "2024-05-14T13:25:27.532430380Z",
     "start_time": "2024-05-14T13:25:27.282596077Z"
    }
   },
   "id": "11b952c2c082834"
  },
  {
   "cell_type": "code",
   "execution_count": null,
   "outputs": [],
   "source": [],
   "metadata": {
    "collapsed": false
   },
   "id": "79cbaaadb3e9da39"
  }
 ],
 "metadata": {
  "kernelspec": {
   "display_name": "Python 3",
   "language": "python",
   "name": "python3"
  },
  "language_info": {
   "codemirror_mode": {
    "name": "ipython",
    "version": 2
   },
   "file_extension": ".py",
   "mimetype": "text/x-python",
   "name": "python",
   "nbconvert_exporter": "python",
   "pygments_lexer": "ipython2",
   "version": "2.7.6"
  }
 },
 "nbformat": 4,
 "nbformat_minor": 5
}
