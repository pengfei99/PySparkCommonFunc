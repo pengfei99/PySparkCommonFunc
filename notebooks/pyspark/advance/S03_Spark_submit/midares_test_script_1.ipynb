{
 "cells": [
  {
   "cell_type": "code",
   "execution_count": null,
   "id": "initial_id",
   "metadata": {
    "collapsed": true
   },
   "outputs": [],
   "source": []
  },
  {
   "cell_type": "code",
   "execution_count": 13,
   "outputs": [],
   "source": [
    "from datetime import datetime\n",
    "\n",
    "from pyspark.sql import SparkSession, DataFrame\n",
    "from pyspark.sql.types import StringType\n",
    "from pyspark.sql.functions import udf, col, split, when, to_date, max, min"
   ],
   "metadata": {
    "collapsed": false,
    "ExecuteTime": {
     "end_time": "2024-05-06T14:23:37.892634591Z",
     "start_time": "2024-05-06T14:23:37.823743646Z"
    }
   },
   "id": "9afea461edbb964d"
  },
  {
   "cell_type": "code",
   "execution_count": 2,
   "outputs": [
    {
     "name": "stdout",
     "output_type": "stream",
     "text": [
      "24/05/06 15:57:27 WARN Utils: Your hostname, pengfei-Virtual-Machine resolves to a loopback address: 127.0.1.1; using 10.50.2.80 instead (on interface eth0)\n",
      "24/05/06 15:57:27 WARN Utils: Set SPARK_LOCAL_IP if you need to bind to another address\n"
     ]
    },
    {
     "name": "stderr",
     "output_type": "stream",
     "text": [
      "Setting default log level to \"WARN\".\n",
      "To adjust logging level use sc.setLogLevel(newLevel). For SparkR, use setLogLevel(newLevel).\n"
     ]
    },
    {
     "name": "stdout",
     "output_type": "stream",
     "text": [
      "24/05/06 15:57:28 WARN NativeCodeLoader: Unable to load native-hadoop library for your platform... using builtin-java classes where applicable\n"
     ]
    }
   ],
   "source": [
    "# Create a SparkSession\n",
    "spark = SparkSession.builder \\\n",
    "    .master(\"local[*]\") \\\n",
    "    .appName(\"Midares test job\") \\\n",
    "    .getOrCreate()"
   ],
   "metadata": {
    "collapsed": false,
    "ExecuteTime": {
     "end_time": "2024-05-06T13:57:35.171225607Z",
     "start_time": "2024-05-06T13:57:22.208000964Z"
    }
   },
   "id": "1d9a28975edec8f6"
  },
  {
   "cell_type": "code",
   "execution_count": 3,
   "outputs": [],
   "source": [
    "pjc_path= \"/home/pengfei/git/PySparkCommonFunc/data/midares/PJC.csv\"\n",
    "pjc_df_1 = spark.read.csv(pjc_path,header=True, inferSchema=True)"
   ],
   "metadata": {
    "collapsed": false,
    "ExecuteTime": {
     "end_time": "2024-05-06T13:57:46.572483394Z",
     "start_time": "2024-05-06T13:57:39.065868365Z"
    }
   },
   "id": "2038d360cf162ec2"
  },
  {
   "cell_type": "code",
   "execution_count": 4,
   "outputs": [
    {
     "name": "stdout",
     "output_type": "stream",
     "text": [
      "root\n",
      " |-- id_midas: string (nullable = true)\n",
      " |-- KROD3: string (nullable = true)\n",
      " |-- KDDPJ: timestamp (nullable = true)\n",
      " |-- KDFPJ: timestamp (nullable = true)\n",
      " |-- KCPJC: integer (nullable = true)\n",
      " |-- KCOPP: integer (nullable = true)\n",
      " |-- KCFPP: integer (nullable = true)\n",
      " |-- KCMNI: string (nullable = true)\n",
      " |-- KCALF: double (nullable = true)\n",
      " |-- KQRSPP: integer (nullable = true)\n",
      " |-- KNOPRP: integer (nullable = true)\n",
      " |-- KTDGAP: double (nullable = true)\n",
      " |-- KQBPJP: integer (nullable = true)\n",
      " |-- KQJSTP: integer (nullable = true)\n",
      " |-- KCPJCC: string (nullable = true)\n",
      " |-- alloc: string (nullable = true)\n"
     ]
    }
   ],
   "source": [
    "pjc_df_1.printSchema()"
   ],
   "metadata": {
    "collapsed": false,
    "ExecuteTime": {
     "end_time": "2024-05-06T13:57:47.507734879Z",
     "start_time": "2024-05-06T13:57:47.469937220Z"
    }
   },
   "id": "44b58b52b49fe642"
  },
  {
   "cell_type": "code",
   "execution_count": 5,
   "outputs": [
    {
     "name": "stdout",
     "output_type": "stream",
     "text": [
      "+--------+-----+-------------------+-------------------+-----+-----+-----+-----+-----+------+------+------+------+------+------+-----+\n",
      "|id_midas|KROD3|              KDDPJ|              KDFPJ|KCPJC|KCOPP|KCFPP|KCMNI|KCALF|KQRSPP|KNOPRP|KTDGAP|KQBPJP|KQJSTP|KCPJCC|alloc|\n",
      "+--------+-----+-------------------+-------------------+-----+-----+-----+-----+-----+------+------+------+------+------+------+-----+\n",
      "|     M01|  S01|2017-07-01 00:00:00|2017-09-30 00:00:00|   66|   66|   66|   BK| 26.4|     0|     0|  21.6|     0|    99|    AC| null|\n",
      "|     M01|  S02|2017-07-04 00:00:00|2017-09-30 00:00:00|   66|   66|   66|   BK| 26.4|     0|     0|  21.6|     0|    99|    AC| null|\n",
      "|     M01|  S03|2017-07-05 00:00:00|2017-09-30 00:00:00|   66|   66|   66|   BK| 26.4|     0|     0|  21.6|     0|    99|    AC| null|\n",
      "|     M01|  S04|2017-07-06 00:00:00|2017-09-30 00:00:00|   66|   66|   66|   BK| 26.4|     0|     0|  21.6|     0|    99|    AC| null|\n",
      "|     M02|  S01|2017-08-05 00:00:00|2017-09-30 00:00:00|   66|   66|   66|   BK| 26.4|     0|     0|  21.6|     0|    99|    AC| null|\n",
      "|     M02|  S02|2017-08-03 00:00:00|2017-09-30 00:00:00|   66|   66|   66|   BK| 26.4|     0|     0|  21.6|     0|    99|    AC| null|\n",
      "|     M02|  S03|2017-08-02 00:00:00|2017-09-30 00:00:00|   66|   66|   66|   BK| 26.4|     0|     0|  21.6|     0|    99|    AC| null|\n",
      "|     M02|  S04|2017-08-01 00:00:00|2017-09-30 00:00:00|   66|   66|   66|   BK| 26.4|     0|     0|  21.6|     0|    99|    AC| null|\n",
      "+--------+-----+-------------------+-------------------+-----+-----+-----+-----+-----+------+------+------+------+------+------+-----+\n",
      "\n",
      "None\n"
     ]
    }
   ],
   "source": [
    "print(pjc_df_1.show())"
   ],
   "metadata": {
    "collapsed": false,
    "ExecuteTime": {
     "end_time": "2024-05-06T13:58:12.858816367Z",
     "start_time": "2024-05-06T13:58:11.922073587Z"
    }
   },
   "id": "64db01e662e67488"
  },
  {
   "cell_type": "code",
   "execution_count": 8,
   "outputs": [],
   "source": [
    "pjc_df_1 = pjc_df_1.withColumn(\"KDDPJ_date\",to_date(col(\"KDDPJ\"))).withColumn(\"KDFPJ_date\",to_date(col(\"KDFPJ\"))).drop(\"KDDPJ\",\"KDFPJ\").withColumnRenamed(\"KDDPJ_date\",\"KDDPJ\").withColumnRenamed(\"KDFPJ_date\",\"KDFPJ\")"
   ],
   "metadata": {
    "collapsed": false,
    "ExecuteTime": {
     "end_time": "2024-05-06T14:02:49.322110744Z",
     "start_time": "2024-05-06T14:02:49.085800734Z"
    }
   },
   "id": "621a74fabb6e7293"
  },
  {
   "cell_type": "code",
   "execution_count": 9,
   "outputs": [
    {
     "name": "stdout",
     "output_type": "stream",
     "text": [
      "root\n",
      " |-- id_midas: string (nullable = true)\n",
      " |-- KROD3: string (nullable = true)\n",
      " |-- KCPJC: integer (nullable = true)\n",
      " |-- KCOPP: integer (nullable = true)\n",
      " |-- KCFPP: integer (nullable = true)\n",
      " |-- KCMNI: string (nullable = true)\n",
      " |-- KCALF: double (nullable = true)\n",
      " |-- KQRSPP: integer (nullable = true)\n",
      " |-- KNOPRP: integer (nullable = true)\n",
      " |-- KTDGAP: double (nullable = true)\n",
      " |-- KQBPJP: integer (nullable = true)\n",
      " |-- KQJSTP: integer (nullable = true)\n",
      " |-- KCPJCC: string (nullable = true)\n",
      " |-- alloc: string (nullable = true)\n",
      " |-- KDDPJ: date (nullable = true)\n",
      " |-- KDFPJ: date (nullable = true)\n"
     ]
    }
   ],
   "source": [
    "pjc_df_1.printSchema()"
   ],
   "metadata": {
    "collapsed": false,
    "ExecuteTime": {
     "end_time": "2024-05-06T14:02:57.210388208Z",
     "start_time": "2024-05-06T14:02:57.165291793Z"
    }
   },
   "id": "a30df66c3ea88d2d"
  },
  {
   "cell_type": "code",
   "execution_count": 10,
   "outputs": [
    {
     "name": "stdout",
     "output_type": "stream",
     "text": [
      "+--------+-----+-----+-----+-----+-----+-----+------+------+------+------+------+------+-----+----------+----------+\n",
      "|id_midas|KROD3|KCPJC|KCOPP|KCFPP|KCMNI|KCALF|KQRSPP|KNOPRP|KTDGAP|KQBPJP|KQJSTP|KCPJCC|alloc|     KDDPJ|     KDFPJ|\n",
      "+--------+-----+-----+-----+-----+-----+-----+------+------+------+------+------+------+-----+----------+----------+\n",
      "|     M01|  S01|   66|   66|   66|   BK| 26.4|     0|     0|  21.6|     0|    99|    AC| null|2017-07-01|2017-09-30|\n",
      "|     M01|  S02|   66|   66|   66|   BK| 26.4|     0|     0|  21.6|     0|    99|    AC| null|2017-07-04|2017-09-30|\n",
      "|     M01|  S03|   66|   66|   66|   BK| 26.4|     0|     0|  21.6|     0|    99|    AC| null|2017-07-05|2017-09-30|\n",
      "|     M01|  S04|   66|   66|   66|   BK| 26.4|     0|     0|  21.6|     0|    99|    AC| null|2017-07-06|2017-09-30|\n",
      "|     M02|  S01|   66|   66|   66|   BK| 26.4|     0|     0|  21.6|     0|    99|    AC| null|2017-08-05|2017-09-30|\n",
      "|     M02|  S02|   66|   66|   66|   BK| 26.4|     0|     0|  21.6|     0|    99|    AC| null|2017-08-03|2017-09-30|\n",
      "|     M02|  S03|   66|   66|   66|   BK| 26.4|     0|     0|  21.6|     0|    99|    AC| null|2017-08-02|2017-09-30|\n",
      "|     M02|  S04|   66|   66|   66|   BK| 26.4|     0|     0|  21.6|     0|    99|    AC| null|2017-08-01|2017-09-30|\n",
      "+--------+-----+-----+-----+-----+-----+-----+------+------+------+------+------+------+-----+----------+----------+\n"
     ]
    }
   ],
   "source": [
    "pjc_df_1.show()"
   ],
   "metadata": {
    "collapsed": false,
    "ExecuteTime": {
     "end_time": "2024-05-06T14:03:23.759653256Z",
     "start_time": "2024-05-06T14:03:23.290694003Z"
    }
   },
   "id": "4b99795d9021ac1a"
  },
  {
   "cell_type": "code",
   "execution_count": 11,
   "outputs": [],
   "source": [
    "dateformat_str = \"%Y-%m-%d\"\n",
    "\n",
    "seuil_debut = datetime.strptime(\"2017-01-01\", dateformat_str)\n",
    "seuil_fin = datetime.strptime(\"2023-08-31\", dateformat_str)\n",
    "seuil_raz = datetime.strptime(\"2021-07-01\", dateformat_str)\n",
    "seuil_fin_censure_17 = datetime.strptime(\"2018-08-31\", dateformat_str)\n",
    "seuil_fin_censure_18 = datetime.strptime(\"2019-08-31\", dateformat_str)\n",
    "seuil_fin_censure_19 = datetime.strptime(\"2020-08-31\", dateformat_str)"
   ],
   "metadata": {
    "collapsed": false,
    "ExecuteTime": {
     "end_time": "2024-05-06T14:04:43.594902604Z",
     "start_time": "2024-05-06T14:04:43.549788123Z"
    }
   },
   "id": "66309a2c5af780e9"
  },
  {
   "cell_type": "code",
   "execution_count": 16,
   "outputs": [],
   "source": [
    "temp = pjc_df_1.select(\"id_midas\", \"KROD3\", \"KCPJC\", \"KQBPJP\", \"KDDPJ\", \"KDFPJ\", \"KCFPP\", \"alloc\") \\\n",
    "    .filter(col(\"KDDPJ\") <= seuil_fin) \\\n",
    "    .groupBy(\"id_midas\", \"KROD3\").agg(max(\"KDFPJ\").alias(\"date_der_PJC\"), min(\"KDDPJ\").alias(\"date_ouv_droit\")).orderBy(\"id_midas\",\"KROD3\")"
   ],
   "metadata": {
    "collapsed": false,
    "ExecuteTime": {
     "end_time": "2024-05-06T15:33:14.353344595Z",
     "start_time": "2024-05-06T15:33:14.202931062Z"
    }
   },
   "id": "7b0fd03da2e77b41"
  },
  {
   "cell_type": "code",
   "execution_count": 17,
   "outputs": [
    {
     "name": "stdout",
     "output_type": "stream",
     "text": [
      "+--------+-----+------------+--------------+\n",
      "|id_midas|KROD3|date_der_PJC|date_ouv_droit|\n",
      "+--------+-----+------------+--------------+\n",
      "|     M01|  S01|  2017-09-30|    2017-07-01|\n",
      "|     M01|  S02|  2017-09-30|    2017-07-04|\n",
      "|     M01|  S03|  2017-09-30|    2017-07-05|\n",
      "|     M01|  S04|  2017-09-30|    2017-07-06|\n",
      "|     M02|  S01|  2017-09-30|    2017-08-05|\n",
      "|     M02|  S02|  2017-09-30|    2017-08-03|\n",
      "|     M02|  S03|  2017-09-30|    2017-08-02|\n",
      "|     M02|  S04|  2017-09-30|    2017-08-01|\n",
      "+--------+-----+------------+--------------+\n"
     ]
    }
   ],
   "source": [
    "temp.show()"
   ],
   "metadata": {
    "collapsed": false,
    "ExecuteTime": {
     "end_time": "2024-05-06T15:33:16.214701987Z",
     "start_time": "2024-05-06T15:33:15.114816328Z"
    }
   },
   "id": "c9f123e2ea006d08"
  },
  {
   "cell_type": "code",
   "execution_count": 29,
   "outputs": [],
   "source": [],
   "metadata": {
    "collapsed": false,
    "ExecuteTime": {
     "end_time": "2024-05-07T15:53:35.995231486Z",
     "start_time": "2024-05-07T15:53:35.931108099Z"
    }
   },
   "id": "77f0c7e044fe7f74"
  },
  {
   "cell_type": "code",
   "execution_count": 30,
   "outputs": [],
   "source": [],
   "metadata": {
    "collapsed": false,
    "ExecuteTime": {
     "end_time": "2024-05-07T15:53:36.865099733Z",
     "start_time": "2024-05-07T15:53:36.849528039Z"
    }
   },
   "id": "c93b877a0d46dfa"
  },
  {
   "cell_type": "code",
   "execution_count": 31,
   "outputs": [],
   "source": [],
   "metadata": {
    "collapsed": false,
    "ExecuteTime": {
     "end_time": "2024-05-07T15:53:37.414584447Z",
     "start_time": "2024-05-07T15:53:37.389591797Z"
    }
   },
   "id": "39bb349a7423e050"
  },
  {
   "cell_type": "code",
   "execution_count": 32,
   "outputs": [],
   "source": [],
   "metadata": {
    "collapsed": false,
    "ExecuteTime": {
     "end_time": "2024-05-07T15:53:39.776442196Z",
     "start_time": "2024-05-07T15:53:39.765680631Z"
    }
   },
   "id": "fc66d696cca30d5b"
  },
  {
   "cell_type": "code",
   "execution_count": null,
   "outputs": [],
   "source": [],
   "metadata": {
    "collapsed": false
   },
   "id": "bcd9e785632f1280"
  }
 ],
 "metadata": {
  "kernelspec": {
   "display_name": "Python 3",
   "language": "python",
   "name": "python3"
  },
  "language_info": {
   "codemirror_mode": {
    "name": "ipython",
    "version": 2
   },
   "file_extension": ".py",
   "mimetype": "text/x-python",
   "name": "python",
   "nbconvert_exporter": "python",
   "pygments_lexer": "ipython2",
   "version": "2.7.6"
  }
 },
 "nbformat": 4,
 "nbformat_minor": 5
}
