{
 "cells": [
  {
   "cell_type": "markdown",
   "source": [
    "# Test script 2\n",
    "\n",
    "This script is based on the logic of the test_cluster_3_prod.R"
   ],
   "metadata": {
    "collapsed": false
   },
   "id": "bca4485dbdd3f1e1"
  },
  {
   "cell_type": "markdown",
   "source": [
    "## Generate the year month file name"
   ],
   "metadata": {
    "collapsed": false
   },
   "id": "f6fdb56ef388c6ac"
  },
  {
   "cell_type": "code",
   "execution_count": null,
   "outputs": [],
   "source": [
    "from datetime import datetime, timedelta\n",
    "\n",
    "from pyspark.sql import SparkSession, DataFrame\n",
    "from pyspark.sql.types import StringType\n",
    "from pyspark.sql.functions import udf, col, split, when, to_date, max, min"
   ],
   "metadata": {
    "collapsed": false
   },
   "id": "f4761de5160b3adb"
  },
  {
   "cell_type": "code",
   "execution_count": null,
   "outputs": [],
   "source": [
    "# Create a SparkSession\n",
    "spark = SparkSession.builder \\\n",
    "    .master(\"local[*]\") \\\n",
    "    .appName(\"Midares test job\") \\\n",
    "    .getOrCreate()"
   ],
   "metadata": {
    "collapsed": false
   },
   "id": "586b3517537af585"
  },
  {
   "cell_type": "code",
   "execution_count": null,
   "outputs": [],
   "source": [
    "def generate_month_day_list(months, start_day, end_day):\n",
    "    # Initialize an empty list to store the days\n",
    "    days_list = []\n",
    "    \n",
    "    for month in months:\n",
    "        month_start = month + start_day\n",
    "        month_end = month + end_day\n",
    "        # Convert start_day and end_day to datetime objects\n",
    "        start_date = datetime.strptime(month_start, '%m%d')\n",
    "        end_date = datetime.strptime(month_end, '%m%d')\n",
    "            \n",
    "        # Generate the days and add them to the list\n",
    "        current_date = start_date\n",
    "        while current_date <= end_date:\n",
    "            days_list.append(current_date.strftime('%m%d'))\n",
    "            current_date += timedelta(days=1)\n",
    "    \n",
    "    return days_list\n",
    "\n"
   ],
   "metadata": {
    "collapsed": false
   },
   "id": "fa87eea86a6dde15"
  },
  {
   "cell_type": "code",
   "execution_count": null,
   "outputs": [],
   "source": [
    "# test the function with given month and day\n",
    "months = ['01', '02', '03', '04', '05', '06', '07', '08', '09', '10', '11', '12']\n",
    "start_day = '17'\n",
    "end_day = '22'"
   ],
   "metadata": {
    "collapsed": false
   },
   "id": "cce10d672d2e4963"
  },
  {
   "cell_type": "code",
   "execution_count": null,
   "outputs": [],
   "source": [
    "month_day_list = generate_month_day_list(months, start_day, end_day)\n",
    "print(month_day_list)"
   ],
   "metadata": {
    "collapsed": false
   },
   "id": "7f2f14af09d8749a"
  }
 ],
 "metadata": {
  "kernelspec": {
   "display_name": "Python 3",
   "language": "python",
   "name": "python3"
  },
  "language_info": {
   "codemirror_mode": {
    "name": "ipython",
    "version": 2
   },
   "file_extension": ".py",
   "mimetype": "text/x-python",
   "name": "python",
   "nbconvert_exporter": "python",
   "pygments_lexer": "ipython2",
   "version": "2.7.6"
  }
 },
 "nbformat": 4,
 "nbformat_minor": 5
}
