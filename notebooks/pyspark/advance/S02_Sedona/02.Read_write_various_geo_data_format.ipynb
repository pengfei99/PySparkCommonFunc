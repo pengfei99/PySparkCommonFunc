{
 "cells": [
  {
   "cell_type": "markdown",
   "source": [
    "# Read write various geo data format\n",
    "\n",
    "To be able to use sedona to do geospatial operations (e.g calculate distance, area hierarchy, etc.), we need to construct geo dataframe first. A geo dataframe contains one or more columns of below type:\n",
    "- Point : a point on the map with a (x,y) coordinates\n",
    "- Line: two point which can form a line\n",
    "- Polygon: a list of point which can form a polygon\n",
    "\n",
    "The **full list of the constructor for the geo data types** can be found [here](https://sedona.apache.org/1.4.1/api/sql/Constructor/)"
   ],
   "metadata": {
    "collapsed": false
   }
  },
  {
   "cell_type": "code",
   "source": [
    "from sedona.spark import *"
   ],
   "metadata": {
    "collapsed": false,
    "ExecuteTime": {
     "end_time": "2024-11-12T09:48:28.444327Z",
     "start_time": "2024-11-12T09:48:28.159474Z"
    }
   },
   "outputs": [],
   "execution_count": 1
  },
  {
   "cell_type": "code",
   "source": [
    "# build a sedona session (sedona >= 1.4.1)\n",
    "config = SedonaContext.builder(). \\\n",
    "    config('spark.jars.packages',\n",
    "           'org.apache.sedona:sedona-spark-3.5_2.13:1.6.1,'\n",
    "           'org.datasyslab:geotools-wrapper:1.6.1-28.2'). \\\n",
    "    config('spark.jars.repositories', 'https://artifacts.unidata.ucar.edu/repository/unidata-all'). \\\n",
    "    getOrCreate()\n",
    "\n",
    "# create a sedona context\n",
    "sedona = SedonaContext.create(config)"
   ],
   "metadata": {
    "collapsed": false,
    "ExecuteTime": {
     "end_time": "2024-11-12T09:49:06.927992Z",
     "start_time": "2024-11-12T09:48:51.658944Z"
    }
   },
   "outputs": [],
   "execution_count": 2
  },
  {
   "cell_type": "markdown",
   "source": [
    "## 1. Read from CSV/TSV of plain text string\n",
    "\n",
    "In below example, we will read a normal csv file which contains two column x, y. You can notice the content of the csv is `plain text` string.\n",
    "\n",
    "### 1.1 Point example\n",
    "\n",
    "In below example, we will construct a geo dataframe which contains a **Point** column"
   ],
   "metadata": {
    "collapsed": false
   }
  },
  {
   "cell_type": "code",
   "source": [
    "data_folder_path = \"../../../../data/\"\n",
    "\n",
    "point_file_path=f\"{data_folder_path}/test_points.csv\""
   ],
   "metadata": {
    "collapsed": false,
    "ExecuteTime": {
     "end_time": "2024-11-12T10:23:34.819428Z",
     "start_time": "2024-11-12T10:23:34.802470Z"
    }
   },
   "outputs": [],
   "execution_count": 28
  },
  {
   "cell_type": "code",
   "source": [
    "# read a normal csv\n",
    "raw_point_df = sedona.read.format(\"csv\").\\\n",
    "          option(\"delimiter\",\",\").\\\n",
    "          option(\"header\",\"false\").\\\n",
    "          load(point_file_path)\n",
    "\n",
    "raw_point_df.printSchema()"
   ],
   "metadata": {
    "collapsed": false,
    "ExecuteTime": {
     "end_time": "2024-11-12T10:23:40.316304Z",
     "start_time": "2024-11-12T10:23:40.145053Z"
    }
   },
   "outputs": [
    {
     "name": "stdout",
     "output_type": "stream",
     "text": [
      "root\n",
      " |-- _c0: string (nullable = true)\n",
      " |-- _c1: string (nullable = true)\n",
      "\n"
     ]
    }
   ],
   "execution_count": 29
  },
  {
   "cell_type": "code",
   "source": [
    "raw_point_df.show(5)"
   ],
   "metadata": {
    "collapsed": false,
    "ExecuteTime": {
     "end_time": "2024-11-12T10:23:41.054935Z",
     "start_time": "2024-11-12T10:23:40.942283Z"
    }
   },
   "outputs": [
    {
     "name": "stdout",
     "output_type": "stream",
     "text": [
      "+---+-----+\n",
      "|_c0|  _c1|\n",
      "+---+-----+\n",
      "|1.1|101.1|\n",
      "|2.1|102.1|\n",
      "|3.1|103.1|\n",
      "|4.1|104.1|\n",
      "|5.1|105.1|\n",
      "+---+-----+\n",
      "only showing top 5 rows\n",
      "\n"
     ]
    }
   ],
   "execution_count": 30
  },
  {
   "cell_type": "code",
   "source": [
    "# create a temp view\n",
    "raw_point_df.createOrReplaceTempView(\"p_raw_table\")"
   ],
   "metadata": {
    "collapsed": false,
    "ExecuteTime": {
     "end_time": "2024-11-12T10:23:41.750958Z",
     "start_time": "2024-11-12T10:23:41.721223Z"
    }
   },
   "outputs": [],
   "execution_count": 31
  },
  {
   "cell_type": "code",
   "source": [
    "point_df = sedona.sql(\"select ST_Point(cast(p_raw_table._c0 as Decimal(24,20)), cast(p_raw_table._c1 as Decimal(24,20))) as point from p_raw_table\")"
   ],
   "metadata": {
    "collapsed": false,
    "ExecuteTime": {
     "end_time": "2024-11-12T10:23:42.476848Z",
     "start_time": "2024-11-12T10:23:42.428970Z"
    }
   },
   "outputs": [],
   "execution_count": 32
  },
  {
   "cell_type": "code",
   "source": [
    "point_df.show(5)"
   ],
   "metadata": {
    "collapsed": false,
    "ExecuteTime": {
     "end_time": "2024-11-12T10:23:42.975767Z",
     "start_time": "2024-11-12T10:23:42.895296Z"
    }
   },
   "outputs": [
    {
     "name": "stdout",
     "output_type": "stream",
     "text": [
      "+-----------------+\n",
      "|            point|\n",
      "+-----------------+\n",
      "|POINT (1.1 101.1)|\n",
      "|POINT (2.1 102.1)|\n",
      "|POINT (3.1 103.1)|\n",
      "|POINT (4.1 104.1)|\n",
      "|POINT (5.1 105.1)|\n",
      "+-----------------+\n",
      "only showing top 5 rows\n",
      "\n"
     ]
    }
   ],
   "execution_count": 33
  },
  {
   "cell_type": "code",
   "source": [
    "point_df.printSchema()"
   ],
   "metadata": {
    "collapsed": false,
    "ExecuteTime": {
     "end_time": "2024-11-12T10:23:43.241614Z",
     "start_time": "2024-11-12T10:23:43.229514Z"
    }
   },
   "outputs": [
    {
     "name": "stdout",
     "output_type": "stream",
     "text": [
      "root\n",
      " |-- point: geometry (nullable = true)\n",
      "\n"
     ]
    }
   ],
   "execution_count": 34
  },
  {
   "cell_type": "markdown",
   "source": [
    "> You can notice that, we used the constructor **ST_Point()** to build the point column.\n",
    "\n"
   ],
   "metadata": {
    "collapsed": false
   }
  },
  {
   "cell_type": "markdown",
   "source": [
    "### 1.2 Line example\n",
    "\n",
    "To create a line type, we can use the constructor **ST_LineStringFromText (Text:string, Delimiter:char)**\n"
   ],
   "metadata": {
    "collapsed": false
   }
  },
  {
   "cell_type": "code",
   "source": [
    "line_df1 = sedona.sql(\"SELECT ST_LineStringFromText('-74.0428197,40.6867969,-74.0421975,40.6921336,-74.0508020,40.6912794', ',') AS line_col\")"
   ],
   "metadata": {
    "collapsed": false,
    "ExecuteTime": {
     "end_time": "2024-11-12T10:23:45.597516Z",
     "start_time": "2024-11-12T10:23:45.573Z"
    }
   },
   "outputs": [],
   "execution_count": 35
  },
  {
   "cell_type": "code",
   "source": [
    "line_df1.show()"
   ],
   "metadata": {
    "collapsed": false,
    "ExecuteTime": {
     "end_time": "2024-11-12T10:23:47.573731Z",
     "start_time": "2024-11-12T10:23:47.506174Z"
    }
   },
   "outputs": [
    {
     "name": "stdout",
     "output_type": "stream",
     "text": [
      "+--------------------+\n",
      "|            line_col|\n",
      "+--------------------+\n",
      "|LINESTRING (-74.0...|\n",
      "+--------------------+\n",
      "\n"
     ]
    }
   ],
   "execution_count": 36
  },
  {
   "cell_type": "code",
   "source": [
    "line_df1.printSchema()"
   ],
   "metadata": {
    "collapsed": false,
    "ExecuteTime": {
     "end_time": "2024-11-12T10:23:47.902434Z",
     "start_time": "2024-11-12T10:23:47.889882Z"
    }
   },
   "outputs": [
    {
     "name": "stdout",
     "output_type": "stream",
     "text": [
      "root\n",
      " |-- line_col: geometry (nullable = true)\n",
      "\n"
     ]
    }
   ],
   "execution_count": 37
  },
  {
   "cell_type": "markdown",
   "source": [
    "### 1.3 Polygon example\n",
    "\n",
    "We have seen the below example for the section 1. We will use the constructor **ST_GeomFromText()**"
   ],
   "metadata": {
    "collapsed": false
   }
  },
  {
   "cell_type": "code",
   "source": "county_small_path=f\"{data_folder_path}/county_small.tsv\"",
   "metadata": {
    "collapsed": false,
    "ExecuteTime": {
     "end_time": "2024-11-12T10:23:49.880103Z",
     "start_time": "2024-11-12T10:23:49.870844Z"
    }
   },
   "outputs": [],
   "execution_count": 38
  },
  {
   "cell_type": "code",
   "source": [
    "raw_poly_df = sedona.read.format(\"csv\").option(\"delimiter\", \"\\t\").option(\"header\", \"false\").load(county_small_path)\n",
    "raw_poly_df.createOrReplaceTempView(\"gon_raw_table\")\n",
    "raw_poly_df.show()"
   ],
   "metadata": {
    "collapsed": false,
    "ExecuteTime": {
     "end_time": "2024-11-12T10:23:50.729885Z",
     "start_time": "2024-11-12T10:23:50.463866Z"
    }
   },
   "outputs": [
    {
     "name": "stdout",
     "output_type": "stream",
     "text": [
      "+--------------------+---+---+--------+-----+-----------+--------------------+---+---+-----+----+-----+----+----+----------+--------+-----------+------------+\n",
      "|                 _c0|_c1|_c2|     _c3|  _c4|        _c5|                 _c6|_c7|_c8|  _c9|_c10| _c11|_c12|_c13|      _c14|    _c15|       _c16|        _c17|\n",
      "+--------------------+---+---+--------+-----+-----------+--------------------+---+---+-----+----+-----+----+----+----------+--------+-----------+------------+\n",
      "|POLYGON ((-97.019...| 31|039|00835841|31039|     Cuming|       Cuming County| 06| H1|G4020|NULL| NULL|NULL|   A|1477895811|10447360|+41.9158651|-096.7885168|\n",
      "|POLYGON ((-123.43...| 53|069|01513275|53069|  Wahkiakum|    Wahkiakum County| 06| H1|G4020|NULL| NULL|NULL|   A| 682138871|61658258|+46.2946377|-123.4244583|\n",
      "|POLYGON ((-104.56...| 35|011|00933054|35011|    De Baca|      De Baca County| 06| H1|G4020|NULL| NULL|NULL|   A|6015539696|29159492|+34.3592729|-104.3686961|\n",
      "|POLYGON ((-96.910...| 31|109|00835876|31109|  Lancaster|    Lancaster County| 06| H1|G4020| 339|30700|NULL|   A|2169240202|22877180|+40.7835474|-096.6886584|\n",
      "|POLYGON ((-98.273...| 31|129|00835886|31129|   Nuckolls|     Nuckolls County| 06| H1|G4020|NULL| NULL|NULL|   A|1489645187| 1718484|+40.1764918|-098.0468422|\n",
      "|POLYGON ((-65.910...| 72|085|01804523|72085|Las Piedras|Las Piedras Munic...| 13| H1|G4020| 490|41980|NULL|   A|  87748363|   32509|+18.1871483|-065.8711890|\n",
      "|POLYGON ((-97.129...| 46|099|01265772|46099|  Minnehaha|    Minnehaha County| 06| H1|G4020|NULL|43620|NULL|   A|2090540341|17349847|+43.6674723|-096.7957261|\n",
      "|POLYGON ((-99.821...| 48|327|01383949|48327|     Menard|       Menard County| 06| H1|G4020|NULL| NULL|NULL|   A|2336245914|  613559|+30.8843655|-099.8539896|\n",
      "|POLYGON ((-120.65...| 06|091|00277310|06091|     Sierra|       Sierra County| 06| H1|G4020|NULL| NULL|NULL|   A|2468686374|23299110|+39.5769252|-120.5219926|\n",
      "|POLYGON ((-85.239...| 21|053|00516873|21053|    Clinton|      Clinton County| 06| H1|G4020|NULL| NULL|NULL|   A| 510864252|21164150|+36.7288647|-085.1534262|\n",
      "|POLYGON ((-83.880...| 39|063|01074044|39063|    Hancock|      Hancock County| 06| H1|G4020| 248|22300|NULL|   A|1376210232| 5959837|+41.0004711|-083.6660335|\n",
      "|POLYGON ((-102.08...| 48|189|01383880|48189|       Hale|         Hale County| 06| H1|G4020|NULL|38380|NULL|   A|2602115649|  246678|+34.0684364|-101.8228879|\n",
      "|POLYGON ((-85.978...| 01|027|00161539|01027|       Clay|         Clay County| 06| H1|G4020|NULL| NULL|NULL|   A|1564252367| 5284573|+33.2703999|-085.8635254|\n",
      "|POLYGON ((-101.62...| 48|011|01383791|48011|  Armstrong|    Armstrong County| 06| H1|G4020| 108|11100|NULL|   A|2354581764|12219587|+34.9641790|-101.3566363|\n",
      "|POLYGON ((-84.397...| 39|003|01074015|39003|      Allen|        Allen County| 06| H1|G4020| 338|30620|NULL|   A|1042470093|11266164|+40.7716274|-084.1061032|\n",
      "|POLYGON ((-82.449...| 13|189|00348794|13189|   McDuffie|     McDuffie County| 06| H1|G4020|NULL|12260|NULL|   A| 666816637|23116292|+33.4824637|-082.4731880|\n",
      "|POLYGON ((-90.191...| 55|111|01581115|55111|       Sauk|         Sauk County| 06| H1|G4020| 357|12660|NULL|   A|2152007753|45296336|+43.4279976|-089.9433290|\n",
      "|POLYGON ((-92.415...| 05|137|00069902|05137|      Stone|        Stone County| 06| H1|G4020|NULL| NULL|NULL|   A|1570579427| 7841929|+35.8570312|-092.1405728|\n",
      "|POLYGON ((-117.74...| 41|063|01155135|41063|    Wallowa|      Wallowa County| 06| H1|G4020|NULL| NULL|NULL|   A|8148602810|14199330|+45.5937530|-117.1855796|\n",
      "|POLYGON ((-80.518...| 42|007|01214112|42007|     Beaver|       Beaver County| 06| H1|G4020| 430|38300|NULL|   A|1125901160|24165972|+40.6841401|-080.3507209|\n",
      "+--------------------+---+---+--------+-----+-----------+--------------------+---+---+-----+----+-----+----+----+----------+--------+-----------+------------+\n",
      "only showing top 20 rows\n",
      "\n"
     ]
    }
   ],
   "execution_count": 39
  },
  {
   "cell_type": "code",
   "source": [
    "raw_poly_df.printSchema()"
   ],
   "metadata": {
    "collapsed": false,
    "ExecuteTime": {
     "end_time": "2024-11-12T10:23:52.130763Z",
     "start_time": "2024-11-12T10:23:52.117304Z"
    }
   },
   "outputs": [
    {
     "name": "stdout",
     "output_type": "stream",
     "text": [
      "root\n",
      " |-- _c0: string (nullable = true)\n",
      " |-- _c1: string (nullable = true)\n",
      " |-- _c2: string (nullable = true)\n",
      " |-- _c3: string (nullable = true)\n",
      " |-- _c4: string (nullable = true)\n",
      " |-- _c5: string (nullable = true)\n",
      " |-- _c6: string (nullable = true)\n",
      " |-- _c7: string (nullable = true)\n",
      " |-- _c8: string (nullable = true)\n",
      " |-- _c9: string (nullable = true)\n",
      " |-- _c10: string (nullable = true)\n",
      " |-- _c11: string (nullable = true)\n",
      " |-- _c12: string (nullable = true)\n",
      " |-- _c13: string (nullable = true)\n",
      " |-- _c14: string (nullable = true)\n",
      " |-- _c15: string (nullable = true)\n",
      " |-- _c16: string (nullable = true)\n",
      " |-- _c17: string (nullable = true)\n",
      "\n"
     ]
    }
   ],
   "execution_count": 40
  },
  {
   "cell_type": "code",
   "source": [
    "polygon_df=sedona.sql(\"select ST_GeomFromText(gon_raw_table._c0) as county_shape, gon_raw_table._c6 as county_name from gon_raw_table\")\n",
    "polygon_df.show(5)"
   ],
   "metadata": {
    "collapsed": false,
    "ExecuteTime": {
     "end_time": "2024-11-12T10:23:52.962877Z",
     "start_time": "2024-11-12T10:23:52.834900Z"
    }
   },
   "outputs": [
    {
     "name": "stdout",
     "output_type": "stream",
     "text": [
      "+--------------------+----------------+\n",
      "|        county_shape|     county_name|\n",
      "+--------------------+----------------+\n",
      "|POLYGON ((-97.019...|   Cuming County|\n",
      "|POLYGON ((-123.43...|Wahkiakum County|\n",
      "|POLYGON ((-104.56...|  De Baca County|\n",
      "|POLYGON ((-96.910...|Lancaster County|\n",
      "|POLYGON ((-98.273...| Nuckolls County|\n",
      "+--------------------+----------------+\n",
      "only showing top 5 rows\n",
      "\n"
     ]
    }
   ],
   "execution_count": 41
  },
  {
   "cell_type": "code",
   "source": [
    "polygon_df.printSchema()"
   ],
   "metadata": {
    "collapsed": false,
    "ExecuteTime": {
     "end_time": "2024-11-12T10:23:53.372231Z",
     "start_time": "2024-11-12T10:23:53.361805Z"
    }
   },
   "outputs": [
    {
     "name": "stdout",
     "output_type": "stream",
     "text": [
      "root\n",
      " |-- county_shape: geometry (nullable = true)\n",
      " |-- county_name: string (nullable = true)\n",
      "\n"
     ]
    }
   ],
   "execution_count": 42
  },
  {
   "metadata": {},
   "cell_type": "markdown",
   "source": [
    "## 1.4 Read wkt and wkb file\n",
    "\n",
    "Geometries in a `WKT and WKB` file always occupy a single column no matter how many coordinates they have. Sedona provides `WktReader and WkbReader` to create generic SpatialRDD. Then we need to convert the spatial rdd to dataframe.\n",
    "\n",
    "> You must use the wkt reader to read wkt file, and wkb reader to read wkb file."
   ]
  },
  {
   "cell_type": "code",
   "source": "polygon_wkb_file_path=f\"{data_folder_path}/county_small_wkb.tsv\"",
   "metadata": {
    "collapsed": false,
    "ExecuteTime": {
     "end_time": "2024-11-12T10:26:11.036567Z",
     "start_time": "2024-11-12T10:26:11.019710Z"
    }
   },
   "outputs": [],
   "execution_count": 48
  },
  {
   "metadata": {
    "ExecuteTime": {
     "end_time": "2024-11-12T10:26:11.551280Z",
     "start_time": "2024-11-12T10:26:11.543648Z"
    }
   },
   "cell_type": "code",
   "source": [
    "from sedona.core.formatMapper import WktReader\n",
    "from sedona.core.formatMapper import WkbReader"
   ],
   "outputs": [],
   "execution_count": 49
  },
  {
   "metadata": {
    "ExecuteTime": {
     "end_time": "2024-11-12T11:09:01.922714Z",
     "start_time": "2024-11-12T11:09:01.777351Z"
    }
   },
   "cell_type": "code",
   "source": [
    "# The WKT string starts from Column 0\n",
    "wktColumn = 0 \n",
    "allowTopologyInvalidGeometries = True\n",
    "skipSyntaxInvalidGeometries = False\n",
    "\n",
    "spatialRdd = WkbReader.readToGeometryRDD(sedona.sparkContext, polygon_wkb_file_path, wktColumn, allowTopologyInvalidGeometries, skipSyntaxInvalidGeometries)\n",
    "\n",
    "#WkbReader.readToGeometryRDD(sc, wkb_geometries_location, 0, True, False)"
   ],
   "outputs": [],
   "execution_count": 66
  },
  {
   "metadata": {
    "ExecuteTime": {
     "end_time": "2024-11-12T11:10:06.854575Z",
     "start_time": "2024-11-12T11:10:06.831882Z"
    }
   },
   "cell_type": "code",
   "source": [
    "from sedona.utils.adapter import Adapter\n",
    "county_small_df = Adapter.toDf(spatialRdd,sedona)\n",
    "county_small_df.createOrReplaceTempView(\"county_small_table\")\n"
   ],
   "outputs": [],
   "execution_count": 69
  },
  {
   "metadata": {
    "ExecuteTime": {
     "end_time": "2024-11-12T11:10:02.846719Z",
     "start_time": "2024-11-12T11:10:02.755284Z"
    }
   },
   "cell_type": "code",
   "source": "county_small_df.show(5)",
   "outputs": [
    {
     "name": "stdout",
     "output_type": "stream",
     "text": [
      "+--------------------+\n",
      "|            geometry|\n",
      "+--------------------+\n",
      "|POLYGON ((-97.019...|\n",
      "|POLYGON ((-123.43...|\n",
      "|POLYGON ((-104.56...|\n",
      "|POLYGON ((-96.910...|\n",
      "|POLYGON ((-98.273...|\n",
      "+--------------------+\n",
      "only showing top 5 rows\n",
      "\n"
     ]
    }
   ],
   "execution_count": 68
  },
  {
   "cell_type": "markdown",
   "source": [
    "## 3. Read from geojson\n",
    "\n",
    "Pay attention to the below example, even thought spark can read json properly. But we still use read csv. As a result, the `raw_polygon_json_df` is a dataframe with one column."
   ],
   "metadata": {
    "collapsed": false
   }
  },
  {
   "metadata": {},
   "cell_type": "code",
   "outputs": [],
   "execution_count": null,
   "source": ""
  },
  {
   "cell_type": "code",
   "source": "poly_json_file_path = f\"{data_folder_path}/test_polygon.json\"",
   "metadata": {
    "collapsed": false,
    "ExecuteTime": {
     "end_time": "2024-11-12T10:33:51.574862Z",
     "start_time": "2024-11-12T10:33:51.562804Z"
    }
   },
   "outputs": [],
   "execution_count": 55
  },
  {
   "cell_type": "code",
   "source": [
    "raw_polygon_json_df = sedona.read.format(\"csv\").\\\n",
    "    option(\"delimiter\", \"\\t\").\\\n",
    "    option(\"header\", \"false\").\\\n",
    "    load(poly_json_file_path)\n",
    "\n",
    "raw_polygon_json_df.show()"
   ],
   "metadata": {
    "collapsed": false,
    "ExecuteTime": {
     "end_time": "2024-11-12T10:33:52.405267Z",
     "start_time": "2024-11-12T10:33:52.223147Z"
    }
   },
   "outputs": [
    {
     "name": "stdout",
     "output_type": "stream",
     "text": [
      "+--------------------+\n",
      "|                 _c0|\n",
      "+--------------------+\n",
      "|{ \"type\": \"Featur...|\n",
      "|{ \"type\": \"Featur...|\n",
      "|{ \"type\": \"Featur...|\n",
      "|{ \"type\": \"Featur...|\n",
      "|{ \"type\": \"Featur...|\n",
      "|{ \"type\": \"Featur...|\n",
      "|{ \"type\": \"Featur...|\n",
      "|{ \"type\": \"Featur...|\n",
      "|{ \"type\": \"Featur...|\n",
      "|{ \"type\": \"Featur...|\n",
      "|{ \"type\": \"Featur...|\n",
      "|{ \"type\": \"Featur...|\n",
      "|{ \"type\": \"Featur...|\n",
      "|{ \"type\": \"Featur...|\n",
      "|{ \"type\": \"Featur...|\n",
      "|{ \"type\": \"Featur...|\n",
      "|{ \"type\": \"Featur...|\n",
      "|{ \"type\": \"Featur...|\n",
      "|{ \"type\": \"Featur...|\n",
      "|{ \"type\": \"Featur...|\n",
      "+--------------------+\n",
      "only showing top 20 rows\n",
      "\n"
     ]
    }
   ],
   "execution_count": 56
  },
  {
   "cell_type": "code",
   "source": [
    "raw_polygon_json_df.printSchema()"
   ],
   "metadata": {
    "collapsed": false,
    "ExecuteTime": {
     "end_time": "2024-11-12T10:33:53.410431Z",
     "start_time": "2024-11-12T10:33:53.396336Z"
    }
   },
   "outputs": [
    {
     "name": "stdout",
     "output_type": "stream",
     "text": [
      "root\n",
      " |-- _c0: string (nullable = true)\n",
      "\n"
     ]
    }
   ],
   "execution_count": 57
  },
  {
   "cell_type": "code",
   "source": [
    "raw_polygon_json_df.createOrReplaceTempView(\"raw_poly_json_table\")\n",
    "polygon_json_df = sedona.sql(\"select ST_GeomFromGeoJSON(raw_poly_json_table._c0) as countyshape from raw_poly_json_table\")\n",
    "polygon_json_df.show(5)"
   ],
   "metadata": {
    "collapsed": false,
    "ExecuteTime": {
     "end_time": "2024-11-12T10:33:59.523102Z",
     "start_time": "2024-11-12T10:33:59.433550Z"
    }
   },
   "outputs": [
    {
     "name": "stdout",
     "output_type": "stream",
     "text": [
      "+--------------------+\n",
      "|         countyshape|\n",
      "+--------------------+\n",
      "|POLYGON ((-87.621...|\n",
      "|POLYGON ((-85.719...|\n",
      "|POLYGON ((-86.000...|\n",
      "|POLYGON ((-86.574...|\n",
      "|POLYGON ((-85.382...|\n",
      "+--------------------+\n",
      "only showing top 5 rows\n",
      "\n"
     ]
    }
   ],
   "execution_count": 58
  },
  {
   "cell_type": "code",
   "source": [
    "polygon_json_df.printSchema()"
   ],
   "metadata": {
    "collapsed": false,
    "ExecuteTime": {
     "end_time": "2024-11-12T10:34:01.033243Z",
     "start_time": "2024-11-12T10:34:01.019664Z"
    }
   },
   "outputs": [
    {
     "name": "stdout",
     "output_type": "stream",
     "text": [
      "root\n",
      " |-- countyshape: geometry (nullable = false)\n",
      "\n"
     ]
    }
   ],
   "execution_count": 59
  },
  {
   "metadata": {},
   "cell_type": "markdown",
   "source": [
    "### 3.1 Read geo json by using the sedona GeoJsonReader\n",
    "  \n",
    "Sedona also provides a predefined function `GeoJsonReader`. Below is an code example"
   ]
  },
  {
   "metadata": {
    "ExecuteTime": {
     "end_time": "2024-11-12T11:16:18.772078Z",
     "start_time": "2024-11-12T11:16:18.756422Z"
    }
   },
   "cell_type": "code",
   "source": "from sedona.core.formatMapper import GeoJsonReader",
   "outputs": [],
   "execution_count": 71
  },
  {
   "metadata": {
    "ExecuteTime": {
     "end_time": "2024-11-12T11:16:16.313219Z",
     "start_time": "2024-11-12T11:16:16.185281Z"
    }
   },
   "cell_type": "code",
   "source": [
    "geojson_sp_rdd = GeoJsonReader.readToGeometryRDD(sedona.sparkContext, poly_json_file_path)\n",
    "geojson_df = Adapter.toDf(geojson_sp_rdd,sedona)"
   ],
   "outputs": [],
   "execution_count": 70
  },
  {
   "metadata": {
    "ExecuteTime": {
     "end_time": "2024-11-12T11:16:36.896989Z",
     "start_time": "2024-11-12T11:16:36.743595Z"
    }
   },
   "cell_type": "code",
   "source": "geojson_df.show(5)",
   "outputs": [
    {
     "name": "stdout",
     "output_type": "stream",
     "text": [
      "+--------------------+-------+--------+-------+--------+--------------------+------------+----+----+--------+------+\n",
      "|            geometry|STATEFP|COUNTYFP|TRACTCE|BLKGRPCE|            AFFGEOID|       GEOID|NAME|LSAD|   ALAND|AWATER|\n",
      "+--------------------+-------+--------+-------+--------+--------------------+------------+----+----+--------+------+\n",
      "|POLYGON ((-87.621...|     01|     077| 011501|       5|1500000US01077011...|010770115015|   5|  BG| 6844991| 32636|\n",
      "|POLYGON ((-85.719...|     01|     045| 021102|       4|1500000US01045021...|010450211024|   4|  BG|11360854|     0|\n",
      "|POLYGON ((-86.000...|     01|     055| 001300|       3|1500000US01055001...|010550013003|   3|  BG| 1378742|247387|\n",
      "|POLYGON ((-86.574...|     01|     089| 001700|       2|1500000US01089001...|010890017002|   2|  BG| 1040641|     0|\n",
      "|POLYGON ((-85.382...|     01|     069| 041400|       1|1500000US01069041...|010690414001|   1|  BG| 8243574|     0|\n",
      "+--------------------+-------+--------+-------+--------+--------------------+------------+----+----+--------+------+\n",
      "only showing top 5 rows\n",
      "\n"
     ]
    }
   ],
   "execution_count": 72
  },
  {
   "metadata": {},
   "cell_type": "markdown",
   "source": [
    "# 4. Read shape file\n",
    "\n",
    "To read shape file, before 1.7. We have to create a spatial rdd first, then we convert it to a dataframe\n",
    "\n",
    "After 1.7, we can directly read it as a dataframe(1.7 is not released officially at 12/11/2024)\n",
    "Below is an example of code in 1.7\n",
    "```python\n",
    "df = sedona.read.format(\"shapefile\").load(\"/path/to/shapefile\")\n",
    "```"
   ]
  },
  {
   "metadata": {
    "ExecuteTime": {
     "end_time": "2024-11-12T11:04:34.865875Z",
     "start_time": "2024-11-12T11:04:34.771962Z"
    }
   },
   "cell_type": "code",
   "source": [
    "from sedona.utils.adapter import Adapter\n",
    "\n",
    "airport_shape=f\"{data_folder_path}/airports_shape\"\n",
    "\n",
    "ap_spatial_rdd= ShapefileReader.readToGeometryRDD(sedona.sparkContext,airport_shape)\n",
    "\n",
    "# Create DataFrame from RDD and schema\n",
    "airport_shape_df = Adapter.toDf(ap_spatial_rdd,sedona)\n"
   ],
   "outputs": [],
   "execution_count": 64
  },
  {
   "metadata": {
    "ExecuteTime": {
     "end_time": "2024-11-12T11:04:44.474111Z",
     "start_time": "2024-11-12T11:04:44.294556Z"
    }
   },
   "cell_type": "code",
   "source": "airport_shape_df.show(5)\n",
   "outputs": [
    {
     "name": "stdout",
     "output_type": "stream",
     "text": [
      "+--------------------+---------+----------+-----+----------------+------+--------+--------+---------+--------------------+---------+\n",
      "|            geometry|scalerank|featurecla| type|            name|abbrev|location|gps_code|iata_code|           wikipedia|natlscale|\n",
      "+--------------------+---------+----------+-----+----------------+------+--------+--------+---------+--------------------+---------+\n",
      "|POINT (113.935016...|        2|   Airport|major| Hong Kong Int'l|   HKG|terminal|    VHHH|      HKG|http://en.wikiped...|  150.000|\n",
      "|POINT (121.231370...|        2|   Airport|major|         Taoyuan|   TPE|terminal|    RCTP|      TPE|http://en.wikiped...|  150.000|\n",
      "|POINT (4.76437693...|        2|   Airport|major|        Schiphol|   AMS|terminal|    EHAM|      AMS|http://en.wikiped...|  150.000|\n",
      "|POINT (103.986413...|        2|   Airport|major|Singapore Changi|   SIN|terminal|    WSSS|      SIN|http://en.wikiped...|  150.000|\n",
      "|POINT (-0.4531566...|        2|   Airport|major| London Heathrow|   LHR| parking|    EGLL|      LHR|http://en.wikiped...|  150.000|\n",
      "+--------------------+---------+----------+-----+----------------+------+--------+--------+---------+--------------------+---------+\n",
      "only showing top 5 rows\n",
      "\n"
     ]
    }
   ],
   "execution_count": 65
  },
  {
   "metadata": {},
   "cell_type": "code",
   "outputs": [],
   "execution_count": null,
   "source": ""
  }
 ],
 "metadata": {
  "kernelspec": {
   "display_name": "Python 3",
   "language": "python",
   "name": "python3"
  },
  "language_info": {
   "codemirror_mode": {
    "name": "ipython",
    "version": 2
   },
   "file_extension": ".py",
   "mimetype": "text/x-python",
   "name": "python",
   "nbconvert_exporter": "python",
   "pygments_lexer": "ipython2",
   "version": "2.7.6"
  }
 },
 "nbformat": 4,
 "nbformat_minor": 0
}
