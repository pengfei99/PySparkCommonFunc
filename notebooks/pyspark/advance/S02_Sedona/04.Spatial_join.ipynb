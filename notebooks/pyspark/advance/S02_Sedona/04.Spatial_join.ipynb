{
 "cells": [
  {
   "cell_type": "markdown",
   "source": [
    "# Spatial join\n",
    "\n"
   ],
   "metadata": {
    "collapsed": false
   }
  },
  {
   "cell_type": "code",
   "execution_count": null,
   "outputs": [],
   "source": [],
   "metadata": {
    "collapsed": false
   }
  },
  {
   "cell_type": "code",
   "execution_count": 25,
   "outputs": [],
   "source": [
    "from sedona.spark import *\n",
    "from pyspark.sql.functions import col\n",
    "import geopandas as gpd\n",
    "from keplergl import KeplerGl\n"
   ],
   "metadata": {
    "collapsed": false
   }
  },
  {
   "cell_type": "code",
   "execution_count": 2,
   "outputs": [
    {
     "name": "stdout",
     "output_type": "stream",
     "text": [
      "23/07/21 10:06:54 WARN Utils: Your hostname, pengfei-Virtual-Machine resolves to a loopback address: 127.0.1.1; using 10.50.2.80 instead (on interface eth0)\n",
      "23/07/21 10:06:55 WARN Utils: Set SPARK_LOCAL_IP if you need to bind to another address\n",
      ":: loading settings :: url = jar:file:/home/pengfei/opt/spark-3.3.0/jars/ivy-2.5.0.jar!/org/apache/ivy/core/settings/ivysettings.xml\n"
     ]
    },
    {
     "name": "stderr",
     "output_type": "stream",
     "text": [
      "Ivy Default Cache set to: /home/pengfei/.ivy2/cache\n",
      "The jars for the packages stored in: /home/pengfei/.ivy2/jars\n",
      "org.apache.sedona#sedona-spark-shaded-3.0_2.12 added as a dependency\n",
      "org.datasyslab#geotools-wrapper added as a dependency\n",
      ":: resolving dependencies :: org.apache.spark#spark-submit-parent-ec2a8460-9114-4802-a262-94a3de9ffc6a;1.0\n",
      "\tconfs: [default]\n",
      "\tfound org.apache.sedona#sedona-spark-shaded-3.0_2.12;1.4.1 in central\n",
      "\tfound org.datasyslab#geotools-wrapper;1.4.0-28.2 in central\n",
      ":: resolution report :: resolve 260ms :: artifacts dl 20ms\n",
      "\t:: modules in use:\n",
      "\torg.apache.sedona#sedona-spark-shaded-3.0_2.12;1.4.1 from central in [default]\n",
      "\torg.datasyslab#geotools-wrapper;1.4.0-28.2 from central in [default]\n",
      "\t---------------------------------------------------------------------\n",
      "\t|                  |            modules            ||   artifacts   |\n",
      "\t|       conf       | number| search|dwnlded|evicted|| number|dwnlded|\n",
      "\t---------------------------------------------------------------------\n",
      "\t|      default     |   2   |   0   |   0   |   0   ||   2   |   0   |\n",
      "\t---------------------------------------------------------------------\n",
      ":: retrieving :: org.apache.spark#spark-submit-parent-ec2a8460-9114-4802-a262-94a3de9ffc6a\n",
      "\tconfs: [default]\n",
      "\t0 artifacts copied, 2 already retrieved (0kB/5ms)\n"
     ]
    },
    {
     "name": "stdout",
     "output_type": "stream",
     "text": [
      "23/07/21 10:06:56 WARN NativeCodeLoader: Unable to load native-hadoop library for your platform... using builtin-java classes where applicable\n"
     ]
    },
    {
     "name": "stderr",
     "output_type": "stream",
     "text": [
      "Setting default log level to \"WARN\".\n",
      "To adjust logging level use sc.setLogLevel(newLevel). For SparkR, use setLogLevel(newLevel).\n",
      "                                                                                \r"
     ]
    }
   ],
   "source": [
    "# build a sedona session (sedona >= 1.4.1)\n",
    "config = SedonaContext.builder(). \\\n",
    "    config('spark.jars.packages',\n",
    "           'org.apache.sedona:sedona-spark-shaded-3.0_2.12:1.4.1,'\n",
    "           'org.datasyslab:geotools-wrapper:1.4.0-28.2'). \\\n",
    "    getOrCreate()\n",
    "\n",
    "# create a sedona context\n",
    "sedona = SedonaContext.create(config)\n",
    "\n",
    "# get the spark context\n",
    "sc = sedona.sparkContext\n",
    "sc.setSystemProperty(\"sedona.global.charset\", \"utf8\")"
   ],
   "metadata": {
    "collapsed": false
   }
  },
  {
   "cell_type": "code",
   "execution_count": 3,
   "outputs": [],
   "source": [],
   "metadata": {
    "collapsed": false
   }
  },
  {
   "cell_type": "markdown",
   "source": [
    "## 1. Read shape files"
   ],
   "metadata": {
    "collapsed": false
   }
  },
  {
   "cell_type": "code",
   "execution_count": 3,
   "outputs": [],
   "source": [
    "airports_file_path = \"/home/pengfei/data_set/kaggle/geospatial/airports_shape\"\n",
    "countries_file_path = \"/home/pengfei/data_set/kaggle/geospatial/countries_shape\""
   ],
   "metadata": {
    "collapsed": false
   }
  },
  {
   "cell_type": "code",
   "execution_count": 4,
   "outputs": [
    {
     "name": "stdout",
     "output_type": "stream",
     "text": [
      "23/07/21 10:07:09 WARN package: Truncated the string representation of a plan since it was too large. This behavior can be adjusted by setting 'spark.sql.debug.maxToStringFields'.\n",
      "root\n",
      " |-- geometry: geometry (nullable = true)\n",
      " |-- featurecla: string (nullable = true)\n",
      " |-- scalerank: string (nullable = true)\n",
      " |-- LABELRANK: string (nullable = true)\n",
      " |-- SOVEREIGNT: string (nullable = true)\n",
      " |-- SOV_A3: string (nullable = true)\n",
      " |-- ADM0_DIF: string (nullable = true)\n",
      " |-- LEVEL: string (nullable = true)\n",
      " |-- TYPE: string (nullable = true)\n",
      " |-- ADMIN: string (nullable = true)\n",
      " |-- ADM0_A3: string (nullable = true)\n",
      " |-- GEOU_DIF: string (nullable = true)\n",
      " |-- GEOUNIT: string (nullable = true)\n",
      " |-- GU_A3: string (nullable = true)\n",
      " |-- SU_DIF: string (nullable = true)\n",
      " |-- SUBUNIT: string (nullable = true)\n",
      " |-- SU_A3: string (nullable = true)\n",
      " |-- BRK_DIFF: string (nullable = true)\n",
      " |-- NAME: string (nullable = true)\n",
      " |-- NAME_LONG: string (nullable = true)\n",
      " |-- BRK_A3: string (nullable = true)\n",
      " |-- BRK_NAME: string (nullable = true)\n",
      " |-- BRK_GROUP: string (nullable = true)\n",
      " |-- ABBREV: string (nullable = true)\n",
      " |-- POSTAL: string (nullable = true)\n",
      " |-- FORMAL_EN: string (nullable = true)\n",
      " |-- FORMAL_FR: string (nullable = true)\n",
      " |-- NAME_CIAWF: string (nullable = true)\n",
      " |-- NOTE_ADM0: string (nullable = true)\n",
      " |-- NOTE_BRK: string (nullable = true)\n",
      " |-- NAME_SORT: string (nullable = true)\n",
      " |-- NAME_ALT: string (nullable = true)\n",
      " |-- MAPCOLOR7: string (nullable = true)\n",
      " |-- MAPCOLOR8: string (nullable = true)\n",
      " |-- MAPCOLOR9: string (nullable = true)\n",
      " |-- MAPCOLOR13: string (nullable = true)\n",
      " |-- POP_EST: string (nullable = true)\n",
      " |-- POP_RANK: string (nullable = true)\n",
      " |-- GDP_MD_EST: string (nullable = true)\n",
      " |-- POP_YEAR: string (nullable = true)\n",
      " |-- LASTCENSUS: string (nullable = true)\n",
      " |-- GDP_YEAR: string (nullable = true)\n",
      " |-- ECONOMY: string (nullable = true)\n",
      " |-- INCOME_GRP: string (nullable = true)\n",
      " |-- WIKIPEDIA: string (nullable = true)\n",
      " |-- FIPS_10_: string (nullable = true)\n",
      " |-- ISO_A2: string (nullable = true)\n",
      " |-- ISO_A3: string (nullable = true)\n",
      " |-- ISO_A3_EH: string (nullable = true)\n",
      " |-- ISO_N3: string (nullable = true)\n",
      " |-- UN_A3: string (nullable = true)\n",
      " |-- WB_A2: string (nullable = true)\n",
      " |-- WB_A3: string (nullable = true)\n",
      " |-- WOE_ID: string (nullable = true)\n",
      " |-- WOE_ID_EH: string (nullable = true)\n",
      " |-- WOE_NOTE: string (nullable = true)\n",
      " |-- ADM0_A3_IS: string (nullable = true)\n",
      " |-- ADM0_A3_US: string (nullable = true)\n",
      " |-- ADM0_A3_UN: string (nullable = true)\n",
      " |-- ADM0_A3_WB: string (nullable = true)\n",
      " |-- CONTINENT: string (nullable = true)\n",
      " |-- REGION_UN: string (nullable = true)\n",
      " |-- SUBREGION: string (nullable = true)\n",
      " |-- REGION_WB: string (nullable = true)\n",
      " |-- NAME_LEN: string (nullable = true)\n",
      " |-- LONG_LEN: string (nullable = true)\n",
      " |-- ABBREV_LEN: string (nullable = true)\n",
      " |-- TINY: string (nullable = true)\n",
      " |-- HOMEPART: string (nullable = true)\n",
      " |-- MIN_ZOOM: string (nullable = true)\n",
      " |-- MIN_LABEL: string (nullable = true)\n",
      " |-- MAX_LABEL: string (nullable = true)\n",
      " |-- NE_ID: string (nullable = true)\n",
      " |-- WIKIDATAID: string (nullable = true)\n",
      " |-- NAME_AR: string (nullable = true)\n",
      " |-- NAME_BN: string (nullable = true)\n",
      " |-- NAME_DE: string (nullable = true)\n",
      " |-- NAME_EN: string (nullable = true)\n",
      " |-- NAME_ES: string (nullable = true)\n",
      " |-- NAME_FR: string (nullable = true)\n",
      " |-- NAME_EL: string (nullable = true)\n",
      " |-- NAME_HI: string (nullable = true)\n",
      " |-- NAME_HU: string (nullable = true)\n",
      " |-- NAME_ID: string (nullable = true)\n",
      " |-- NAME_IT: string (nullable = true)\n",
      " |-- NAME_JA: string (nullable = true)\n",
      " |-- NAME_KO: string (nullable = true)\n",
      " |-- NAME_NL: string (nullable = true)\n",
      " |-- NAME_PL: string (nullable = true)\n",
      " |-- NAME_PT: string (nullable = true)\n",
      " |-- NAME_RU: string (nullable = true)\n",
      " |-- NAME_SV: string (nullable = true)\n",
      " |-- NAME_TR: string (nullable = true)\n",
      " |-- NAME_VI: string (nullable = true)\n",
      " |-- NAME_ZH: string (nullable = true)\n",
      "\n"
     ]
    }
   ],
   "source": [
    "# read countries shape file\n",
    "countries = ShapefileReader.readToGeometryRDD(sc, countries_file_path)\n",
    "countries_df = Adapter.toDf(countries, sedona)\n",
    "countries_df.createOrReplaceTempView(\"country\")\n",
    "countries_df.printSchema()"
   ],
   "metadata": {
    "collapsed": false
   }
  },
  {
   "cell_type": "code",
   "execution_count": 5,
   "outputs": [
    {
     "name": "stdout",
     "output_type": "stream",
     "text": [
      "root\n",
      " |-- geometry: geometry (nullable = true)\n",
      " |-- scalerank: string (nullable = true)\n",
      " |-- featurecla: string (nullable = true)\n",
      " |-- type: string (nullable = true)\n",
      " |-- name: string (nullable = true)\n",
      " |-- abbrev: string (nullable = true)\n",
      " |-- location: string (nullable = true)\n",
      " |-- gps_code: string (nullable = true)\n",
      " |-- iata_code: string (nullable = true)\n",
      " |-- wikipedia: string (nullable = true)\n",
      " |-- natlscale: string (nullable = true)\n",
      "\n"
     ]
    }
   ],
   "source": [
    "# read airports shape file\n",
    "airports = ShapefileReader.readToGeometryRDD(sc, airports_file_path)\n",
    "airports_df = Adapter.toDf(airports, sedona)\n",
    "airports_df.createOrReplaceTempView(\"airport\")\n",
    "airports_df.printSchema()"
   ],
   "metadata": {
    "collapsed": false
   }
  },
  {
   "cell_type": "markdown",
   "source": [
    "## Join the data frame\n",
    "\n",
    "In this example, we join the country data frame and airport data frame by using the condition **ST_Contains(c.geometry, a.geometry)**. It means if the airport (point) in the country (polygon), then we show the row."
   ],
   "metadata": {
    "collapsed": false
   }
  },
  {
   "cell_type": "code",
   "execution_count": 6,
   "outputs": [
    {
     "name": "stderr",
     "output_type": "stream",
     "text": [
      "                                                                                \r"
     ]
    },
    {
     "name": "stdout",
     "output_type": "stream",
     "text": [
      "23/07/21 10:07:18 WARN JoinQuery: UseIndex is true, but no index exists. Will build index on the fly.\n"
     ]
    },
    {
     "name": "stderr",
     "output_type": "stream",
     "text": [
      "                                                                                \r"
     ]
    },
    {
     "name": "stdout",
     "output_type": "stream",
     "text": [
      "+--------------------+--------------------+--------------------+--------------------+\n",
      "|    country_location|        country_name|    airport_location|        airport_name|\n",
      "+--------------------+--------------------+--------------------+--------------------+\n",
      "|MULTIPOLYGON (((1...|Taiwan           ...|POINT (121.231370...|Taoyuan          ...|\n",
      "|MULTIPOLYGON (((5...|Netherlands      ...|POINT (4.76437693...|Schiphol         ...|\n",
      "|POLYGON ((103.969...|Singapore        ...|POINT (103.986413...|Singapore Changi ...|\n",
      "|MULTIPOLYGON (((-...|United Kingdom   ...|POINT (-0.4531566...|London Heathrow  ...|\n",
      "|MULTIPOLYGON (((-...|United States of ...|POINT (-149.98172...|Anchorage Int'l  ...|\n",
      "|MULTIPOLYGON (((-...|United States of ...|POINT (-84.425397...|Hartsfield-Jackso...|\n",
      "|MULTIPOLYGON (((1...|People's Republic...|POINT (116.588174...|Beijing Capital  ...|\n",
      "|MULTIPOLYGON (((-...|Colombia         ...|POINT (-74.143371...|Eldorado Int'l   ...|\n",
      "|MULTIPOLYGON (((6...|India            ...|POINT (72.8745639...|Chhatrapati Shiva...|\n",
      "|MULTIPOLYGON (((-...|United States of ...|POINT (-71.016406...|Gen E L Logan Int...|\n",
      "|MULTIPOLYGON (((-...|United States of ...|POINT (-76.668642...|Baltimore-Washing...|\n",
      "|POLYGON ((36.8713...|Egypt            ...|POINT (31.3997430...|Cairo Int'l      ...|\n",
      "|POLYGON ((-2.2196...|Morocco          ...|POINT (-7.6632188...|Casablanca-Anfa  ...|\n",
      "|MULTIPOLYGON (((-...|Venezuela        ...|POINT (-67.005748...|Simon Bolivar Int...|\n",
      "|MULTIPOLYGON (((2...|South Africa     ...|POINT (18.5976565...|Cape Town Int'l  ...|\n",
      "|MULTIPOLYGON (((1...|People's Republic...|POINT (103.956136...|Chengdushuang Liu...|\n",
      "|MULTIPOLYGON (((6...|India            ...|POINT (77.0878362...|Indira Gandhi Int...|\n",
      "|MULTIPOLYGON (((-...|United States of ...|POINT (-104.67379...|Denver Int'l     ...|\n",
      "|MULTIPOLYGON (((-...|United States of ...|POINT (-97.040371...|Dallas-Ft. Worth ...|\n",
      "|MULTIPOLYGON (((1...|Thailand         ...|POINT (100.602578...|Don Muang Int'l  ...|\n",
      "+--------------------+--------------------+--------------------+--------------------+\n",
      "only showing top 20 rows\n",
      "\n"
     ]
    }
   ],
   "source": [
    "# create a new dataframe to host the result of the join\n",
    "countries_airport_df = sedona.sql(\"SELECT c.geometry as country_location, c.NAME_EN as country_name, a.geometry as airport_location, a.name as airport_name FROM country c, airport a WHERE ST_Contains(c.geometry, a.geometry)\")\n",
    "countries_airport_df.show()"
   ],
   "metadata": {
    "collapsed": false
   }
  },
  {
   "cell_type": "code",
   "execution_count": 7,
   "outputs": [
    {
     "name": "stdout",
     "output_type": "stream",
     "text": [
      "root\n",
      " |-- country_location: geometry (nullable = true)\n",
      " |-- country_name: string (nullable = true)\n",
      " |-- airport_location: geometry (nullable = true)\n",
      " |-- airport_name: string (nullable = true)\n",
      "\n"
     ]
    }
   ],
   "source": [
    "countries_airport_df.printSchema()"
   ],
   "metadata": {
    "collapsed": false
   }
  },
  {
   "cell_type": "code",
   "execution_count": 11,
   "outputs": [],
   "source": [
    "# create a table\n",
    "countries_airport_df.createOrReplaceTempView(\"country_airport\")"
   ],
   "metadata": {
    "collapsed": false
   }
  },
  {
   "cell_type": "code",
   "execution_count": 18,
   "outputs": [
    {
     "name": "stdout",
     "output_type": "stream",
     "text": [
      "23/07/21 10:52:32 WARN JoinQuery: UseIndex is true, but no index exists. Will build index on the fly.\n"
     ]
    },
    {
     "name": "stderr",
     "output_type": "stream",
     "text": [
      "[Stage 53:>                                                         (0 + 1) / 1]\r"
     ]
    },
    {
     "name": "stdout",
     "output_type": "stream",
     "text": [
      "+--------------------+--------------------+-------------+\n",
      "|        country_name|    country_location|airport_count|\n",
      "+--------------------+--------------------+-------------+\n",
      "|United States of ...|MULTIPOLYGON (((-...|           35|\n",
      "|Canada           ...|MULTIPOLYGON (((-...|           15|\n",
      "|Mexico           ...|MULTIPOLYGON (((-...|           12|\n",
      "|Brazil           ...|MULTIPOLYGON (((-...|           12|\n",
      "|People's Republic...|MULTIPOLYGON (((1...|            7|\n",
      "+--------------------+--------------------+-------------+\n",
      "only showing top 5 rows\n",
      "\n"
     ]
    },
    {
     "name": "stderr",
     "output_type": "stream",
     "text": [
      "                                                                                \r"
     ]
    }
   ],
   "source": [
    "airports_count=sedona.sql(\"SELECT c.country_name, c.country_location, count(*) as airport_count FROM country_airport c GROUP BY c.country_name, c.country_location sort by airport_count desc\")\n",
    "airports_count.show(5)"
   ],
   "metadata": {
    "collapsed": false
   }
  },
  {
   "cell_type": "code",
   "execution_count": 20,
   "outputs": [
    {
     "name": "stdout",
     "output_type": "stream",
     "text": [
      "23/07/21 10:56:06 WARN JoinQuery: UseIndex is true, but no index exists. Will build index on the fly.\n",
      "+--------------------+--------------------+-------------+\n",
      "|        country_name|    country_location|airport_count|\n",
      "+--------------------+--------------------+-------------+\n",
      "|France           ...|MULTIPOLYGON (((9...|            2|\n",
      "|Finland          ...|MULTIPOLYGON (((2...|            1|\n",
      "|Fiji             ...|MULTIPOLYGON (((1...|            1|\n",
      "+--------------------+--------------------+-------------+\n",
      "\n"
     ]
    }
   ],
   "source": [
    "airports_count.filter(col(\"country_name\").startswith(\"F\")).show()"
   ],
   "metadata": {
    "collapsed": false
   }
  },
  {
   "cell_type": "code",
   "execution_count": 15,
   "outputs": [
    {
     "name": "stdout",
     "output_type": "stream",
     "text": [
      "23/07/21 10:12:00 WARN JoinQuery: UseIndex is true, but no index exists. Will build index on the fly.\n",
      "+--------------------------------------------------------------------------------------------------------------------------------------------------------------------------------------------------------+--------------------------------------------+\n",
      "|airport_name                                                                                                                                                                                            |airport_location                            |\n",
      "+--------------------------------------------------------------------------------------------------------------------------------------------------------------------------------------------------------+--------------------------------------------+\n",
      "|Charles de Gaulle Int'l                                                                                                                                                                                 |POINT (2.5418677673945727 49.01442009693855)|\n",
      "|Paris Orly                                                                                                                                                                                              |POINT (2.367379127837731 48.73130304580517) |\n",
      "+--------------------------------------------------------------------------------------------------------------------------------------------------------------------------------------------------------+--------------------------------------------+\n",
      "\n"
     ]
    }
   ],
   "source": [
    "countries_airport_df.select(\"airport_name\",\"airport_location\").filter(col(\"country_name\").startswith(\"Fr\")).show(truncate=False)"
   ],
   "metadata": {
    "collapsed": false
   }
  },
  {
   "cell_type": "markdown",
   "source": [
    "## Visualize the number of airports for each country"
   ],
   "metadata": {
    "collapsed": false
   }
  },
  {
   "cell_type": "code",
   "execution_count": 27,
   "outputs": [],
   "source": [
    "raw_pdf = airports_count.toPandas()\n",
    "geo_pdf = gpd.GeoDataFrame(raw_pdf, geometry = \"country_location\").rename(columns={'country_location':'geometry'})"
   ],
   "metadata": {
    "collapsed": false
   }
  },
  {
   "cell_type": "code",
   "execution_count": 28,
   "outputs": [],
   "source": [
    "\n",
    "config = {'version': 'v1',\n",
    "          'config': {'visState': {'filters': [],\n",
    "                                  'layers': [{'id': 'ikzru0t',\n",
    "                                              'type': 'geojson',\n",
    "                                              'config': {'dataId': 'AirportCount',\n",
    "                                                         'label': 'AirportCount',\n",
    "                                                         'color': [218, 112, 191],\n",
    "                                                         'highlightColor': [252, 242, 26, 255],\n",
    "                                                         'columns': {'geojson': 'geometry'},\n",
    "                                                         'isVisible': True,\n",
    "                                                         'visConfig': {'opacity': 0.8,\n",
    "                                                                       'strokeOpacity': 0.8,\n",
    "                                                                       'thickness': 0.5,\n",
    "                                                                       'strokeColor': [18, 92, 119],\n",
    "                                                                       'colorRange': {'name': 'Uber Viz Sequential 6',\n",
    "                                                                                      'type': 'sequential',\n",
    "                                                                                      'category': 'Uber',\n",
    "                                                                                      'colors': ['#E6FAFA',\n",
    "                                                                                                 '#C1E5E6',\n",
    "                                                                                                 '#9DD0D4',\n",
    "                                                                                                 '#75BBC1',\n",
    "                                                                                                 '#4BA7AF',\n",
    "                                                                                                 '#00939C',\n",
    "                                                                                                 '#108188',\n",
    "                                                                                                 '#0E7077']},\n",
    "                                                                       'strokeColorRange': {'name': 'Global Warming',\n",
    "                                                                                            'type': 'sequential',\n",
    "                                                                                            'category': 'Uber',\n",
    "                                                                                            'colors': ['#5A1846',\n",
    "                                                                                                       '#900C3F',\n",
    "                                                                                                       '#C70039',\n",
    "                                                                                                       '#E3611C',\n",
    "                                                                                                       '#F1920E',\n",
    "                                                                                                       '#FFC300']},\n",
    "                                                                       'radius': 10,\n",
    "                                                                       'sizeRange': [0, 10],\n",
    "                                                                       'radiusRange': [0, 50],\n",
    "                                                                       'heightRange': [0, 500],\n",
    "                                                                       'elevationScale': 5,\n",
    "                                                                       'enableElevationZoomFactor': True,\n",
    "                                                                       'stroked': False,\n",
    "                                                                       'filled': True,\n",
    "                                                                       'enable3d': False,\n",
    "                                                                       'wireframe': False},\n",
    "                                                         'hidden': False,\n",
    "                                                         'textLabel': [{'field': None,\n",
    "                                                                        'color': [255, 255, 255],\n",
    "                                                                        'size': 18,\n",
    "                                                                        'offset': [0, 0],\n",
    "                                                                        'anchor': 'start',\n",
    "                                                                        'alignment': 'center'}]},\n",
    "                                              'visualChannels': {'colorField': {'name': 'AirportCount',\n",
    "                                                                                'type': 'integer'},\n",
    "                                                                 'colorScale': 'quantize',\n",
    "                                                                 'strokeColorField': None,\n",
    "                                                                 'strokeColorScale': 'quantile',\n",
    "                                                                 'sizeField': None,\n",
    "                                                                 'sizeScale': 'linear',\n",
    "                                                                 'heightField': None,\n",
    "                                                                 'heightScale': 'linear',\n",
    "                                                                 'radiusField': None,\n",
    "                                                                 'radiusScale': 'linear'}}],\n",
    "                                  'interactionConfig': {'tooltip': {'fieldsToShow': {'AirportCount': [{'name': 'NAME_EN',\n",
    "                                                                                                       'format': None},\n",
    "                                                                                                      {'name': 'AirportCount', 'format': None}]},\n",
    "                                                                    'compareMode': False,\n",
    "                                                                    'compareType': 'absolute',\n",
    "                                                                    'enabled': True},\n",
    "                                                        'brush': {'size': 0.5, 'enabled': False},\n",
    "                                                        'geocoder': {'enabled': False},\n",
    "                                                        'coordinate': {'enabled': False}},\n",
    "                                  'layerBlending': 'normal',\n",
    "                                  'splitMaps': [],\n",
    "                                  'animationConfig': {'currentTime': None, 'speed': 1}},\n",
    "                     'mapState': {'bearing': 0,\n",
    "                                  'dragRotate': False,\n",
    "                                  'latitude': 56.422456606624316,\n",
    "                                  'longitude': 9.778836615231771,\n",
    "                                  'pitch': 0,\n",
    "                                  'zoom': 0.4214991225736964,\n",
    "                                  'isSplit': False},\n",
    "                     'mapStyle': {'styleType': 'dark',\n",
    "                                  'topLayerGroups': {},\n",
    "                                  'visibleLayerGroups': {'label': True,\n",
    "                                                         'road': True,\n",
    "                                                         'border': False,\n",
    "                                                         'building': True,\n",
    "                                                         'water': True,\n",
    "                                                         'land': True,\n",
    "                                                         '3d building': False},\n",
    "                                  'threeDBuildingColor': [9.665468314072013,\n",
    "                                                          17.18305478057247,\n",
    "                                                          31.1442867897876],\n",
    "                                  'mapStyles': {}}}}\n"
   ],
   "metadata": {
    "collapsed": false
   }
  },
  {
   "cell_type": "code",
   "execution_count": 29,
   "outputs": [
    {
     "name": "stdout",
     "output_type": "stream",
     "text": [
      "User Guide: https://docs.kepler.gl/docs/keplergl-jupyter\n"
     ]
    },
    {
     "data": {
      "text/plain": "KeplerGl(config={'version': 'v1', 'config': {'visState': {'filters': [], 'layers': [{'id': 'ikzru0t', 'type': …",
      "application/vnd.jupyter.widget-view+json": {
       "version_major": 2,
       "version_minor": 0,
       "model_id": "6b168d0bce894697bb55dd534843fabc"
      }
     },
     "metadata": {},
     "output_type": "display_data"
    }
   ],
   "source": [
    "map = KeplerGl(data={\"AirportCount\": geo_pdf}, config=config)\n",
    "map"
   ],
   "metadata": {
    "collapsed": false
   }
  },
  {
   "cell_type": "code",
   "execution_count": null,
   "outputs": [],
   "source": [],
   "metadata": {
    "collapsed": false
   }
  }
 ],
 "metadata": {
  "kernelspec": {
   "display_name": "Python 3",
   "language": "python",
   "name": "python3"
  },
  "language_info": {
   "codemirror_mode": {
    "name": "ipython",
    "version": 2
   },
   "file_extension": ".py",
   "mimetype": "text/x-python",
   "name": "python",
   "nbconvert_exporter": "python",
   "pygments_lexer": "ipython2",
   "version": "2.7.6"
  }
 },
 "nbformat": 4,
 "nbformat_minor": 0
}
