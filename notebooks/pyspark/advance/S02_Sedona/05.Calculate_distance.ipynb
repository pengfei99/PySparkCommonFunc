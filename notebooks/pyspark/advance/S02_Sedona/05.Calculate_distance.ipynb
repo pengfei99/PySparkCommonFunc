{
 "cells": [
  {
   "cell_type": "markdown",
   "source": [
    "# Calculate distance"
   ],
   "metadata": {
    "collapsed": false
   }
  },
  {
   "cell_type": "code",
   "execution_count": null,
   "outputs": [],
   "source": [],
   "metadata": {
    "collapsed": false
   }
  },
  {
   "cell_type": "code",
   "execution_count": null,
   "outputs": [],
   "source": [],
   "metadata": {
    "collapsed": false
   }
  },
  {
   "cell_type": "code",
   "execution_count": 18,
   "outputs": [],
   "source": [
    "from sedona.spark import *\n",
    "from pyspark.sql.functions import col"
   ],
   "metadata": {
    "collapsed": false
   }
  },
  {
   "cell_type": "code",
   "execution_count": 2,
   "outputs": [
    {
     "name": "stdout",
     "output_type": "stream",
     "text": [
      "23/07/21 11:33:08 WARN Utils: Your hostname, pengfei-Virtual-Machine resolves to a loopback address: 127.0.1.1; using 10.50.2.80 instead (on interface eth0)\n",
      "23/07/21 11:33:08 WARN Utils: Set SPARK_LOCAL_IP if you need to bind to another address\n",
      ":: loading settings :: url = jar:file:/home/pengfei/opt/spark-3.3.0/jars/ivy-2.5.0.jar!/org/apache/ivy/core/settings/ivysettings.xml\n"
     ]
    },
    {
     "name": "stderr",
     "output_type": "stream",
     "text": [
      "Ivy Default Cache set to: /home/pengfei/.ivy2/cache\n",
      "The jars for the packages stored in: /home/pengfei/.ivy2/jars\n",
      "org.apache.sedona#sedona-spark-shaded-3.0_2.12 added as a dependency\n",
      "org.datasyslab#geotools-wrapper added as a dependency\n",
      ":: resolving dependencies :: org.apache.spark#spark-submit-parent-00db68f1-eb92-4e4a-b255-17709ce066e5;1.0\n",
      "\tconfs: [default]\n",
      "\tfound org.apache.sedona#sedona-spark-shaded-3.0_2.12;1.4.1 in central\n",
      "\tfound org.datasyslab#geotools-wrapper;1.4.0-28.2 in central\n",
      ":: resolution report :: resolve 222ms :: artifacts dl 5ms\n",
      "\t:: modules in use:\n",
      "\torg.apache.sedona#sedona-spark-shaded-3.0_2.12;1.4.1 from central in [default]\n",
      "\torg.datasyslab#geotools-wrapper;1.4.0-28.2 from central in [default]\n",
      "\t---------------------------------------------------------------------\n",
      "\t|                  |            modules            ||   artifacts   |\n",
      "\t|       conf       | number| search|dwnlded|evicted|| number|dwnlded|\n",
      "\t---------------------------------------------------------------------\n",
      "\t|      default     |   2   |   0   |   0   |   0   ||   2   |   0   |\n",
      "\t---------------------------------------------------------------------\n",
      ":: retrieving :: org.apache.spark#spark-submit-parent-00db68f1-eb92-4e4a-b255-17709ce066e5\n",
      "\tconfs: [default]\n",
      "\t0 artifacts copied, 2 already retrieved (0kB/14ms)\n"
     ]
    },
    {
     "name": "stdout",
     "output_type": "stream",
     "text": [
      "23/07/21 11:33:09 WARN NativeCodeLoader: Unable to load native-hadoop library for your platform... using builtin-java classes where applicable\n"
     ]
    },
    {
     "name": "stderr",
     "output_type": "stream",
     "text": [
      "Setting default log level to \"WARN\".\n",
      "To adjust logging level use sc.setLogLevel(newLevel). For SparkR, use setLogLevel(newLevel).\n",
      "                                                                                \r"
     ]
    }
   ],
   "source": [
    "# build a sedona session (sedona >= 1.4.1)\n",
    "config = SedonaContext.builder(). \\\n",
    "    config('spark.jars.packages',\n",
    "           'org.apache.sedona:sedona-spark-shaded-3.0_2.12:1.4.1,'\n",
    "           'org.datasyslab:geotools-wrapper:1.4.0-28.2'). \\\n",
    "    getOrCreate()\n",
    "\n",
    "# create a sedona context\n",
    "sedona = SedonaContext.create(config)"
   ],
   "metadata": {
    "collapsed": false
   }
  },
  {
   "cell_type": "markdown",
   "source": [
    "## 1. Euclidean distance between A and B\n",
    "\n",
    "**ST_Distance (A:geometry, B:geometry)**"
   ],
   "metadata": {
    "collapsed": false
   }
  },
  {
   "cell_type": "code",
   "execution_count": 5,
   "outputs": [
    {
     "name": "stdout",
     "output_type": "stream",
     "text": [
      "+-------------------------------------------------------------------------------------------------+\n",
      "|st_distance(st_geomfromwkt(POINT (51.3168 -0.56), 0), st_geomfromwkt(POINT (55.9533 -3.1883), 0))|\n",
      "+-------------------------------------------------------------------------------------------------+\n",
      "|                                                                               5.3296428717128865|\n",
      "+-------------------------------------------------------------------------------------------------+\n",
      "\n"
     ]
    }
   ],
   "source": [
    "euclidean_dist_df=sedona.sql(\"SELECT ST_Distance(ST_GeomFromWKT('POINT (51.3168 -0.56)'), ST_GeomFromWKT('POINT (55.9533 -3.1883)'))\")\n",
    "euclidean_dist_df.show()"
   ],
   "metadata": {
    "collapsed": false
   }
  },
  {
   "cell_type": "markdown",
   "source": [
    "## 2. Sphere distance\n",
    "\n",
    "As we know the earth is not a 2D map, but a sphere. So the two point is in two different continant. The euclidean distance is no more accurate.\n",
    "\n",
    "**ST_DistanceSphere (A:geometry, B:geometry, radius=6371008.0)** : It returns the `haversine / great-circle distance` of A using a given earth radius (default radius: 6371008.0). Unit is **meter**.\n",
    "\n",
    "Compared to `ST_Distance + ST_Transform`, it works better for datasets that cover large regions such as continents or the entire planet. It is equivalent to PostGIS ST_Distance(geography, use_spheroid=false) and ST_DistanceSphere function and produces nearly identical results. It provides faster but less accurate result compared to ST_DistanceSpheroid.\n",
    "\n",
    "> Geometry must be in EPSG:4326 (WGS84) projection and must be in lat/lon order. You can use ST_FlipCoordinates to swap lat and lon. For non-point data, we first take the centroids of both geometries and then compute the distance."
   ],
   "metadata": {
    "collapsed": false
   }
  },
  {
   "cell_type": "code",
   "execution_count": 6,
   "outputs": [
    {
     "name": "stdout",
     "output_type": "stream",
     "text": [
      "+------------------------------------------------------------------------------------------------------------------+\n",
      "|st_distancesphere(st_geomfromwkt(POINT (51.3168 -0.56), 0), st_geomfromwkt(POINT (55.9533 -3.1883), 0), 6371008.0)|\n",
      "+------------------------------------------------------------------------------------------------------------------+\n",
      "|                                                                                                 543796.9506134904|\n",
      "+------------------------------------------------------------------------------------------------------------------+\n",
      "\n"
     ]
    }
   ],
   "source": [
    "# We calculate the distance by using the default radius\n",
    "sphere_dist_df1=sedona.sql(\"SELECT ST_DistanceSphere(ST_GeomFromWKT('POINT (51.3168 -0.56)'), ST_GeomFromWKT('POINT (55.9533 -3.1883)'))\")\n",
    "sphere_dist_df1.show()"
   ],
   "metadata": {
    "collapsed": false
   }
  },
  {
   "cell_type": "code",
   "execution_count": 7,
   "outputs": [
    {
     "name": "stdout",
     "output_type": "stream",
     "text": [
      "+------------------------------------------------------------------------------------------------------------------+\n",
      "|st_distancesphere(st_geomfromwkt(POINT (51.3168 -0.56), 0), st_geomfromwkt(POINT (55.9533 -3.1883), 0), 6378137.0)|\n",
      "+------------------------------------------------------------------------------------------------------------------+\n",
      "|                                                                                                 544405.4459192449|\n",
      "+------------------------------------------------------------------------------------------------------------------+\n",
      "\n"
     ]
    }
   ],
   "source": [
    "# We calculate the distance by using a specific radius\n",
    "sphere_dist_df2=sedona.sql(\"SELECT ST_DistanceSphere(ST_GeomFromWKT('POINT (51.3168 -0.56)'), ST_GeomFromWKT('POINT (55.9533 -3.1883)'),6378137.0)\")\n",
    "sphere_dist_df2.show()"
   ],
   "metadata": {
    "collapsed": false
   }
  },
  {
   "cell_type": "markdown",
   "source": [
    "## Distance between two polygon\n",
    "\n",
    "The distance between two points is simple to calculate. How do we calculate the distance between two polygon.\n",
    "\n",
    "The nature thinking is to first get the centroid of the polygon, then calculate the distance of the two centroids of the two polygons.\n",
    "\n",
    "To simplify our life, the function ST_Distance can already calculate the distance of the two polygons directly"
   ],
   "metadata": {
    "collapsed": false
   }
  },
  {
   "cell_type": "code",
   "execution_count": 3,
   "outputs": [],
   "source": [
    "# get the spark context\n",
    "sc = sedona.sparkContext\n",
    "\n",
    "# set the encoding to utf8\n",
    "sc.setSystemProperty(\"sedona.global.charset\", \"utf8\")"
   ],
   "metadata": {
    "collapsed": false
   }
  },
  {
   "cell_type": "code",
   "execution_count": 4,
   "outputs": [
    {
     "name": "stdout",
     "output_type": "stream",
     "text": [
      "23/07/21 11:33:31 WARN package: Truncated the string representation of a plan since it was too large. This behavior can be adjusted by setting 'spark.sql.debug.maxToStringFields'.\n",
      "root\n",
      " |-- geometry: geometry (nullable = true)\n",
      " |-- featurecla: string (nullable = true)\n",
      " |-- scalerank: string (nullable = true)\n",
      " |-- LABELRANK: string (nullable = true)\n",
      " |-- SOVEREIGNT: string (nullable = true)\n",
      " |-- SOV_A3: string (nullable = true)\n",
      " |-- ADM0_DIF: string (nullable = true)\n",
      " |-- LEVEL: string (nullable = true)\n",
      " |-- TYPE: string (nullable = true)\n",
      " |-- ADMIN: string (nullable = true)\n",
      " |-- ADM0_A3: string (nullable = true)\n",
      " |-- GEOU_DIF: string (nullable = true)\n",
      " |-- GEOUNIT: string (nullable = true)\n",
      " |-- GU_A3: string (nullable = true)\n",
      " |-- SU_DIF: string (nullable = true)\n",
      " |-- SUBUNIT: string (nullable = true)\n",
      " |-- SU_A3: string (nullable = true)\n",
      " |-- BRK_DIFF: string (nullable = true)\n",
      " |-- NAME: string (nullable = true)\n",
      " |-- NAME_LONG: string (nullable = true)\n",
      " |-- BRK_A3: string (nullable = true)\n",
      " |-- BRK_NAME: string (nullable = true)\n",
      " |-- BRK_GROUP: string (nullable = true)\n",
      " |-- ABBREV: string (nullable = true)\n",
      " |-- POSTAL: string (nullable = true)\n",
      " |-- FORMAL_EN: string (nullable = true)\n",
      " |-- FORMAL_FR: string (nullable = true)\n",
      " |-- NAME_CIAWF: string (nullable = true)\n",
      " |-- NOTE_ADM0: string (nullable = true)\n",
      " |-- NOTE_BRK: string (nullable = true)\n",
      " |-- NAME_SORT: string (nullable = true)\n",
      " |-- NAME_ALT: string (nullable = true)\n",
      " |-- MAPCOLOR7: string (nullable = true)\n",
      " |-- MAPCOLOR8: string (nullable = true)\n",
      " |-- MAPCOLOR9: string (nullable = true)\n",
      " |-- MAPCOLOR13: string (nullable = true)\n",
      " |-- POP_EST: string (nullable = true)\n",
      " |-- POP_RANK: string (nullable = true)\n",
      " |-- GDP_MD_EST: string (nullable = true)\n",
      " |-- POP_YEAR: string (nullable = true)\n",
      " |-- LASTCENSUS: string (nullable = true)\n",
      " |-- GDP_YEAR: string (nullable = true)\n",
      " |-- ECONOMY: string (nullable = true)\n",
      " |-- INCOME_GRP: string (nullable = true)\n",
      " |-- WIKIPEDIA: string (nullable = true)\n",
      " |-- FIPS_10_: string (nullable = true)\n",
      " |-- ISO_A2: string (nullable = true)\n",
      " |-- ISO_A3: string (nullable = true)\n",
      " |-- ISO_A3_EH: string (nullable = true)\n",
      " |-- ISO_N3: string (nullable = true)\n",
      " |-- UN_A3: string (nullable = true)\n",
      " |-- WB_A2: string (nullable = true)\n",
      " |-- WB_A3: string (nullable = true)\n",
      " |-- WOE_ID: string (nullable = true)\n",
      " |-- WOE_ID_EH: string (nullable = true)\n",
      " |-- WOE_NOTE: string (nullable = true)\n",
      " |-- ADM0_A3_IS: string (nullable = true)\n",
      " |-- ADM0_A3_US: string (nullable = true)\n",
      " |-- ADM0_A3_UN: string (nullable = true)\n",
      " |-- ADM0_A3_WB: string (nullable = true)\n",
      " |-- CONTINENT: string (nullable = true)\n",
      " |-- REGION_UN: string (nullable = true)\n",
      " |-- SUBREGION: string (nullable = true)\n",
      " |-- REGION_WB: string (nullable = true)\n",
      " |-- NAME_LEN: string (nullable = true)\n",
      " |-- LONG_LEN: string (nullable = true)\n",
      " |-- ABBREV_LEN: string (nullable = true)\n",
      " |-- TINY: string (nullable = true)\n",
      " |-- HOMEPART: string (nullable = true)\n",
      " |-- MIN_ZOOM: string (nullable = true)\n",
      " |-- MIN_LABEL: string (nullable = true)\n",
      " |-- MAX_LABEL: string (nullable = true)\n",
      " |-- NE_ID: string (nullable = true)\n",
      " |-- WIKIDATAID: string (nullable = true)\n",
      " |-- NAME_AR: string (nullable = true)\n",
      " |-- NAME_BN: string (nullable = true)\n",
      " |-- NAME_DE: string (nullable = true)\n",
      " |-- NAME_EN: string (nullable = true)\n",
      " |-- NAME_ES: string (nullable = true)\n",
      " |-- NAME_FR: string (nullable = true)\n",
      " |-- NAME_EL: string (nullable = true)\n",
      " |-- NAME_HI: string (nullable = true)\n",
      " |-- NAME_HU: string (nullable = true)\n",
      " |-- NAME_ID: string (nullable = true)\n",
      " |-- NAME_IT: string (nullable = true)\n",
      " |-- NAME_JA: string (nullable = true)\n",
      " |-- NAME_KO: string (nullable = true)\n",
      " |-- NAME_NL: string (nullable = true)\n",
      " |-- NAME_PL: string (nullable = true)\n",
      " |-- NAME_PT: string (nullable = true)\n",
      " |-- NAME_RU: string (nullable = true)\n",
      " |-- NAME_SV: string (nullable = true)\n",
      " |-- NAME_TR: string (nullable = true)\n",
      " |-- NAME_VI: string (nullable = true)\n",
      " |-- NAME_ZH: string (nullable = true)\n",
      "\n"
     ]
    }
   ],
   "source": [
    "countries_file_path = \"/home/pengfei/data_set/kaggle/geospatial/countries_shape\"\n",
    "\n",
    "# read countries shape file\n",
    "countries = ShapefileReader.readToGeometryRDD(sc, countries_file_path)\n",
    "countries_df = Adapter.toDf(countries, sedona)\n",
    "countries_df.createOrReplaceTempView(\"country\")\n",
    "countries_df.printSchema()"
   ],
   "metadata": {
    "collapsed": false
   }
  },
  {
   "cell_type": "code",
   "execution_count": 5,
   "outputs": [
    {
     "name": "stderr",
     "output_type": "stream",
     "text": [
      "[Stage 5:>                                                          (0 + 1) / 1]\r"
     ]
    },
    {
     "name": "stdout",
     "output_type": "stream",
     "text": [
      "+--------------------+---------------+---------+---------+--------------------+------+--------+-----+-----------------+--------------------+-------+--------+--------------------+-----+------+--------------------+-----+--------+--------------------+--------------------+------+--------------------+-----------------+-------------+------+--------------------+--------------------+--------------------+--------------------+--------------------+--------------------+--------------+---------+---------+---------+----------+----------+--------+-----------+--------+----------+--------+--------------------+--------------------+---------+--------+------+------+---------+------+-----+-----+-----+--------+---------+--------------------+----------+----------+----------+----------+--------------------+--------------------+--------------------+--------------------+--------+--------+----------+----+--------+--------+---------+---------+----------+----------+--------------------+--------------------+--------------------+--------------------+--------------------+--------------------+--------------------+--------------------+--------------------+--------------------+--------------------+-------------------------+------------------------+--------------------+--------------------+--------------------+--------------------+--------------------+--------------------+--------------------+-----------------------+\n",
      "|            geometry|     featurecla|scalerank|LABELRANK|          SOVEREIGNT|SOV_A3|ADM0_DIF|LEVEL|             TYPE|               ADMIN|ADM0_A3|GEOU_DIF|             GEOUNIT|GU_A3|SU_DIF|             SUBUNIT|SU_A3|BRK_DIFF|                NAME|           NAME_LONG|BRK_A3|            BRK_NAME|        BRK_GROUP|       ABBREV|POSTAL|           FORMAL_EN|           FORMAL_FR|          NAME_CIAWF|           NOTE_ADM0|            NOTE_BRK|           NAME_SORT|      NAME_ALT|MAPCOLOR7|MAPCOLOR8|MAPCOLOR9|MAPCOLOR13|   POP_EST|POP_RANK| GDP_MD_EST|POP_YEAR|LASTCENSUS|GDP_YEAR|             ECONOMY|          INCOME_GRP|WIKIPEDIA|FIPS_10_|ISO_A2|ISO_A3|ISO_A3_EH|ISO_N3|UN_A3|WB_A2|WB_A3|  WOE_ID|WOE_ID_EH|            WOE_NOTE|ADM0_A3_IS|ADM0_A3_US|ADM0_A3_UN|ADM0_A3_WB|           CONTINENT|           REGION_UN|           SUBREGION|           REGION_WB|NAME_LEN|LONG_LEN|ABBREV_LEN|TINY|HOMEPART|MIN_ZOOM|MIN_LABEL|MAX_LABEL|     NE_ID|WIKIDATAID|             NAME_AR|             NAME_BN|             NAME_DE|             NAME_EN|             NAME_ES|             NAME_FR|             NAME_EL|             NAME_HI|             NAME_HU|             NAME_ID|             NAME_IT|                  NAME_JA|                 NAME_KO|             NAME_NL|             NAME_PL|             NAME_PT|             NAME_RU|             NAME_SV|             NAME_TR|             NAME_VI|                NAME_ZH|\n",
      "+--------------------+---------------+---------+---------+--------------------+------+--------+-----+-----------------+--------------------+-------+--------+--------------------+-----+------+--------------------+-----+--------+--------------------+--------------------+------+--------------------+-----------------+-------------+------+--------------------+--------------------+--------------------+--------------------+--------------------+--------------------+--------------+---------+---------+---------+----------+----------+--------+-----------+--------+----------+--------+--------------------+--------------------+---------+--------+------+------+---------+------+-----+-----+-----+--------+---------+--------------------+----------+----------+----------+----------+--------------------+--------------------+--------------------+--------------------+--------+--------+----------+----+--------+--------+---------+---------+----------+----------+--------------------+--------------------+--------------------+--------------------+--------------------+--------------------+--------------------+--------------------+--------------------+--------------------+--------------------+-------------------------+------------------------+--------------------+--------------------+--------------------+--------------------+--------------------+--------------------+--------------------+-----------------------+\n",
      "|MULTIPOLYGON (((3...|Admin-0 country|        1|        3|Zimbabwe         ...|   ZWE|       0|    2|Sovereign country|Zimbabwe         ...|    ZWE|       0|Zimbabwe         ...|  ZWE|     0|Zimbabwe         ...|  ZWE|       0|Zimbabwe         ...|Zimbabwe         ...|   ZWE|Zimbabwe         ...|                 |Zimb.        |  ZW  |Republic of Zimba...|                 ...|Zimbabwe         ...|                 ...|                 ...|Zimbabwe         ...|              |        1|        5|        3|         9|  13805084|      14|   28330.00|    2017|      2002|    2016|5. Emerging regio...|5. Low income    ...|      -99|     ZI |   ZW |   ZWE|      ZWE|   716| 716 |  ZW |  ZWE|23425004| 23425004|Exact WOE match a...|       ZWE|       ZWE|       -99|       -99|Africa           ...|Africa           ...|Eastern Africa   ...|Sub-Saharan Afric...|       8|       8|         5| -99|       1|     0.0|      3.0|      8.0|1159321441|  Q954    |زيمبابوي         ...|জিম্বাবুয়ে      ...|Simbabwe         ...|Zimbabwe         ...|Zimbabue         ...|Zimbabwe         ...|Ζιμπάμπουε       ...|ज़िम्बाब्वे      ...|Zimbabwe         ...|Zimbabwe         ...|Zimbabwe         ...|ジンバブエ            ...|짐바브웨             ...|Zimbabwe         ...|Zimbabwe         ...|Zimbábue         ...|Зимбабве         ...|Zimbabwe         ...|Zimbabve         ...|Zimbabwe         ...|辛巴威              ...|\n",
      "+--------------------+---------------+---------+---------+--------------------+------+--------+-----+-----------------+--------------------+-------+--------+--------------------+-----+------+--------------------+-----+--------+--------------------+--------------------+------+--------------------+-----------------+-------------+------+--------------------+--------------------+--------------------+--------------------+--------------------+--------------------+--------------+---------+---------+---------+----------+----------+--------+-----------+--------+----------+--------+--------------------+--------------------+---------+--------+------+------+---------+------+-----+-----+-----+--------+---------+--------------------+----------+----------+----------+----------+--------------------+--------------------+--------------------+--------------------+--------+--------+----------+----+--------+--------+---------+---------+----------+----------+--------------------+--------------------+--------------------+--------------------+--------------------+--------------------+--------------------+--------------------+--------------------+--------------------+--------------------+-------------------------+------------------------+--------------------+--------------------+--------------------+--------------------+--------------------+--------------------+--------------------+-----------------------+\n",
      "only showing top 1 row\n",
      "\n"
     ]
    },
    {
     "name": "stderr",
     "output_type": "stream",
     "text": [
      "                                                                                \r"
     ]
    }
   ],
   "source": [
    "countries_df.show(1)"
   ],
   "metadata": {
    "collapsed": false
   }
  },
  {
   "cell_type": "code",
   "execution_count": 6,
   "outputs": [
    {
     "name": "stdout",
     "output_type": "stream",
     "text": [
      "+--------------------+--------------------+\n",
      "|            geometry|             NAME_EN|\n",
      "+--------------------+--------------------+\n",
      "|MULTIPOLYGON (((3...|Zimbabwe         ...|\n",
      "|MULTIPOLYGON (((3...|Zambia           ...|\n",
      "|MULTIPOLYGON (((5...|Yemen            ...|\n",
      "|MULTIPOLYGON (((1...|Vietnam          ...|\n",
      "|MULTIPOLYGON (((-...|Venezuela        ...|\n",
      "+--------------------+--------------------+\n",
      "only showing top 5 rows\n",
      "\n"
     ]
    }
   ],
   "source": [
    "countries_df.select(\"geometry\",\"NAME_EN\").show(5)"
   ],
   "metadata": {
    "collapsed": false
   }
  },
  {
   "cell_type": "code",
   "execution_count": 8,
   "outputs": [
    {
     "name": "stdout",
     "output_type": "stream",
     "text": [
      "+--------------------------------------------+------------------+\n",
      "|county_name                                 |distance          |\n",
      "+--------------------------------------------+------------------+\n",
      "|Tonga                                       |211.3312856364424 |\n",
      "|Wallis and Futuna                           |210.23925576273257|\n",
      "|Niue                                        |208.17583859356532|\n",
      "|Samoa                                       |206.72162008981843|\n",
      "|American Samoa                              |206.13713647266056|\n",
      "+--------------------------------------------+------------------+\n",
      "\n"
     ]
    }
   ],
   "source": [
    "five_nearest_neighbor_df = sedona.sql(\"SELECT c.NAME_EN as county_name, ST_Distance(ST_PolygonFromEnvelope(1.0,100.0,1000.0,1100.0), c.geometry) AS distance FROM country as c ORDER BY distance DESC LIMIT 5\")\n",
    "five_nearest_neighbor_df.show(truncate=False)"
   ],
   "metadata": {
    "collapsed": false
   }
  },
  {
   "cell_type": "code",
   "execution_count": 9,
   "outputs": [
    {
     "name": "stdout",
     "output_type": "stream",
     "text": [
      "root\n",
      " |-- geometry: geometry (nullable = true)\n",
      " |-- insee: string (nullable = true)\n",
      " |-- nom: string (nullable = true)\n",
      " |-- wikipedia: string (nullable = true)\n",
      " |-- surf_ha: string (nullable = true)\n",
      "\n"
     ]
    }
   ],
   "source": [
    "fr_zone_file_path = \"/home/pengfei/data_set/kaggle/geospatial/communes_fr_shape\"\n",
    "\n",
    "# read countries shape file\n",
    "fr_zones = ShapefileReader.readToGeometryRDD(sc, fr_zone_file_path)\n",
    "fr_zones_df = Adapter.toDf(fr_zones, sedona)\n",
    "fr_zones_df.printSchema()"
   ],
   "metadata": {
    "collapsed": false
   }
  },
  {
   "cell_type": "code",
   "execution_count": 10,
   "outputs": [
    {
     "name": "stdout",
     "output_type": "stream",
     "text": [
      "+--------------------+--------------------+--------------------+--------------------+--------------------+\n",
      "|            geometry|               insee|                 nom|           wikipedia|             surf_ha|\n",
      "+--------------------+--------------------+--------------------+--------------------+--------------------+\n",
      "|POLYGON ((9.32016...|2B222            ...|Pie-d'Orezza     ...|fr:Pie-d'Orezza  ...|     573.00000000...|\n",
      "|POLYGON ((9.20010...|2B137            ...|Lano             ...|fr:Lano          ...|     824.00000000...|\n",
      "|POLYGON ((9.27757...|2B051            ...|Cambia           ...|fr:Cambia        ...|     833.00000000...|\n",
      "|POLYGON ((9.25119...|2B106            ...|Érone            ...|fr:Érone         ...|     393.00000000...|\n",
      "|POLYGON ((9.28339...|2B185            ...|Oletta           ...|fr:Oletta        ...|    2674.00000000...|\n",
      "+--------------------+--------------------+--------------------+--------------------+--------------------+\n",
      "only showing top 5 rows\n",
      "\n"
     ]
    }
   ],
   "source": [
    "fr_zones_df.show(5)"
   ],
   "metadata": {
    "collapsed": false
   }
  },
  {
   "cell_type": "code",
   "execution_count": 20,
   "outputs": [
    {
     "name": "stderr",
     "output_type": "stream",
     "text": [
      "                                                                                \r"
     ]
    },
    {
     "data": {
      "text/plain": "34955"
     },
     "execution_count": 20,
     "metadata": {},
     "output_type": "execute_result"
    }
   ],
   "source": [
    "fr_zones_df.count()"
   ],
   "metadata": {
    "collapsed": false
   }
  },
  {
   "cell_type": "code",
   "execution_count": 11,
   "outputs": [],
   "source": [
    "fr_zones_df.createOrReplaceTempView(\"fr_zones\")"
   ],
   "metadata": {
    "collapsed": false
   }
  },
  {
   "cell_type": "code",
   "execution_count": 17,
   "outputs": [
    {
     "name": "stderr",
     "output_type": "stream",
     "text": [
      "[Stage 17:>                                                         (0 + 1) / 1]\r"
     ]
    },
    {
     "name": "stdout",
     "output_type": "stream",
     "text": [
      "+--------------------------------------------------------------------------------+--------------------------------------------------------------------------------+------------------+\n",
      "|commune_name                                                                    |insee                                                                           |distance          |\n",
      "+--------------------------------------------------------------------------------+--------------------------------------------------------------------------------+------------------+\n",
      "|Dzaoudzi                                                                        |97608                                                                           |1209337.6813830498|\n",
      "|Pamandzi                                                                        |97615                                                                           |1210588.3239062466|\n",
      "|Koungou                                                                         |97610                                                                           |1211523.7486190856|\n",
      "|Mtsamboro                                                                       |97612                                                                           |1212654.128981265 |\n",
      "|Bandraboua                                                                      |97602                                                                           |1213078.6326419956|\n",
      "|Mamoudzou                                                                       |97611                                                                           |1214237.4611956354|\n",
      "|Acoua                                                                           |97601                                                                           |1215476.6659177204|\n",
      "|Tsingoni                                                                        |97617                                                                           |1216524.7955569793|\n",
      "|M'Tsangamouji                                                                   |97613                                                                           |1216552.187683453 |\n",
      "|Dembéni                                                                         |97607                                                                           |1219563.7451275687|\n",
      "+--------------------------------------------------------------------------------+--------------------------------------------------------------------------------+------------------+\n",
      "\n"
     ]
    },
    {
     "name": "stderr",
     "output_type": "stream",
     "text": [
      "                                                                                \r"
     ]
    }
   ],
   "source": [
    "# the gps coordinates for kremlin-Bicetre is 48.8100° N, 2.3539° E (from google maps)\n",
    "\n",
    "KB_nearest_neighbor_df = sedona.sql(\"SELECT z.nom as commune_name, z.insee, ST_DistanceSphere(ST_PointFromText('48.8100,2.3539', ','), z.geometry) AS distance FROM fr_zones as z ORDER BY distance ASC LIMIT 10\")\n",
    "KB_nearest_neighbor_df.show(truncate=False)"
   ],
   "metadata": {
    "collapsed": false
   }
  },
  {
   "cell_type": "markdown",
   "source": [
    "The above result is clearly wrong, we need to find out why.\n",
    "\n",
    "First, lets try to calculate the distance of two hospitals\n",
    "The coordinates of `Bichat-Claude Bernard Hospital` is '48.8989,2.3318' (from google maps)"
   ],
   "metadata": {
    "collapsed": false
   }
  },
  {
   "cell_type": "code",
   "execution_count": 44,
   "outputs": [
    {
     "name": "stdout",
     "output_type": "stream",
     "text": [
      "+-----------------+\n",
      "|         distance|\n",
      "+-----------------+\n",
      "|6794135.740522429|\n",
      "+-----------------+\n",
      "\n"
     ]
    }
   ],
   "source": [
    "sedona.sql(\"SELECT ST_DistanceSphere(ST_PointFromText('48.8100,2.3539', ','), ST_PointFromText('48.8989,2.3318', ',')) AS distance \").show()"
   ],
   "metadata": {
    "collapsed": false
   }
  },
  {
   "cell_type": "markdown",
   "source": [
    "The result returns by Google Maps is 11.4 km via real route. So we can consider the above result is correct. The problem is not the function `ST_DistanceSphere`.\n",
    "\n",
    "Now lets check with a commune which is nearby the `kremlin-Bicetre`"
   ],
   "metadata": {
    "collapsed": false
   }
  },
  {
   "cell_type": "code",
   "execution_count": 29,
   "outputs": [],
   "source": [
    "ivry_df = fr_zones_df.filter(col(\"nom\").startswith(\"Ivry-sur-Seine\"))"
   ],
   "metadata": {
    "collapsed": false
   }
  },
  {
   "cell_type": "code",
   "execution_count": 30,
   "outputs": [
    {
     "name": "stderr",
     "output_type": "stream",
     "text": [
      "[Stage 28:>                                                         (0 + 1) / 1]\r"
     ]
    },
    {
     "name": "stdout",
     "output_type": "stream",
     "text": [
      "+------------------------------------------------------------------------------------------------------------------------------------------------------------------------------------------------------------------------------------------------------------------------------------------------------------------------------------------------------------------------------------------------------------------------------------------------------------------------------------------------------------------------------------------------------------------------------------------------------------------------------------------------------------------------------------------------------------------------------------------------------------------------------------------------------------------------------------------------------------------------------------------------------------------------------------------------------------------------------------------------------------------------------------------------------------------------------------------------------------------------------------------------------------------------------------------------------------------------------------------------------------------------------------------------------------------------------------------------------------------------------------------------------------------------------------------------------------------------------------------------------------------------------------------------------------------------------------------------------------------------------------------------------------------------------------------------------------------------------------------------------------------------------------------------------------------------------------------------------------------------------------------------------------------------------------------------------------------------------------------------------------------------------------------------------------------------------------------------------------------------------------------------------------------------------------------------------------------------------------------------------------------------------------------------------------------------------------------------------------------------------------------------------------------------------------------------------------------------------------------------------------------------------------------------------------------------------------------------------------------------------------------------------------------------------------------------------------------------------------------------------------------------------------------------------------------------------------------------------------------------------------------------------------------------------------------------------------------------------------------------------------------------------------------------------------------------------------------------------------------------------------------------------------------------------------------------------------------------------------------------------------------------------------------------------------------------------------------------------------------------------------------------------------------------------------------------------------------------------------------------------------------------------------------------------------------------------------------------------------------------------------------------------------------------------------------------------------------------------------------------------------------------------------------------------------------------------------------------------------------------------------------------------------------------------------------------------------------------------------------------------------------------------------------------------------------------------------------------------------------------------------------------------------------------------------------------------------------------------------------------------------------------------------------------------------------------------------------------------------------------------------------------------------------------------------------------------------------------------------------------------------------------------------------------------------------------------------------------------------------------------------------------------+--------------------------------------------------------------------------------+--------------------------------------------------------------------------------+--------------------------------------------------------------------------------+------------------------+\n",
      "|geometry                                                                                                                                                                                                                                                                                                                                                                                                                                                                                                                                                                                                                                                                                                                                                                                                                                                                                                                                                                                                                                                                                                                                                                                                                                                                                                                                                                                                                                                                                                                                                                                                                                                                                                                                                                                                                                                                                                                                                                                                                                                                                                                                                                                                                                                                                                                                                                                                                                                                                                                                                                                                                                                                                                                                                                                                                                                                                                                                                                                                                                                                                                                                                                                                                                                                                                                                                                                                                                                                                                                                                                                                                                                                                                                                                                                                                                                                                                                                                                                                                                                                                                                                                                                                                                                                                                                                                                                                                                                                                                                                                                                                                                              |insee                                                                           |nom                                                                             |wikipedia                                                                       |surf_ha                 |\n",
      "+------------------------------------------------------------------------------------------------------------------------------------------------------------------------------------------------------------------------------------------------------------------------------------------------------------------------------------------------------------------------------------------------------------------------------------------------------------------------------------------------------------------------------------------------------------------------------------------------------------------------------------------------------------------------------------------------------------------------------------------------------------------------------------------------------------------------------------------------------------------------------------------------------------------------------------------------------------------------------------------------------------------------------------------------------------------------------------------------------------------------------------------------------------------------------------------------------------------------------------------------------------------------------------------------------------------------------------------------------------------------------------------------------------------------------------------------------------------------------------------------------------------------------------------------------------------------------------------------------------------------------------------------------------------------------------------------------------------------------------------------------------------------------------------------------------------------------------------------------------------------------------------------------------------------------------------------------------------------------------------------------------------------------------------------------------------------------------------------------------------------------------------------------------------------------------------------------------------------------------------------------------------------------------------------------------------------------------------------------------------------------------------------------------------------------------------------------------------------------------------------------------------------------------------------------------------------------------------------------------------------------------------------------------------------------------------------------------------------------------------------------------------------------------------------------------------------------------------------------------------------------------------------------------------------------------------------------------------------------------------------------------------------------------------------------------------------------------------------------------------------------------------------------------------------------------------------------------------------------------------------------------------------------------------------------------------------------------------------------------------------------------------------------------------------------------------------------------------------------------------------------------------------------------------------------------------------------------------------------------------------------------------------------------------------------------------------------------------------------------------------------------------------------------------------------------------------------------------------------------------------------------------------------------------------------------------------------------------------------------------------------------------------------------------------------------------------------------------------------------------------------------------------------------------------------------------------------------------------------------------------------------------------------------------------------------------------------------------------------------------------------------------------------------------------------------------------------------------------------------------------------------------------------------------------------------------------------------------------------------------------------------------------------+--------------------------------------------------------------------------------+--------------------------------------------------------------------------------+--------------------------------------------------------------------------------+------------------------+\n",
      "|POLYGON ((2.3642488999999998 48.816326899737874, 2.3647314 48.81648169973784, 2.3661678999999998 48.81691379973773, 2.3669819 48.81720569973767, 2.3741539 48.81951359973709, 2.3746098 48.81966089973706, 2.3760249999999994 48.82011829973694, 2.3778589 48.82074799973678, 2.3790587 48.82113909973669, 2.3807451999999993 48.82168769973656, 2.3815135 48.82241289973638, 2.3839639999999997 48.82328119973616, 2.3851504 48.82370149973604, 2.3871707999999994 48.824423299735855, 2.3888123999999995 48.82500599973573, 2.3888380999999996 48.82501969973574, 2.3897776 48.8255203997356, 2.3902559 48.825726199735556, 2.3905972 48.825434799735625, 2.3909926 48.8251147997357, 2.3937564 48.82331779973613, 2.3963742 48.82154909973658, 2.3990779 48.82033399973691, 2.4018072999999998 48.81932809973713, 2.4051717999999997 48.81818649973743, 2.407618 48.81739529973762, 2.4093608 48.816633499737804, 2.4097600999999997 48.81622419973791, 2.4099078 48.816072799737924, 2.4101290999999994 48.81570229973802, 2.4102402999999994 48.81522949973816, 2.4102417999999997 48.81393329973848, 2.4097276999999995 48.81184689973899, 2.4089823 48.809361299739614, 2.4089604 48.809288299739606, 2.4088439000000004 48.80850359973982, 2.4041529999999995 48.808112999739905, 2.4044162999999994 48.80725689974012, 2.4052655999999994 48.80461639974078, 2.404978 48.80428849974087, 2.4043543 48.80451809974081, 2.402267 48.80428939974087, 2.402243 48.80403399974094, 2.4006436 48.804029399740934, 2.4003951999999997 48.80453429974081, 2.4000429 48.80443109974083, 2.3996749999999993 48.80432329974086, 2.3996317 48.804305399740855, 2.3995987999999997 48.804264199740864, 2.3995014 48.803961999740935, 2.3994394999999997 48.80367419974101, 2.3990561999999995 48.8029490997412, 2.3990222999999995 48.8028831997412, 2.3988985 48.80265879974128, 2.3984556 48.801828499741475, 2.3983662 48.80166089974154, 2.3981774999999996 48.801815399741464, 2.3973649999999997 48.802480499741314, 2.3970812 48.80226039974138, 2.3969805999999996 48.80218479974139, 2.3963289 48.8013276997416, 2.3956009 48.80069819974176, 2.3947834999999995 48.800034199741916, 2.3946178 48.79990399974194, 2.3945456 48.79992469974194, 2.3940483 48.800250699741866, 2.3936469 48.80061499974177, 2.3935332 48.80064089974178, 2.3934016 48.800622099741766, 2.3930528999999994 48.80041789974181, 2.3927613999999995 48.8004791997418, 2.3917148 48.79935449974209, 2.3907765999999997 48.79986229974197, 2.3905277 48.79988359974195, 2.3902682 48.799947099741935, 2.3900371999999996 48.80007169974191, 2.3900053 48.80015399974189, 2.3895964 48.80019169974187, 2.389117 48.80007839974189, 2.3888854 48.80028599974186, 2.3886117000000002 48.80044119974181, 2.3879786999999997 48.80040529974182, 2.3869298 48.80035029974183, 2.3866448 48.80074539974172, 2.3856089 48.804299499740864, 2.3850551 48.8041245997409, 2.3843607999999996 48.80390579974096, 2.3841449 48.80383769974098, 2.3836174999999997 48.80367139974102, 2.3830196 48.80347219974107, 2.3828816 48.80340889974108, 2.3827017 48.803315699741106, 2.3821935999999995 48.80306549974116, 2.38154 48.802585499741284, 2.3814717999999995 48.80254899974129, 2.3795139999999995 48.80147649974157, 2.3793135999999997 48.80140199974158, 2.3792422 48.80149789974155, 2.3789542999999997 48.80186529974147, 2.3783979 48.8025683997413, 2.3779665 48.80312499974116, 2.3776211 48.803571699741035, 2.3774146999999997 48.80383059974098, 2.3770859999999994 48.80425529974087, 2.3766751 48.80478539974075, 2.3763011 48.80527019974062, 2.3761326999999994 48.80550769974055, 2.3758482 48.80595199974045, 2.3756726 48.805958099740444, 2.3756215999999997 48.80593559974045, 2.3712225 48.80400309974094, 2.370223 48.80497679974069, 2.3703664999999994 48.805040499740684, 2.3699146 48.805277199740615, 2.3684042 48.806824999740236, 2.3674538 48.80779889973999, 2.3671738 48.808085799739914, 2.3681976 48.808493399739824, 2.3678787 48.80890669973972, 2.3656446 48.80916969973967, 2.3643125 48.811199699739156, 2.3647368 48.81149099973908, 2.3654323 48.81169019973904, 2.3662357999999997 48.81192029973897, 2.3658383 48.81261309973881, 2.3655996999999997 48.8130137997387, 2.3649876 48.814043999738445, 2.3650964999999995 48.81410299973843, 2.3645358 48.815048299738194, 2.3647077 48.81512029973817, 2.3646661999999994 48.81517939973817, 2.3646001 48.81526769973814, 2.3646012 48.815495099738065, 2.3648279 48.81556669973808, 2.3647406 48.81568449973804, 2.3646681 48.815777899738016, 2.3642488999999998 48.816326899737874))|94041                                                                           |Ivry-sur-Seine                                                                  |fr:Ivry-sur-Seine                                                               |     611.000000000000000|\n",
      "+------------------------------------------------------------------------------------------------------------------------------------------------------------------------------------------------------------------------------------------------------------------------------------------------------------------------------------------------------------------------------------------------------------------------------------------------------------------------------------------------------------------------------------------------------------------------------------------------------------------------------------------------------------------------------------------------------------------------------------------------------------------------------------------------------------------------------------------------------------------------------------------------------------------------------------------------------------------------------------------------------------------------------------------------------------------------------------------------------------------------------------------------------------------------------------------------------------------------------------------------------------------------------------------------------------------------------------------------------------------------------------------------------------------------------------------------------------------------------------------------------------------------------------------------------------------------------------------------------------------------------------------------------------------------------------------------------------------------------------------------------------------------------------------------------------------------------------------------------------------------------------------------------------------------------------------------------------------------------------------------------------------------------------------------------------------------------------------------------------------------------------------------------------------------------------------------------------------------------------------------------------------------------------------------------------------------------------------------------------------------------------------------------------------------------------------------------------------------------------------------------------------------------------------------------------------------------------------------------------------------------------------------------------------------------------------------------------------------------------------------------------------------------------------------------------------------------------------------------------------------------------------------------------------------------------------------------------------------------------------------------------------------------------------------------------------------------------------------------------------------------------------------------------------------------------------------------------------------------------------------------------------------------------------------------------------------------------------------------------------------------------------------------------------------------------------------------------------------------------------------------------------------------------------------------------------------------------------------------------------------------------------------------------------------------------------------------------------------------------------------------------------------------------------------------------------------------------------------------------------------------------------------------------------------------------------------------------------------------------------------------------------------------------------------------------------------------------------------------------------------------------------------------------------------------------------------------------------------------------------------------------------------------------------------------------------------------------------------------------------------------------------------------------------------------------------------------------------------------------------------------------------------------------------------------------------------------------------------------------------------------------------------------+--------------------------------------------------------------------------------+--------------------------------------------------------------------------------+--------------------------------------------------------------------------------+------------------------+\n",
      "\n"
     ]
    },
    {
     "name": "stderr",
     "output_type": "stream",
     "text": [
      "                                                                                \r"
     ]
    }
   ],
   "source": [
    "ivry_df.show(2,truncate=False)"
   ],
   "metadata": {
    "collapsed": false
   }
  },
  {
   "cell_type": "code",
   "execution_count": 46,
   "outputs": [
    {
     "name": "stderr",
     "output_type": "stream",
     "text": [
      "[Stage 36:>                                                         (0 + 1) / 1]\r"
     ]
    },
    {
     "name": "stdout",
     "output_type": "stream",
     "text": [
      "+--------------------+--------------------+-----------------+\n",
      "|        commune_name|               insee|         distance|\n",
      "+--------------------+--------------------+-----------------+\n",
      "|Ivry-sur-Seine   ...|94041            ...|6784236.321633434|\n",
      "+--------------------+--------------------+-----------------+\n",
      "\n"
     ]
    },
    {
     "name": "stderr",
     "output_type": "stream",
     "text": [
      "                                                                                \r"
     ]
    }
   ],
   "source": [
    "ivry_df.createOrReplaceTempView(\"ivry\")\n",
    "sedona.sql(\"SELECT z.nom as commune_name, z.insee, ST_DistanceSphere(ST_PointFromText('48.8100, 2.3539', ','), z.geometry) AS distance FROM ivry as z ORDER BY distance ASC LIMIT 10\").show()"
   ],
   "metadata": {
    "collapsed": false
   }
  },
  {
   "cell_type": "markdown",
   "source": [
    "The distance is 6784 kilometers, it's completely wrong.\n",
    "My first guess is the projection system (epsg) which the French commune uses is not the same that the googl use. For example\n",
    "\n",
    "- Google Earth is in a `Geographic coordinate system with the wgs84 datum`. (EPSG: 4326)\n",
    "\n",
    "- Google Maps is in a `projected coordinate system that is based on the wgs84 datum`. (EPSG 3857)\n",
    "\n",
    "- The data in Open Street Map database is stored in a gcs with units decimal degrees & datum of wgs84. (EPSG: 4326)\n",
    "\n",
    "- The Open Street Map tiles and the WMS webservice, are in the projected coordinate system that is based on the wgs84 datum. (EPSG 3857)\n",
    "\n",
    "As our data is from https://www.data.gouv.fr/fr/datasets/decoupage-administratif-communal-francais-issu-d-openstreetmap/. So yy first try is to convert the ivry-sur-seine polygon from epsg:4326 to 3857."
   ],
   "metadata": {
    "collapsed": false
   }
  },
  {
   "cell_type": "code",
   "execution_count": 34,
   "outputs": [],
   "source": [
    "src_epsg = \"EPSG:4326\"\n",
    "target_epsg = \"EPSG:3857\""
   ],
   "metadata": {
    "collapsed": false
   }
  },
  {
   "cell_type": "code",
   "execution_count": 43,
   "outputs": [
    {
     "name": "stderr",
     "output_type": "stream",
     "text": [
      "[Stage 33:>                                                         (0 + 1) / 1]\r"
     ]
    },
    {
     "name": "stdout",
     "output_type": "stream",
     "text": [
      "+---------------------------------------------------------------------------------------------------------------------------------------------------------------------------------------------------------------------------------------------------------------------------------------------------------------------------------------------------------------------------------------------------------------------------------------------------------------------------------------------------------------------------------------------------------------------------------------------------------------------------------------------------------------------------------------------------------------------------------------------------------------------------------------------------------------------------------------------------------------------------------------------------------------------------------------------------------------------------------------------------------------------------------------------------------------------------------------------------------------------------------------------------------------------------------------------------------------------------------------------------------------------------------------------------------------------------------------------------------------------------------------------------------------------------------------------------------------------------------------------------------------------------------------------------------------------------------------------------------------------------------------------------------------------------------------------------------------------------------------------------------------------------------------------------------------------------------------------------------------------------------------------------------------------------------------------------------------------------------------------------------------------------------------------------------------------------------------------------------------------------------------------------------------------------------------------------------------------------------------------------------------------------------------------------------------------------------------------------------------------------------------------------------------------------------------------------------------------------------------------------------------------------------------------------------------------------------------------------------------------------------------------------------------------------------------------------------------------------------------------------------------------------------------------------------------------------------------------------------------------------------------------------------------------------------------------------------------------------------------------------------------------------------------------------------------------------------------------------------------------------------------------------------------------------------------------------------------------------------------------------------------------------------------------------------------------------------------------------------------------------------------------------------------------------------------------------------------------------------------------------------------------------------------------------------------------------------------------------------------------------------------------------------------------------------------------------------------------------------------------------------------------------------------------------------------------------------------------------------------------------------------------------------------------------------------------------------------------------------------------------------------------------------------------------------------------------------------------------------------------------------------------------------------------------------------------------------------------------------------------------------------------------------------------------------------------------------------------------------------------------------------------------------------------------------------------------------------------------------------------------------------------------------------------------------------------------------------------------------------------------------------------------------------------------------------------------------------------------------------------------------------------------------------------------------------------------------------------------------------------------------------------------------------------------------------------------------------------------------------------------------------------------------------------------------------------------------------------------------------------------------------------------------------------------------------------------------------------------------------------------------------------------------------------------------------------------------+\n",
      "|st_transform(geometry, epsg:4326, epsg:3857, false)                                                                                                                                                                                                                                                                                                                                                                                                                                                                                                                                                                                                                                                                                                                                                                                                                                                                                                                                                                                                                                                                                                                                                                                                                                                                                                                                                                                                                                                                                                                                                                                                                                                                                                                                                                                                                                                                                                                                                                                                                                                                                                                                                                                                                                                                                                                                                                                                                                                                                                                                                                                                                                                                                                                                                                                                                                                                                                                                                                                                                                                                                                                                                                                                                                                                                                                                                                                                                                                                                                                                                                                                                                                                                                                                                                                                                                                                                                                                                                                                                                                                                                                                                                                                                                                                                                                                                                                                                                                                                                                                                                                                                                                                                                                                                                                                                                                                                                                                                                                                                                                                                                                                                                                                                                                                              |\n",
      "+---------------------------------------------------------------------------------------------------------------------------------------------------------------------------------------------------------------------------------------------------------------------------------------------------------------------------------------------------------------------------------------------------------------------------------------------------------------------------------------------------------------------------------------------------------------------------------------------------------------------------------------------------------------------------------------------------------------------------------------------------------------------------------------------------------------------------------------------------------------------------------------------------------------------------------------------------------------------------------------------------------------------------------------------------------------------------------------------------------------------------------------------------------------------------------------------------------------------------------------------------------------------------------------------------------------------------------------------------------------------------------------------------------------------------------------------------------------------------------------------------------------------------------------------------------------------------------------------------------------------------------------------------------------------------------------------------------------------------------------------------------------------------------------------------------------------------------------------------------------------------------------------------------------------------------------------------------------------------------------------------------------------------------------------------------------------------------------------------------------------------------------------------------------------------------------------------------------------------------------------------------------------------------------------------------------------------------------------------------------------------------------------------------------------------------------------------------------------------------------------------------------------------------------------------------------------------------------------------------------------------------------------------------------------------------------------------------------------------------------------------------------------------------------------------------------------------------------------------------------------------------------------------------------------------------------------------------------------------------------------------------------------------------------------------------------------------------------------------------------------------------------------------------------------------------------------------------------------------------------------------------------------------------------------------------------------------------------------------------------------------------------------------------------------------------------------------------------------------------------------------------------------------------------------------------------------------------------------------------------------------------------------------------------------------------------------------------------------------------------------------------------------------------------------------------------------------------------------------------------------------------------------------------------------------------------------------------------------------------------------------------------------------------------------------------------------------------------------------------------------------------------------------------------------------------------------------------------------------------------------------------------------------------------------------------------------------------------------------------------------------------------------------------------------------------------------------------------------------------------------------------------------------------------------------------------------------------------------------------------------------------------------------------------------------------------------------------------------------------------------------------------------------------------------------------------------------------------------------------------------------------------------------------------------------------------------------------------------------------------------------------------------------------------------------------------------------------------------------------------------------------------------------------------------------------------------------------------------------------------------------------------------------------------------------------------------------------+\n",
      "|POLYGON ((5434208.652876804 263261.70405937417, 5434225.885133974 263315.46148322424, 5434273.986285934 263475.5083076207, 5434306.48044529 263566.1997247974, 5434563.3946980275 264365.26694762096, 5434579.792059017 264416.0611126157, 5434630.709594093 264573.73593380576, 5434700.807477428 264778.0605485562, 5434744.344530267 264911.73683529795, 5434805.414402901 265099.639230299, 5434886.143297604 265185.2399054505, 5434982.802011436 265458.26437449246, 5435029.589593403 265590.44827899936, 5435109.940001837 265815.55336328805, 5435174.805869108 265998.4542733273, 5435176.3309461335 266001.31767259573, 5435232.068615158 266105.9933363657, 5435254.978166359 266159.2838055858, 5435222.539666749 266197.3102378979, 5435186.917429703 266241.3643116492, 5434986.876304796 266549.297516614, 5434789.9855214795 266840.9644702619, 5434654.721208254 267142.2027142597, 5434542.7449324895 267446.3049801965, 5434415.662601832 267821.1691833679, 5434327.586620739 268093.7192700481, 5434242.783432673 268287.89841365, 5434197.220365102 268332.38762240345, 5434180.366594198 268348.844064808, 5434139.122722871 268373.50087725284, 5434086.490867638 268385.89056491066, 5433942.198543708 268386.0576919982, 5433709.941558174 268328.77767860674, 5433433.245831927 268245.7267114122, 5433425.119509099 268243.28665819427, 5433337.767104697 268230.3064670742, 5433294.285711602 267707.6569294344, 5433198.985095558 267736.99317618227, 5432905.045980193 267831.6201587908, 5432868.5443191705 267799.57644537935, 5432894.10327425 267730.08528619906, 5432868.644506712 267497.52355379594, 5432840.213508772 267494.84953603987, 5432839.701439113 267316.64864196465, 5432895.906650001 267288.97259334655, 5432884.418478554 267249.72029952466, 5432872.41823745 267208.7299075504, 5432870.425618564 267203.90554303443, 5432865.839255544 267200.2399174413, 5432832.198505434 267189.3878835285, 5432800.160755993 267182.49116011837, 5432719.4429932395 267139.7849621782, 5432712.107038797 267136.0079209854, 5432687.126945071 267122.21447931114, 5432594.698371886 267072.867839153, 5432576.041225238 267062.90715102473, 5432593.240086556 267041.88274768327, 5432667.278679866 266951.35640181974, 5432642.77725995 266919.7362582303, 5432634.361506447 266908.5277099635, 5432538.949570912 266835.9172835367, 5432468.873951474 266754.80578468065, 5432394.957809606 266663.7336668793, 5432380.464011908 266645.2719045793, 5432382.768325367 266637.2276129529, 5432419.058479357 266581.82005901664, 5432459.612169842 266537.09738687234, 5432462.495344655 266524.4293079803, 5432460.402538226 266509.76687145524, 5432437.671098211 266470.9158781339, 5432444.494982996 266438.4379259989, 5432319.293951732 266321.8293218186, 5432375.821989144 266217.2983517305, 5432378.193094296 266189.56679427833, 5432385.26188196 266160.6542276825, 5432399.13229051 266134.91703427007, 5432408.2938846 266131.36285075906, 5432412.490629401 266085.8046876031, 5432399.878131096 266032.39168601064, 5432422.9880573815 266006.58766438626, 5432440.264842346 265976.0930209543, 5432436.268472628 265905.56652141846, 5432430.145900636 265788.70206630556, 5432474.128231436 265756.9484639185, 5432869.768833569 265641.53253089316, 5432850.299054633 265579.8303330329, 5432825.942350054 265502.47421793407, 5432818.361492734 265478.41951575, 5432799.849061419 265419.65876306227, 5432777.674218859 265353.0432157153, 5432770.627695092 265337.6678300704, 5432760.252718554 265317.6241231279, 5432732.400581963 265261.0137565153, 5432678.967226396 265188.192422105, 5432674.904064982 265180.5938699243, 5432555.513911138 264962.46433143987, 5432547.220609075 264940.13665481703, 5432557.896148239 264932.18158518826, 5432598.794929148 264900.1050551032, 5432677.0636631055 264838.1134751234, 5432739.024091665 264790.04884890665, 5432788.750508188 264751.5659624368, 5432817.571124349 264728.5698241078, 5432864.848512077 264691.94758959574, 5432923.858974133 264646.1670233366, 5432977.826663255 264604.4976952437, 5433004.265042311 264585.7353597568, 5433053.7242920585 264554.03771384817, 5433054.4033409525 264534.4731947134, 5433051.89865241 264528.7910170699, 5432836.773736507 264038.6649892, 5432945.165524664 263927.3058455771, 5432952.256576227 263943.29387175944, 5432978.60589969 263892.9455217478, 5433150.906207498 263724.6647207567, 5433259.320259554 263618.7762599528, 5433291.257821454 263587.58017844666, 5433336.631645891 263701.64645279176, 5433382.639991425 263666.116325676, 5433411.917017497 263417.20511877345, 5433637.895583751 263268.7900109612, 5433670.32295141 263316.06312081893, 5433692.497793972 263393.55183440686, 5433718.112408795 263483.0733513186, 5433795.234552 263438.7860978268, 5433839.840271948 263412.2026103808, 5433954.521611335 263344.0058472793, 5433961.08946129 263356.13887481595, 5434066.31977591 263293.66883412056, 5434074.334779245 263312.82096269383, 5434080.913761151 263308.19726651534, 5434090.743272185 263300.8327772243, 5434116.057324383 263300.9553330199, 5434124.027799925 263326.2129702372, 5434137.141235936 263316.48649542517, 5434147.538476373 263308.40895380714, 5434208.652876804 263261.70405937417))|\n",
      "+---------------------------------------------------------------------------------------------------------------------------------------------------------------------------------------------------------------------------------------------------------------------------------------------------------------------------------------------------------------------------------------------------------------------------------------------------------------------------------------------------------------------------------------------------------------------------------------------------------------------------------------------------------------------------------------------------------------------------------------------------------------------------------------------------------------------------------------------------------------------------------------------------------------------------------------------------------------------------------------------------------------------------------------------------------------------------------------------------------------------------------------------------------------------------------------------------------------------------------------------------------------------------------------------------------------------------------------------------------------------------------------------------------------------------------------------------------------------------------------------------------------------------------------------------------------------------------------------------------------------------------------------------------------------------------------------------------------------------------------------------------------------------------------------------------------------------------------------------------------------------------------------------------------------------------------------------------------------------------------------------------------------------------------------------------------------------------------------------------------------------------------------------------------------------------------------------------------------------------------------------------------------------------------------------------------------------------------------------------------------------------------------------------------------------------------------------------------------------------------------------------------------------------------------------------------------------------------------------------------------------------------------------------------------------------------------------------------------------------------------------------------------------------------------------------------------------------------------------------------------------------------------------------------------------------------------------------------------------------------------------------------------------------------------------------------------------------------------------------------------------------------------------------------------------------------------------------------------------------------------------------------------------------------------------------------------------------------------------------------------------------------------------------------------------------------------------------------------------------------------------------------------------------------------------------------------------------------------------------------------------------------------------------------------------------------------------------------------------------------------------------------------------------------------------------------------------------------------------------------------------------------------------------------------------------------------------------------------------------------------------------------------------------------------------------------------------------------------------------------------------------------------------------------------------------------------------------------------------------------------------------------------------------------------------------------------------------------------------------------------------------------------------------------------------------------------------------------------------------------------------------------------------------------------------------------------------------------------------------------------------------------------------------------------------------------------------------------------------------------------------------------------------------------------------------------------------------------------------------------------------------------------------------------------------------------------------------------------------------------------------------------------------------------------------------------------------------------------------------------------------------------------------------------------------------------------------------------------------------------------------------------------------------------------------------------------------------+\n",
      "\n"
     ]
    },
    {
     "name": "stderr",
     "output_type": "stream",
     "text": [
      "                                                                                \r"
     ]
    }
   ],
   "source": [
    "from sedona.sql.st_functions import ST_Transform\n",
    "\n",
    "sedona.sql(\"SELECT ST_Transform(ivry.geometry,'epsg:4326','epsg:3857') FROM ivry\").show(truncate=False)"
   ],
   "metadata": {
    "collapsed": false
   }
  },
  {
   "cell_type": "markdown",
   "source": [
    "After conversion, the coordiantes is still wrong, because the above coordinates in google maps are not in france at all. My second try is to convert the hospital from 3847 to 4326. which is wrong too."
   ],
   "metadata": {
    "collapsed": false
   }
  },
  {
   "cell_type": "code",
   "execution_count": 41,
   "outputs": [
    {
     "name": "stdout",
     "output_type": "stream",
     "text": [
      "+------------------------------------------------------------------------------+\n",
      "|st_transform(st_pointfromtext(48.8100,2.3539, ,), epsg:3857, epsg:4326, false)|\n",
      "+------------------------------------------------------------------------------+\n",
      "|POINT (0.0000211454434645 0.0004384676901787)                                 |\n",
      "+------------------------------------------------------------------------------+\n",
      "\n"
     ]
    }
   ],
   "source": [
    "sedona.sql(\"SELECT ST_Transform(ST_PointFromText('48.8100,2.3539', ','), 'epsg:3857','epsg:4326')\").show(truncate=False)"
   ],
   "metadata": {
    "collapsed": false
   }
  },
  {
   "cell_type": "markdown",
   "source": [
    "My third try is to inverse the order of 48.8100° N, 2.3539° E"
   ],
   "metadata": {
    "collapsed": false
   }
  },
  {
   "cell_type": "code",
   "execution_count": 47,
   "outputs": [
    {
     "name": "stderr",
     "output_type": "stream",
     "text": [
      "[Stage 37:>                                                         (0 + 1) / 1]\r"
     ]
    },
    {
     "name": "stdout",
     "output_type": "stream",
     "text": [
      "+--------------------+--------------------+-----------------+\n",
      "|        commune_name|               insee|         distance|\n",
      "+--------------------+--------------------+-----------------+\n",
      "|Ivry-sur-Seine   ...|94041            ...|3769.348960915047|\n",
      "+--------------------+--------------------+-----------------+\n",
      "\n"
     ]
    },
    {
     "name": "stderr",
     "output_type": "stream",
     "text": [
      "                                                                                \r"
     ]
    }
   ],
   "source": [
    "sedona.sql(\"SELECT z.nom as commune_name, z.insee, ST_DistanceSphere(ST_PointFromText('2.3539, 48.8100', ','), z.geometry) AS distance FROM ivry as z ORDER BY distance ASC LIMIT 10\").show()"
   ],
   "metadata": {
    "collapsed": false
   }
  },
  {
   "cell_type": "markdown",
   "source": [
    "This time the result is correct. So the conclusion is that the **OpenstreetMap which we download uses epsg:3857**. The coordinates of a Point has an order (E, N) (unlike the google order N, E).\n",
    "\n",
    "Let's rerun the"
   ],
   "metadata": {
    "collapsed": false
   }
  },
  {
   "cell_type": "code",
   "execution_count": 48,
   "outputs": [
    {
     "name": "stderr",
     "output_type": "stream",
     "text": [
      "[Stage 38:>                                                         (0 + 1) / 1]\r"
     ]
    },
    {
     "name": "stdout",
     "output_type": "stream",
     "text": [
      "+--------------------------------------------------------------------------------+--------------------------------------------------------------------------------+------------------+\n",
      "|commune_name                                                                    |insee                                                                           |distance          |\n",
      "+--------------------------------------------------------------------------------+--------------------------------------------------------------------------------+------------------+\n",
      "|Le Kremlin-Bicêtre                                                              |94043                                                                           |255.77950075329835|\n",
      "|Gentilly                                                                        |94037                                                                           |1138.204118880015 |\n",
      "|Villejuif                                                                       |94076                                                                           |2067.5242470555963|\n",
      "|Arcueil                                                                         |94003                                                                           |2269.505672821453 |\n",
      "|Cachan                                                                          |94016                                                                           |3169.7694895288837|\n",
      "|Ivry-sur-Seine                                                                  |94041                                                                           |3769.348960915047 |\n",
      "|Montrouge                                                                       |92049                                                                           |4124.301376321017 |\n",
      "|L'Haÿ-les-Roses                                                                 |94038                                                                           |4166.688028197553 |\n",
      "|Chevilly-Larue                                                                  |94021                                                                           |4789.020724647998 |\n",
      "|Bagneux                                                                         |92007                                                                           |5041.99634269013  |\n",
      "+--------------------------------------------------------------------------------+--------------------------------------------------------------------------------+------------------+\n",
      "\n"
     ]
    },
    {
     "name": "stderr",
     "output_type": "stream",
     "text": [
      "                                                                                \r"
     ]
    }
   ],
   "source": [
    "KB_nearest_neighbor_df = sedona.sql(\"SELECT z.nom as commune_name, z.insee, ST_DistanceSphere(ST_PointFromText('2.3539,48.8100', ','), z.geometry) AS distance FROM fr_zones as z ORDER BY distance ASC LIMIT 10\")\n",
    "KB_nearest_neighbor_df.show(truncate=False)"
   ],
   "metadata": {
    "collapsed": false
   }
  },
  {
   "cell_type": "markdown",
   "source": [
    "Now the result is correct. Let's create a function which can return the 5 nearest commune of any hospital"
   ],
   "metadata": {
    "collapsed": false
   }
  },
  {
   "cell_type": "code",
   "execution_count": 55,
   "outputs": [],
   "source": [
    "def get_nearest_district_of_hospital(hospital_coordinates:str):\n",
    "    query = f\"SELECT z.nom as commune_name, z.insee, ST_DistanceSphere(ST_PointFromText('{hospital_coordinates}', ','), z.geometry) AS distance FROM fr_zones as z ORDER BY distance ASC LIMIT 10\"\n",
    "    print(query)\n",
    "    return sedona.sql(query)\n"
   ],
   "metadata": {
    "collapsed": false
   }
  },
  {
   "cell_type": "code",
   "execution_count": 56,
   "outputs": [],
   "source": [
    "Bichat_Claude_Bernard = \"2.3318, 48.8989\""
   ],
   "metadata": {
    "collapsed": false
   }
  },
  {
   "cell_type": "code",
   "execution_count": 58,
   "outputs": [
    {
     "name": "stdout",
     "output_type": "stream",
     "text": [
      "SELECT z.nom as commune_name, z.insee, ST_DistanceSphere(ST_PointFromText('2.3318, 48.8989', ','), z.geometry) AS distance FROM fr_zones as z ORDER BY distance ASC LIMIT 10\n"
     ]
    },
    {
     "name": "stderr",
     "output_type": "stream",
     "text": [
      "[Stage 40:>                                                         (0 + 1) / 1]\r"
     ]
    },
    {
     "name": "stdout",
     "output_type": "stream",
     "text": [
      "+--------------------------------------------------------------------------------+--------------------------------------------------------------------------------+------------------+\n",
      "|commune_name                                                                    |insee                                                                           |distance          |\n",
      "+--------------------------------------------------------------------------------+--------------------------------------------------------------------------------+------------------+\n",
      "|Saint-Ouen-sur-Seine                                                            |93070                                                                           |1203.6350169395325|\n",
      "|Clichy-la-Garenne                                                               |92024                                                                           |2930.2283994384406|\n",
      "|Villeneuve-la-Garenne                                                           |92078                                                                           |4286.473317131374 |\n",
      "|L'Île-Saint-Denis                                                               |93039                                                                           |4333.932632693258 |\n",
      "|Saint-Denis                                                                     |93066                                                                           |4586.5773233611   |\n",
      "|Paris                                                                           |75056                                                                           |4855.962690619354 |\n",
      "|Levallois-Perret                                                                |92044                                                                           |5011.414560699081 |\n",
      "|Asnières-sur-Seine                                                              |92004                                                                           |5245.627393000233 |\n",
      "|Gennevilliers                                                                   |92036                                                                           |5781.882118659237 |\n",
      "|Aubervilliers                                                                   |93001                                                                           |6050.297718643379 |\n",
      "+--------------------------------------------------------------------------------+--------------------------------------------------------------------------------+------------------+\n",
      "\n"
     ]
    },
    {
     "name": "stderr",
     "output_type": "stream",
     "text": [
      "                                                                                \r"
     ]
    }
   ],
   "source": [
    "bcb_nearest_commune = get_nearest_district_of_hospital(Bichat_Claude_Bernard)\n",
    "bcb_nearest_commune.show(truncate=False)"
   ],
   "metadata": {
    "collapsed": false
   }
  },
  {
   "cell_type": "code",
   "execution_count": null,
   "outputs": [],
   "source": [],
   "metadata": {
    "collapsed": false
   }
  }
 ],
 "metadata": {
  "kernelspec": {
   "display_name": "Python 3",
   "language": "python",
   "name": "python3"
  },
  "language_info": {
   "codemirror_mode": {
    "name": "ipython",
    "version": 2
   },
   "file_extension": ".py",
   "mimetype": "text/x-python",
   "name": "python",
   "nbconvert_exporter": "python",
   "pygments_lexer": "ipython2",
   "version": "2.7.6"
  }
 },
 "nbformat": 4,
 "nbformat_minor": 0
}
