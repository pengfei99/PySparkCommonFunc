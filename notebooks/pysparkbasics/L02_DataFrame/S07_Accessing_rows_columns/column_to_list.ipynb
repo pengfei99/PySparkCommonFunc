{
 "cells": [
  {
   "cell_type": "markdown",
   "id": "86bcc56e-fdca-44f9-93a8-5419ea5f8fdf",
   "metadata": {},
   "source": [
    "# 1. Access the element of a dataframe\n",
    "\n"
   ]
  },
  {
   "cell_type": "code",
   "execution_count": 1,
   "id": "2853ca51-2c49-43ef-83aa-1b2927b133a5",
   "metadata": {},
   "outputs": [],
   "source": [
    "from pyspark.sql import SparkSession, DataFrame\n",
    "import os"
   ]
  },
  {
   "cell_type": "code",
   "execution_count": 2,
   "id": "3f5f603e-8984-490c-8164-31f511ec89d9",
   "metadata": {},
   "outputs": [
    {
     "name": "stderr",
     "output_type": "stream",
     "text": [
      "2022-11-09 11:01:56,682 WARN util.NativeCodeLoader: Unable to load native-hadoop library for your platform... using builtin-java classes where applicable\n"
     ]
    }
   ],
   "source": [
    "local=True\n",
    "if local:\n",
    "    spark=SparkSession.builder.master(\"local[4]\").appName(\"RemoveDuplicates\").getOrCreate()\n",
    "else:\n",
    "    spark=SparkSession.builder \\\n",
    "                      .master(\"k8s://https://kubernetes.default.svc:443\") \\\n",
    "                      .appName(\"RemoveDuplicates\") \\\n",
    "                      .config(\"spark.kubernetes.container.image\",\"inseefrlab/jupyter-datascience:master\") \\\n",
    "                      .config(\"spark.kubernetes.authenticate.driver.serviceAccountName\",os.environ['KUBERNETES_SERVICE_ACCOUNT']) \\\n",
    "                      .config(\"spark.kubernetes.namespace\", os.environ['KUBERNETES_NAMESPACE']) \\\n",
    "                      .config(\"spark.executor.instances\", \"4\") \\\n",
    "                      .config(\"spark.executor.memory\",\"8g\") \\\n",
    "                      .config('spark.jars.packages', 'org.apache.spark:spark-sql-kafka-0-10_2.12:3.1.1') \\\n",
    "                      .getOrCreate()                "
   ]
  },
  {
   "cell_type": "markdown",
   "id": "f3929cd2-5228-4749-a0eb-8583181ae3b8",
   "metadata": {},
   "source": [
    "## 1.1 Get column as a list\n",
    "\n",
    "This use case is useful when you have a categorical column, and you want to get the distinct value of the colum as a list"
   ]
  },
  {
   "cell_type": "code",
   "execution_count": 3,
   "id": "bcdc6f72-e434-4011-b916-3093f4d069c1",
   "metadata": {},
   "outputs": [
    {
     "name": "stdout",
     "output_type": "stream",
     "text": [
      "Source data frame: \n",
      "root\n",
      " |-- name: string (nullable = true)\n",
      " |-- department: string (nullable = true)\n",
      " |-- salary: long (nullable = true)\n",
      "\n"
     ]
    },
    {
     "name": "stderr",
     "output_type": "stream",
     "text": [
      "                                                                                \r"
     ]
    },
    {
     "name": "stdout",
     "output_type": "stream",
     "text": [
      "+-------+----------+------+\n",
      "|name   |department|salary|\n",
      "+-------+----------+------+\n",
      "|James  |Sales     |3000  |\n",
      "|Michael|Sales     |4600  |\n",
      "|Robert |Sales     |4100  |\n",
      "|Maria  |Finance   |3000  |\n",
      "|James  |Sales     |3000  |\n",
      "|Scott  |Finance   |3300  |\n",
      "|Jen    |Finance   |3900  |\n",
      "|Jeff   |Marketing |3000  |\n",
      "|Kumar  |Marketing |2000  |\n",
      "|Saif   |Sales     |4100  |\n",
      "+-------+----------+------+\n",
      "\n"
     ]
    },
    {
     "data": {
      "text/plain": [
       "10"
      ]
     },
     "execution_count": 3,
     "metadata": {},
     "output_type": "execute_result"
    }
   ],
   "source": [
    "data = [(\"James\", \"Sales\", 3000),\n",
    "            (\"Michael\", \"Sales\", 4600),\n",
    "            (\"Robert\", \"Sales\", 4100),\n",
    "            (\"Maria\", \"Finance\", 3000),\n",
    "            (\"James\", \"Sales\", 3000),\n",
    "            (\"Scott\", \"Finance\", 3300),\n",
    "            (\"Jen\", \"Finance\", 3900),\n",
    "            (\"Jeff\", \"Marketing\", 3000),\n",
    "            (\"Kumar\", \"Marketing\", 2000),\n",
    "            (\"Saif\", \"Sales\", 4100)\n",
    "            ]\n",
    "columns = [\"name\", \"department\", \"salary\"]\n",
    "df = spark.createDataFrame(data=data, schema=columns)\n",
    "print(\"Source data frame: \")\n",
    "df.printSchema()\n",
    "df.show(truncate=False)\n",
    "df.count()"
   ]
  },
  {
   "cell_type": "code",
   "execution_count": 8,
   "id": "13686675-59d7-4069-b1e2-98b86bb8295e",
   "metadata": {},
   "outputs": [],
   "source": [
    "name=df.select(\"name\").distinct()"
   ]
  },
  {
   "cell_type": "code",
   "execution_count": 9,
   "id": "6b4dc220-2c80-4e59-975e-a6827e824c13",
   "metadata": {},
   "outputs": [
    {
     "name": "stdout",
     "output_type": "stream",
     "text": [
      "<class 'pyspark.sql.dataframe.DataFrame'>\n"
     ]
    }
   ],
   "source": [
    "print(type(name))"
   ]
  },
  {
   "cell_type": "code",
   "execution_count": 10,
   "id": "8f08256a-35e7-43ee-8d6c-bb8fe6a1d535",
   "metadata": {},
   "outputs": [
    {
     "name": "stdout",
     "output_type": "stream",
     "text": [
      "DataFrame[name: string]\n"
     ]
    }
   ],
   "source": [
    "print(name)"
   ]
  },
  {
   "cell_type": "code",
   "execution_count": 17,
   "id": "0ef092d4-d198-4d86-9cde-4438a3e61f39",
   "metadata": {},
   "outputs": [],
   "source": [
    "name_list=name.toPandas()['name'].tolist()"
   ]
  },
  {
   "cell_type": "code",
   "execution_count": 18,
   "id": "9a71a630-c0cb-4d7c-b987-785ef6c222fc",
   "metadata": {},
   "outputs": [
    {
     "name": "stdout",
     "output_type": "stream",
     "text": [
      "<class 'list'>\n",
      "['James', 'Michael', 'Maria', 'Robert', 'Scott', 'Jen', 'Kumar', 'Saif', 'Jeff']\n"
     ]
    }
   ],
   "source": [
    "print(type(name_list))\n",
    "print(name_list)"
   ]
  },
  {
   "cell_type": "code",
   "execution_count": null,
   "id": "507c9afc-74e6-4f95-99e0-5b44ed6cb7ad",
   "metadata": {},
   "outputs": [],
   "source": []
  }
 ],
 "metadata": {
  "kernelspec": {
   "display_name": "Python 3 (ipykernel)",
   "language": "python",
   "name": "python3"
  },
  "language_info": {
   "codemirror_mode": {
    "name": "ipython",
    "version": 3
   },
   "file_extension": ".py",
   "mimetype": "text/x-python",
   "name": "python",
   "nbconvert_exporter": "python",
   "pygments_lexer": "ipython3",
   "version": "3.10.4"
  }
 },
 "nbformat": 4,
 "nbformat_minor": 5
}
