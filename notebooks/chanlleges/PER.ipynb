{
 "cells": [
  {
   "cell_type": "markdown",
   "metadata": {
    "collapsed": true,
    "pycharm": {
     "name": "#%% md\n"
    }
   },
   "source": [
    "# Find the best PER contract\n",
    "\n",
    "PER (Plan d’Epargne Retraite) is a French investment account which allows you to prepare your retirement and reduce some tax. But there are so many banks and insurance company that offers various contract of PER.\n",
    "\n",
    "The objective of this challenge is to find the `best PER contract of 2022` in the market.\n",
    "\n",
    "The raw data is coming from https://www.francetransactions.com/per-plan-epargne-retraite-206/comparatif-per.html\n",
    "\n",
    "\n",
    "## Data description\n",
    "\n",
    "- Frais sur versements maximum : Des réductions importantes, jusqu'à l'annulation complète des frais sur versements (0%), peuvent être proposées aux épargnants, selon leur intermédiaire. (This tells you how much money you need to pay when you transfer money into your PER account)\n",
    "\n",
    "\n",
    "- Frais de gestion sur le fonds euros pour les supports assurance-vie, frais de gestion de compte pour les autres supports (compte-titres, etc.).\n",
    "\n",
    "- Frais de gestion sur les unités de compte pour les supports en assurance-vie. Frais de gestion des produits sur les encours du contrat pour les autres supports (compte-titres, etc.).\n",
    "\n",
    "- Taux publié par les assureurs, nets des frais de gestion, nets de prélèvements sociaux.\n",
    "\n",
    "- Taux nets pour les épargnants, nets des prélèvements sociaux.\n",
    "\n",
    "- Votes instantanés des lecteurs, 1 vote par contrat par lecteur (adresse IP) est autorisé. N'induit rien sur la qualité intrinsèque des contrats."
   ]
  },
  {
   "cell_type": "code",
   "execution_count": null,
   "outputs": [],
   "source": [],
   "metadata": {
    "collapsed": false,
    "pycharm": {
     "name": "#%%\n"
    }
   }
  },
  {
   "cell_type": "code",
   "execution_count": null,
   "outputs": [],
   "source": [],
   "metadata": {
    "collapsed": false,
    "pycharm": {
     "name": "#%%\n"
    }
   }
  },
  {
   "cell_type": "code",
   "execution_count": null,
   "outputs": [],
   "source": [],
   "metadata": {
    "collapsed": false,
    "pycharm": {
     "name": "#%%\n"
    }
   }
  }
 ],
 "metadata": {
  "kernelspec": {
   "display_name": "Python 3",
   "language": "python",
   "name": "python3"
  },
  "language_info": {
   "codemirror_mode": {
    "name": "ipython",
    "version": 2
   },
   "file_extension": ".py",
   "mimetype": "text/x-python",
   "name": "python",
   "nbconvert_exporter": "python",
   "pygments_lexer": "ipython2",
   "version": "2.7.6"
  }
 },
 "nbformat": 4,
 "nbformat_minor": 0
}