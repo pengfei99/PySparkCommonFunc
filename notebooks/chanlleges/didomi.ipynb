{
 "cells": [
  {
   "cell_type": "markdown",
   "metadata": {
    "collapsed": true,
    "pycharm": {
     "name": "#%% md\n"
    }
   },
   "source": [
    "# Introduction\n",
    "The Didomi challenge is the recruiting challenge for all the data engineer who wants to work at Didomi. You can check\n",
    "the origin [git repo](https://github.com/pengfei99/challenges/blob/master/data/README.md)\n",
    "\n",
    "## The challenge\n",
    "\n",
    "In some specific cases, companies need to collect consent from consumers before using their data. For instance,\n",
    "app users might need to explicitly consent to share their geolocation before a company can use it for advertising.\n",
    "\n",
    "As users interact with the Didomi platform, we collect different types of events like:\n",
    "\n",
    "- \"Page view\" when a user visits a webpage\n",
    "- \"Consent asked\" when a user is asked for consent (ie a consent notice is displayed)\n",
    "- \"Consent given\" when a user gives consent (ie has clicked on a Agree or Disagree in the notice)\n",
    "\n",
    "The goal of this challenge is to build a very simple Spark app that processes events and summarizes various metrics as time-series data.\n",
    "\n",
    "\n",
    "## Input\n",
    "\n",
    "### Format\n",
    "\n",
    "Events are stored as JSON Lines files with the following format:\n",
    "\n",
    "```js\n",
    "{\n",
    "    \"timestamp\": \"2020-01-21T15:19:34Z\",\n",
    "    \"id\": \"94cabac0-088c-43d3-976a-88756d21132a\",\n",
    "    \"type\": \"pageview\",\n",
    "    \"domain\": \"www.website.com\",\n",
    "    \"user\": {\n",
    "        \"id\": \"09fcb803-2779-4096-bcfd-0fb1afef684a\",\n",
    "        \"country\": \"US\",\n",
    "        \"token\": \"{\\\"vendors\\\":{\\\"enabled\\\":[\\\"vendor\\\"],\\\"disabled\\\":[]},\\\"purposes\\\":{\\\"enabled\\\":[\\\"analytics\\\"],\\\"disabled\\\":[]}}\",\n",
    "    }\n",
    "}\n",
    "```\n",
    "\n",
    "| Property       | Values                                       | Description                          |\n",
    "| -------------- | -------------------------------------------- | ------------------------------------ |\n",
    "| 'timestamp'    | ISO 8601 date                                | Date of the event                    |\n",
    "| 'id'           | UUID                                         | Unique event ID                      |\n",
    "| 'type'         | 'pageview', 'consent.given', 'consent.asked' | Event type                           |\n",
    "| 'domain'       | Domain name                                  | Domain where the event was collected |\n",
    "| 'user.id'      | UUID                                         | Unique user ID                       |\n",
    "| 'user.token'   | JSON-String                                  | Contains status of purposes/vendors  |\n",
    "| 'user.country' | ISO 3166-1 alpha-2 country code              | Country of the user                  |\n",
    "\n",
    "### Consent status\n",
    "\n",
    "We consider an event as positive consent when at least one purpose is enabled.\n",
    "\n",
    "### Partitioning\n",
    "\n",
    "The data is partitioned by date/hour with Hive partition structure.\n",
    "\n",
    "## Output\n",
    "\n",
    "The Spark job is expected to compute the following metrics:\n",
    "\n",
    "| Metric                        | Description                                                                      |\n",
    "| ----------------------------- | -------------------------------------------------------------------------------- |\n",
    "| 'pageviews'                   | Number of events of type 'pageview'                                              |\n",
    "| 'pageviews_with_consent'      | Number of events of type 'pageview' with consent (at least one enabled purpose)  |\n",
    "| 'consents_asked'              | Number of events of type 'consent.asked'                                         |\n",
    "| 'consents_given'              | Number of events of type 'consent.given'                                         |\n",
    "| 'consents_given_with_consent' | Number of events of type 'consent.given' with consent                            |\n",
    "| 'avg_pageviews_per_user'      | Average number of events of type 'pageviews' per user                            |\n",
    "\n",
    "The metrics should be grouped by the following dimensions:\n",
    "\n",
    "- Date and hour (YYYY-MM-DD-HH)\n",
    "- Domain\n",
    "- User country\n",
    "\n",
    "## Processing\n",
    "\n",
    "On top of computing the metrics listed above, the following operations must be run:\n",
    "\n",
    "- Deduplication of events based on event ID"
   ]
  },
  {
   "cell_type": "markdown",
   "metadata": {
    "pycharm": {
     "name": "#%%\n"
    }
   },
   "source": [
    "## Step 0 \n",
    "Load the data"
   ]
  },
  {
   "cell_type": "code",
   "execution_count": 32,
   "metadata": {},
   "outputs": [],
   "source": [
    "from pyspark.sql import SparkSession, DataFrame\n",
    "from pyspark.sql.functions import to_timestamp, col, from_json, date_format,size, count"
   ]
  },
  {
   "cell_type": "code",
   "execution_count": 4,
   "metadata": {},
   "outputs": [
    {
     "name": "stderr",
     "output_type": "stream",
     "text": [
      "21/09/19 12:23:13 WARN Utils: Your hostname, localhost.localdomain resolves to a loopback address: 127.0.0.1; using 192.168.184.142 instead (on interface ens33)\n",
      "21/09/19 12:23:13 WARN Utils: Set SPARK_LOCAL_IP if you need to bind to another address\n",
      "21/09/19 12:23:14 WARN NativeCodeLoader: Unable to load native-hadoop library for your platform... using builtin-java classes where applicable\n",
      "Using Spark's default log4j profile: org/apache/spark/log4j-defaults.properties\n",
      "Setting default log level to \"WARN\".\n",
      "To adjust logging level use sc.setLogLevel(newLevel). For SparkR, use setLogLevel(newLevel).\n",
      "21/09/19 12:23:14 WARN Utils: Service 'SparkUI' could not bind on port 4040. Attempting port 4041.\n",
      "                                                                                \r"
     ]
    },
    {
     "name": "stdout",
     "output_type": "stream",
     "text": [
      "root\n",
      " |-- datetime: string (nullable = true)\n",
      " |-- domain: string (nullable = true)\n",
      " |-- id: string (nullable = true)\n",
      " |-- type: string (nullable = true)\n",
      " |-- user: struct (nullable = true)\n",
      " |    |-- country: string (nullable = true)\n",
      " |    |-- id: string (nullable = true)\n",
      " |    |-- token: string (nullable = true)\n",
      "\n",
      "+-------------------+---------------+------------------------------------+-------------+------------------------------------------------------------------------------------------------------------------------------------------------+\n",
      "|datetime           |domain         |id                                  |type         |user                                                                                                                                            |\n",
      "+-------------------+---------------+------------------------------------+-------------+------------------------------------------------------------------------------------------------------------------------------------------------+\n",
      "|2021-01-23 10:23:51|www.domain-A.eu|1c269ade-d654-4374-aafb-3deaebe5376b|pageview     |{FR, 1705c98b-367c-6d09-a30f-da9e6f4da700, {\"vendors\":{\"enabled\":[],\"disabled\":[]},\"purposes\":{\"enabled\":[],\"disabled\":[]}}}                    |\n",
      "|2021-01-23 10:55:27|www.domain-A.eu|465a12b2-44c4-42fd-bb39-57ba71305ba6|consent.asked|{FR, 1705c98b-367c-6d09-a30f-da9e6f4da700, {\"vendors\":{\"enabled\":[],\"disabled\":[]},\"purposes\":{\"enabled\":[],\"disabled\":[]}}}                    |\n",
      "|2021-01-23 10:15:04|www.domain-A.eu|abe2c9c3-a5e2-4479-aa4b-bbbcd52aafe9|consent.given|{FR, 1705c98b-367c-6d09-a30f-da9e6f4da700, {\"vendors\":{\"enabled\":[\"Vendor1\"],\"disabled\":[]},\"purposes\":{\"enabled\":[\"analytics\"],\"disabled\":[]}}}|\n",
      "|2021-01-23 10:29:53|www.domain-A.eu|268811c3-0320-4add-a7c3-3c7b5cc694fc|pageview     |{FR, 1705c98b-367c-6d09-a30f-da9e6f4da700, {\"vendors\":{\"enabled\":[\"Vendor1\"],\"disabled\":[]},\"purposes\":{\"enabled\":[\"analytics\"],\"disabled\":[]}}}|\n",
      "|2021-01-23 10:25:41|www.domain-A.eu|b60fbfa8-3934-48f0-8b3c-77b40f979362|pageview     |{FR, 1705c98b-367c-6d09-a30f-da9e6f4da700, {\"vendors\":{\"enabled\":[\"Vendor1\"],\"disabled\":[]},\"purposes\":{\"enabled\":[\"analytics\"],\"disabled\":[]}}}|\n",
      "+-------------------+---------------+------------------------------------+-------------+------------------------------------------------------------------------------------------------------------------------------------------------+\n",
      "only showing top 5 rows\n",
      "\n"
     ]
    }
   ],
   "source": [
    "spark = SparkSession.builder \\\n",
    "        .master(\"local[4]\") \\\n",
    "        .appName(\"didomi_challenge\") \\\n",
    "        .config(\"spark.driver.memory\",\"4g\") \\\n",
    "        .getOrCreate()\n",
    "    \n",
    "root_path = \"/home/pliu/data_set/didomi_challenge_input\"\n",
    "data_path1 = \"{}/datehour=2021-01-23-10\".format(root_path)\n",
    "data_path2 = \"{}/datehour=2021-01-23-11\".format(root_path)\n",
    "\n",
    "df = spark.read.json(['{}/*.json'.format(data_path1), '{}/*.json'.format(data_path2)])\n",
    "df.printSchema()\n",
    "df.show(5, truncate=False)"
   ]
  },
  {
   "cell_type": "markdown",
   "metadata": {},
   "source": [
    "## Step1 Data preprocessing \n",
    "\n",
    "After step0, we could already notice some problems:\n",
    "- datetime is in string type and format does not meets the requirements,(need to be convert to timestamp with format YYYY-MM-DD-HH , for arthitemetic operation) \n",
    "- user is struct type (need to be flattened to get better performence)\n",
    "- we could have duplicatedd event id(tips from the intro), (need to be deduplicated)\n",
    "\n",
    "So the data preprocessing will focus on these three point.\n"
   ]
  },
  {
   "cell_type": "code",
   "execution_count": 5,
   "metadata": {},
   "outputs": [
    {
     "name": "stdout",
     "output_type": "stream",
     "text": [
      "Row number before dedup: 62\n"
     ]
    },
    {
     "name": "stderr",
     "output_type": "stream",
     "text": [
      "[Stage 5:============================================>          (163 + 5) / 200]\r"
     ]
    },
    {
     "name": "stdout",
     "output_type": "stream",
     "text": [
      "Row number after dedup: 57\n"
     ]
    },
    {
     "name": "stderr",
     "output_type": "stream",
     "text": [
      "\r",
      "                                                                                \r"
     ]
    }
   ],
   "source": [
    "# 1.1 Remove duplicate event based on event id \n",
    "# row number before dedup\n",
    "print(\"Row number before dedup: {}\".format(df.count()))\n",
    "\n",
    "# remove duplicate based on event id\n",
    "df_dedup = df.dropDuplicates([\"id\"])\n",
    "print(\"Row number after dedup: {}\".format(df_dedup.count()))"
   ]
  },
  {
   "cell_type": "code",
   "execution_count": 6,
   "metadata": {},
   "outputs": [
    {
     "name": "stdout",
     "output_type": "stream",
     "text": [
      "root\n",
      " |-- datetime: string (nullable = true)\n",
      " |-- domain: string (nullable = true)\n",
      " |-- id: string (nullable = true)\n",
      " |-- type: string (nullable = true)\n",
      " |-- user: struct (nullable = true)\n",
      " |    |-- country: string (nullable = true)\n",
      " |    |-- id: string (nullable = true)\n",
      " |    |-- token: string (nullable = true)\n",
      "\n",
      "+-------------+--------------------+------------------------------------+-------------+------------------------------------------------------------------------------------------------------------------------------------------------+\n",
      "|datetime     |domain              |id                                  |type         |user                                                                                                                                            |\n",
      "+-------------+--------------------+------------------------------------+-------------+------------------------------------------------------------------------------------------------------------------------------------------------+\n",
      "|2021-01-23-11|www.domain-A.eu     |515d7d1a-2465-4ad1-91ba-2081867521c6|pageview     |{ES, 8bfa9ffb-97d5-46f1-b712-215374a30e96, {\"vendors\":{\"enabled\":[\"Vendor1\"],\"disabled\":[]},\"purposes\":{\"enabled\":[\"analytics\"],\"disabled\":[]}}}|\n",
      "|2021-01-23-10|my-other-website.com|b6f9743e-a43e-44a8-b1e8-4cd4ed2ff02e|consent.given|{FR, cf73342a-9edb-4312-ba75-123a0bb5d701, {\"vendors\":{\"enabled\":[\"Vendor1\"],\"disabled\":[]},\"purposes\":{\"enabled\":[],\"disabled\":[\"analytics\"]}}}|\n",
      "|2021-01-23-10|www.mywebsite.com   |639b3171-a205-4be9-b744-adf10e7b2c61|consent.asked|{FR, d902eb4a-bac4-4bd5-acf4-9004ed770bf6, {\"vendors\":{\"enabled\":[],\"disabled\":[]},\"purposes\":{\"enabled\":[],\"disabled\":[]}}}                    |\n",
      "|2021-01-23-10|www.mywebsite.com   |85f451dc-368a-4d8e-abf2-c93efb9a37fc|pageview     |{FR, 8a082392-1ce7-4957-ab7f-335b35e5aab3, {\"vendors\":{\"enabled\":[\"Vendor1\"],\"disabled\":[]},\"purposes\":{\"enabled\":[\"analytics\"],\"disabled\":[]}}}|\n",
      "|2021-01-23-10|www.mywebsite.com   |e8eee2ee-6930-42d2-9645-f7706f6b756c|consent.given|{FR, cf73342a-9edb-4312-ba75-123a0bb5d701, {\"vendors\":{\"enabled\":[\"Vendor1\"],\"disabled\":[]},\"purposes\":{\"enabled\":[],\"disabled\":[\"analytics\"]}}}|\n",
      "+-------------+--------------------+------------------------------------+-------------+------------------------------------------------------------------------------------------------------------------------------------------------+\n",
      "only showing top 5 rows\n",
      "\n"
     ]
    }
   ],
   "source": [
    "# 1.2 Convert date to required format\n",
    "# convert string date to timestamp then to right date format\n",
    "df_cleaned = df_dedup.withColumn(\"datetime\", to_timestamp(col(\"datetime\"), \"yyyy-MM-DD HH:mm:ss\")) \\\n",
    "        .withColumn(\"datetime\", date_format(\"datetime\", \"yyyy-MM-DD-HH\"))\n",
    "df_cleaned.printSchema()\n",
    "df_cleaned.show(5, truncate=False)"
   ]
  },
  {
   "cell_type": "code",
   "execution_count": 8,
   "metadata": {},
   "outputs": [
    {
     "name": "stdout",
     "output_type": "stream",
     "text": [
      "root\n",
      " |-- datetime: string (nullable = true)\n",
      " |-- domain: string (nullable = true)\n",
      " |-- id: string (nullable = true)\n",
      " |-- type: string (nullable = true)\n",
      " |-- user_country: string (nullable = true)\n",
      " |-- user_id: string (nullable = true)\n",
      " |-- user_token: string (nullable = true)\n",
      "\n",
      "+-------------+--------------------+------------------------------------+-------------+------------+------------------------------------+----------------------------------------------------------------------------------------------------+\n",
      "|datetime     |domain              |id                                  |type         |user_country|user_id                             |user_token                                                                                          |\n",
      "+-------------+--------------------+------------------------------------+-------------+------------+------------------------------------+----------------------------------------------------------------------------------------------------+\n",
      "|2021-01-23-11|www.domain-A.eu     |515d7d1a-2465-4ad1-91ba-2081867521c6|pageview     |ES          |8bfa9ffb-97d5-46f1-b712-215374a30e96|{\"vendors\":{\"enabled\":[\"Vendor1\"],\"disabled\":[]},\"purposes\":{\"enabled\":[\"analytics\"],\"disabled\":[]}}|\n",
      "|2021-01-23-10|my-other-website.com|b6f9743e-a43e-44a8-b1e8-4cd4ed2ff02e|consent.given|FR          |cf73342a-9edb-4312-ba75-123a0bb5d701|{\"vendors\":{\"enabled\":[\"Vendor1\"],\"disabled\":[]},\"purposes\":{\"enabled\":[],\"disabled\":[\"analytics\"]}}|\n",
      "|2021-01-23-10|www.mywebsite.com   |639b3171-a205-4be9-b744-adf10e7b2c61|consent.asked|FR          |d902eb4a-bac4-4bd5-acf4-9004ed770bf6|{\"vendors\":{\"enabled\":[],\"disabled\":[]},\"purposes\":{\"enabled\":[],\"disabled\":[]}}                    |\n",
      "|2021-01-23-10|www.mywebsite.com   |85f451dc-368a-4d8e-abf2-c93efb9a37fc|pageview     |FR          |8a082392-1ce7-4957-ab7f-335b35e5aab3|{\"vendors\":{\"enabled\":[\"Vendor1\"],\"disabled\":[]},\"purposes\":{\"enabled\":[\"analytics\"],\"disabled\":[]}}|\n",
      "|2021-01-23-10|www.mywebsite.com   |e8eee2ee-6930-42d2-9645-f7706f6b756c|consent.given|FR          |cf73342a-9edb-4312-ba75-123a0bb5d701|{\"vendors\":{\"enabled\":[\"Vendor1\"],\"disabled\":[]},\"purposes\":{\"enabled\":[],\"disabled\":[\"analytics\"]}}|\n",
      "+-------------+--------------------+------------------------------------+-------------+------------+------------------------------------+----------------------------------------------------------------------------------------------------+\n",
      "only showing top 5 rows\n",
      "\n"
     ]
    }
   ],
   "source": [
    "# 1.3 flat the struct type of user\n",
    "df_flat = df_cleaned.withColumn(\"user_country\", df_cleaned.user.country) \\\n",
    "        .withColumn(\"user_id\", df_cleaned.user.id).withColumn(\"user_token\", df_cleaned.user.token).drop('user')\n",
    "\n",
    "df_flat.printSchema()\n",
    "df_flat.show(5, truncate=False)"
   ]
  },
  {
   "cell_type": "code",
   "execution_count": 21,
   "metadata": {},
   "outputs": [
    {
     "name": "stderr",
     "output_type": "stream",
     "text": [
      "[Stage 177:========================================>             (75 + 4) / 100]\r"
     ]
    },
    {
     "name": "stdout",
     "output_type": "stream",
     "text": [
      "+-----------------+---------------+\n",
      "|         purposes|        vendors|\n",
      "+-----------------+---------------+\n",
      "|{[], [analytics]}|{[], [Vendor1]}|\n",
      "|{[analytics], []}|{[], [Vendor1]}|\n",
      "|         {[], []}|       {[], []}|\n",
      "|{[], [analytics]}|{[], [Vendor1]}|\n",
      "|{[analytics], []}|{[], [Vendor1]}|\n",
      "|         {[], []}|       {[], []}|\n",
      "|         {[], []}|       {[], []}|\n",
      "|{[], [analytics]}|{[], [Vendor1]}|\n",
      "|{[], [analytics]}|{[], [Vendor1]}|\n",
      "|         {[], []}|       {[], []}|\n",
      "|{[], [analytics]}|{[], [Vendor1]}|\n",
      "|{[], [analytics]}|{[], [Vendor1]}|\n",
      "|{[], [analytics]}|{[], [Vendor1]}|\n",
      "|{[analytics], []}|{[], [Vendor1]}|\n",
      "|         {[], []}|       {[], []}|\n",
      "|         {[], []}|       {[], []}|\n",
      "|{[], [analytics]}|{[], [Vendor1]}|\n",
      "|{[], [analytics]}|{[], [Vendor1]}|\n",
      "|         {[], []}|       {[], []}|\n",
      "|{[], [analytics]}|{[], [Vendor1]}|\n",
      "+-----------------+---------------+\n",
      "only showing top 20 rows\n",
      "\n",
      "root\n",
      " |-- purposes: struct (nullable = true)\n",
      " |    |-- disabled: array (nullable = true)\n",
      " |    |    |-- element: string (containsNull = true)\n",
      " |    |-- enabled: array (nullable = true)\n",
      " |    |    |-- element: string (containsNull = true)\n",
      " |-- vendors: struct (nullable = true)\n",
      " |    |-- disabled: array (nullable = true)\n",
      " |    |    |-- element: string (containsNull = true)\n",
      " |    |-- enabled: array (nullable = true)\n",
      " |    |    |-- element: string (containsNull = true)\n",
      "\n"
     ]
    },
    {
     "name": "stderr",
     "output_type": "stream",
     "text": [
      "\r",
      "[Stage 177:==================================================>   (93 + 4) / 100]\r",
      "\r",
      "                                                                                \r"
     ]
    }
   ],
   "source": [
    "# We can notice that the user_token is a json string, so we need to flat the token again\n",
    "# We need to get the json string column schema first. Because the from_json function needs it\n",
    "json_df = spark.read.json(df_flat.select(\"user_token\").rdd.map(lambda row: row.user_token))\n",
    "json_df.show()\n",
    "json_df.printSchema()\n",
    "json_schema=json_df.schema\n"
   ]
  },
  {
   "cell_type": "code",
   "execution_count": 11,
   "metadata": {},
   "outputs": [
    {
     "name": "stdout",
     "output_type": "stream",
     "text": [
      "root\n",
      " |-- datetime: string (nullable = true)\n",
      " |-- domain: string (nullable = true)\n",
      " |-- id: string (nullable = true)\n",
      " |-- type: string (nullable = true)\n",
      " |-- user_country: string (nullable = true)\n",
      " |-- user_id: string (nullable = true)\n",
      " |-- token: struct (nullable = true)\n",
      " |    |-- purposes: struct (nullable = true)\n",
      " |    |    |-- disabled: array (nullable = true)\n",
      " |    |    |    |-- element: string (containsNull = true)\n",
      " |    |    |-- enabled: array (nullable = true)\n",
      " |    |    |    |-- element: string (containsNull = true)\n",
      " |    |-- vendors: struct (nullable = true)\n",
      " |    |    |-- disabled: array (nullable = true)\n",
      " |    |    |    |-- element: string (containsNull = true)\n",
      " |    |    |-- enabled: array (nullable = true)\n",
      " |    |    |    |-- element: string (containsNull = true)\n",
      "\n",
      "+-------------+--------------------+--------------------+-------------+------------+--------------------+--------------------+\n",
      "|     datetime|              domain|                  id|         type|user_country|             user_id|               token|\n",
      "+-------------+--------------------+--------------------+-------------+------------+--------------------+--------------------+\n",
      "|2021-01-23-11|     www.domain-A.eu|515d7d1a-2465-4ad...|     pageview|          ES|8bfa9ffb-97d5-46f...|{{[], [analytics]...|\n",
      "|2021-01-23-10|my-other-website.com|b6f9743e-a43e-44a...|consent.given|          FR|cf73342a-9edb-431...|{{[analytics], []...|\n",
      "+-------------+--------------------+--------------------+-------------+------------+--------------------+--------------------+\n",
      "only showing top 2 rows\n",
      "\n"
     ]
    }
   ],
   "source": [
    "# we convert the token json string to a struct column.\n",
    "df_token_flat = df_flat.withColumn(\"token\", from_json(col(\"user_token\"), schema=json_schema)).drop(\"user_token\")\n",
    "df_token_flat.printSchema()\n",
    "df_token_flat.show(2)\n"
   ]
  },
  {
   "cell_type": "code",
   "execution_count": 15,
   "metadata": {},
   "outputs": [
    {
     "name": "stdout",
     "output_type": "stream",
     "text": [
      "root\n",
      " |-- datetime: string (nullable = true)\n",
      " |-- domain: string (nullable = true)\n",
      " |-- id: string (nullable = true)\n",
      " |-- type: string (nullable = true)\n",
      " |-- user_country: string (nullable = true)\n",
      " |-- user_id: string (nullable = true)\n",
      " |-- consent: integer (nullable = false)\n",
      "\n"
     ]
    },
    {
     "name": "stderr",
     "output_type": "stream",
     "text": [
      "\r",
      "[Stage 60:===================>                                     (7 + 4) / 20]\r",
      "\r",
      "                                                                                \r"
     ]
    },
    {
     "name": "stdout",
     "output_type": "stream",
     "text": [
      "+-------------+--------------------+------------------------------------+-------------+------------+------------------------------------+-------+\n",
      "|datetime     |domain              |id                                  |type         |user_country|user_id                             |consent|\n",
      "+-------------+--------------------+------------------------------------+-------------+------------+------------------------------------+-------+\n",
      "|2021-01-23-11|www.domain-A.eu     |515d7d1a-2465-4ad1-91ba-2081867521c6|pageview     |ES          |8bfa9ffb-97d5-46f1-b712-215374a30e96|1      |\n",
      "|2021-01-23-10|my-other-website.com|b6f9743e-a43e-44a8-b1e8-4cd4ed2ff02e|consent.given|FR          |cf73342a-9edb-4312-ba75-123a0bb5d701|0      |\n",
      "|2021-01-23-10|www.mywebsite.com   |639b3171-a205-4be9-b744-adf10e7b2c61|consent.asked|FR          |d902eb4a-bac4-4bd5-acf4-9004ed770bf6|0      |\n",
      "|2021-01-23-10|www.mywebsite.com   |85f451dc-368a-4d8e-abf2-c93efb9a37fc|pageview     |FR          |8a082392-1ce7-4957-ab7f-335b35e5aab3|1      |\n",
      "|2021-01-23-10|www.mywebsite.com   |e8eee2ee-6930-42d2-9645-f7706f6b756c|consent.given|FR          |cf73342a-9edb-4312-ba75-123a0bb5d701|0      |\n",
      "+-------------+--------------------+------------------------------------+-------------+------------+------------------------------------+-------+\n",
      "only showing top 5 rows\n",
      "\n"
     ]
    },
    {
     "data": {
      "text/plain": [
       "DataFrame[datetime: string, domain: string, id: string, type: string, user_country: string, user_id: string, consent: int]"
      ]
     },
     "execution_count": 15,
     "metadata": {},
     "output_type": "execute_result"
    }
   ],
   "source": [
    "# We consider an event as positive consent when at least one purpose is enabled.\n",
    "# here we get the size of the purpose enabled list. If the size is greater or equal to 1, we have the consent.\n",
    "df_ready = df_token_flat.withColumn(\"consent\", size(df_token_flat.token.purposes.enabled)).drop(\"token\")\n",
    "# finish data preparation, ready for stats analyze\n",
    "df_ready.printSchema()\n",
    "df_ready.show(5, truncate=False)\n",
    "df_ready.cache()"
   ]
  },
  {
   "cell_type": "markdown",
   "metadata": {},
   "source": [
    "## Step 2 Get the metric"
   ]
  },
  {
   "cell_type": "code",
   "execution_count": 17,
   "metadata": {},
   "outputs": [
    {
     "name": "stderr",
     "output_type": "stream",
     "text": [
      "                                                                                \r"
     ]
    },
    {
     "name": "stdout",
     "output_type": "stream",
     "text": [
      "+--------------------+---------+\n",
      "|              domain|pageviews|\n",
      "+--------------------+---------+\n",
      "|   www.mywebsite.com|       13|\n",
      "|     www.domain-A.eu|       17|\n",
      "|my-other-website.com|        1|\n",
      "+--------------------+---------+\n",
      "\n",
      "+------------+---------+\n",
      "|user_country|pageviews|\n",
      "+------------+---------+\n",
      "|          DE|        4|\n",
      "|          ES|       13|\n",
      "|          FR|       14|\n",
      "+------------+---------+\n",
      "\n"
     ]
    },
    {
     "name": "stderr",
     "output_type": "stream",
     "text": [
      "                                                                                \r"
     ]
    },
    {
     "name": "stdout",
     "output_type": "stream",
     "text": [
      "+-------------+---------+\n",
      "|     datetime|pageviews|\n",
      "+-------------+---------+\n",
      "|2021-01-23-11|       15|\n",
      "|2021-01-23-10|       16|\n",
      "+-------------+---------+\n",
      "\n"
     ]
    }
   ],
   "source": [
    "# Get the page view groupby date, by country, by domain\n",
    "\n",
    "df_page_view = df_ready.filter(col(\"type\") == \"pageview\")\n",
    "df_page_view_groupby_date = df_page_view.groupBy(\"datetime\").count() \\\n",
    "                    .select(\"datetime\",col(\"count\").alias(\"pageviews\"))\n",
    "\n",
    "def group_by_count(df: DataFrame, group_col_name: str, count_alias: str) -> DataFrame:\n",
    "    return df.groupBy(group_col_name).count().withColumnRenamed(\"count\", count_alias)\n",
    "\n",
    "df_page_view_groupby_country = group_by_count(df_page_view, \"user_country\", \"pageviews\")\n",
    "df_page_view_groupby_domain = group_by_count(df_page_view, \"domain\", \"pageviews\")\n",
    "\n",
    "df_page_view_groupby_domain.show()\n",
    "df_page_view_groupby_country.show()\n",
    "df_page_view_groupby_date.show()"
   ]
  },
  {
   "cell_type": "code",
   "execution_count": 20,
   "metadata": {},
   "outputs": [
    {
     "name": "stderr",
     "output_type": "stream",
     "text": [
      "                                                                                \r"
     ]
    },
    {
     "name": "stdout",
     "output_type": "stream",
     "text": [
      "+-------------+----------------------+\n",
      "|     datetime|pageviews_with_consent|\n",
      "+-------------+----------------------+\n",
      "|2021-01-23-11|                     8|\n",
      "|2021-01-23-10|                     8|\n",
      "+-------------+----------------------+\n",
      "\n",
      "+-----------------+----------------------+\n",
      "|           domain|pageviews_with_consent|\n",
      "+-----------------+----------------------+\n",
      "|www.mywebsite.com|                     8|\n",
      "|  www.domain-A.eu|                     8|\n",
      "+-----------------+----------------------+\n",
      "\n"
     ]
    },
    {
     "name": "stderr",
     "output_type": "stream",
     "text": [
      "                                                                                \r"
     ]
    },
    {
     "name": "stdout",
     "output_type": "stream",
     "text": [
      "+------------+----------------------+\n",
      "|user_country|pageviews_with_consent|\n",
      "+------------+----------------------+\n",
      "|          DE|                     3|\n",
      "|          ES|                     5|\n",
      "|          FR|                     8|\n",
      "+------------+----------------------+\n",
      "\n"
     ]
    }
   ],
   "source": [
    "# page view with consent groupby date, country domain\n",
    "df_page_view_with_consent = df_ready.filter((col(\"type\") == \"pageview\") & (col(\"consent\")>0))\n",
    "df_page_view_consent_date = group_by_count(df_page_view_with_consent, \"datetime\", \"pageviews_with_consent\")\n",
    "df_page_view_consent_country = group_by_count(df_page_view_with_consent, \"user_country\", \"pageviews_with_consent\")\n",
    "df_page_view_consent_domain = group_by_count(df_page_view_with_consent, \"domain\", \"pageviews_with_consent\")\n",
    "\n",
    "df_page_view_consent_date.show()\n",
    "df_page_view_consent_domain.show()\n",
    "df_page_view_consent_country.show()"
   ]
  },
  {
   "cell_type": "code",
   "execution_count": 22,
   "metadata": {},
   "outputs": [],
   "source": [
    "# total consents_asked groupBy\n",
    "df_consents_asked = df_ready.filter(col(\"type\") == \"consent.asked\")\n",
    "df_consents_asked_date = group_by_count(df_consents_asked, \"datetime\", \"consents_asked\")\n",
    "df_consents_asked_country = group_by_count(df_consents_asked, \"user_country\", \"consents_asked\")\n",
    "df_consents_asked_domain = group_by_count(df_consents_asked, \"domain\", \"consents_asked\")"
   ]
  },
  {
   "cell_type": "code",
   "execution_count": 23,
   "metadata": {},
   "outputs": [],
   "source": [
    "# total consents_given\n",
    "df_consents_given = df_ready.filter(col(\"type\") == \"consent.given\")\n",
    "df_consents_given_date = group_by_count(df_consents_given, \"datetime\", \"consents_given\")\n",
    "df_consents_given_country = group_by_count(df_consents_given, \"user_country\", \"consents_given\")\n",
    "df_consents_given_domain = group_by_count(df_consents_given, \"domain\", \"consents_given\")\n",
    "# df_consents_given.show()"
   ]
  },
  {
   "cell_type": "code",
   "execution_count": 27,
   "metadata": {},
   "outputs": [
    {
     "name": "stdout",
     "output_type": "stream",
     "text": [
      "+--------------------+---------------------------+\n",
      "|              domain|consents_given_with_consent|\n",
      "+--------------------+---------------------------+\n",
      "|   www.mywebsite.com|                          6|\n",
      "|     www.domain-A.eu|                          5|\n",
      "|my-other-website.com|                          1|\n",
      "+--------------------+---------------------------+\n",
      "\n"
     ]
    }
   ],
   "source": [
    "# total consents_given with consent\n",
    "df_consents_given_with_consent = df_ready.filter((col(\"type\") == \"consent.given\")&(col(\"consent\")>0))\n",
    "df_consents_given_with_consent_date = group_by_count(df_consents_given_with_consent, \"datetime\", \"consents_given_with_consent\")\n",
    "df_consents_given_with_consent_country = group_by_count(df_consents_given_with_consent, \"user_country\", \"consents_given_with_consent\")\n",
    "df_consents_given_with_consent_domain = group_by_count(df_consents_given_with_consent, \"domain\",\"consents_given_with_consent\")\n",
    "\n",
    "df_consents_given_with_consent_domain.show()"
   ]
  },
  {
   "cell_type": "code",
   "execution_count": 29,
   "metadata": {},
   "outputs": [
    {
     "name": "stdout",
     "output_type": "stream",
     "text": [
      "+------------+--------------------+\n",
      "|user_country|distinct_user_number|\n",
      "+------------+--------------------+\n",
      "|          DE|                   1|\n",
      "|          ES|                   3|\n",
      "|          FR|                   4|\n",
      "+------------+--------------------+\n",
      "\n",
      "+------------+----------------------+\n",
      "|user_country|avg_pageviews_per_user|\n",
      "+------------+----------------------+\n",
      "|          DE|                   4.0|\n",
      "|          ES|     4.333333333333333|\n",
      "|          FR|                   3.5|\n",
      "+------------+----------------------+\n",
      "\n"
     ]
    }
   ],
   "source": [
    "def get_group_distinct_user_number(df: DataFrame, group_col_name, spark: SparkSession) -> DataFrame:\n",
    "    result = []\n",
    "    group_distinct_val_list = list(df.select(group_col_name).distinct().toPandas()[group_col_name])\n",
    "    for group_distinct_val in group_distinct_val_list:\n",
    "        # get distinct user number of the specific col value\n",
    "        user_number = df.filter(col(group_col_name) == group_distinct_val).select(\"user_id\").distinct().count()\n",
    "        # print(\"{}:{}\".format(group_distinct_val, user_number))\n",
    "        result.append((group_distinct_val, user_number))\n",
    "    return spark.createDataFrame(result, schema=[group_col_name, 'distinct_user_number'])\n",
    "\n",
    "\n",
    "# note the two df must are the result of the same groupBy condition (e.g. country, domain, date)\n",
    "def get_avg_view_per_user(df_distinct_user_number: DataFrame, df_view_number: DataFrame,\n",
    "                          join_cond_col_name) -> DataFrame:\n",
    "    df_tmp = df_distinct_user_number.join(df_view_number, join_cond_col_name, \"inner\")\n",
    "    return df_tmp.withColumn(\"avg_pageviews_per_user\", col(\"pageviews\") / col(\"distinct_user_number\")) \\\n",
    "        .drop(\"distinct_user_number\").drop(\"pageviews\")\n",
    "\n",
    "\n",
    "# Average number of events of type pageviews per user\n",
    "df_distinct_user_by_country = get_group_distinct_user_number(df_page_view, \"user_country\", spark)\n",
    "df_avg_by_country = get_avg_view_per_user(df_distinct_user_by_country, df_page_view_groupby_country, \"user_country\")\n",
    "df_distinct_user_by_country.show()\n",
    "df_avg_by_country.show()\n",
    "\n",
    "df_distinct_user_by_date = get_group_distinct_user_number(df_page_view, \"datetime\", spark)\n",
    "df_avg_by_date = get_avg_view_per_user(df_distinct_user_by_date, df_page_view_groupby_date, \"datetime\")\n",
    "# df_avg_by_date.show()\n",
    "\n",
    "df_distinct_user_by_domain = get_group_distinct_user_number(df_page_view, \"domain\", spark)\n",
    "df_avg_by_domain = get_avg_view_per_user(df_distinct_user_by_domain, df_page_view_groupby_domain, \"domain\")\n",
    "# df_avg_by_domain.show()"
   ]
  },
  {
   "cell_type": "code",
   "execution_count": 30,
   "metadata": {},
   "outputs": [
    {
     "name": "stderr",
     "output_type": "stream",
     "text": [
      "                                                                                \r"
     ]
    },
    {
     "name": "stdout",
     "output_type": "stream",
     "text": [
      "+-------------+---------+----------------------+--------------+--------------+---------------------------+----------------------+\n",
      "|     datetime|pageviews|pageviews_with_consent|consents_asked|consents_given|consents_given_with_consent|avg_pageviews_per_user|\n",
      "+-------------+---------+----------------------+--------------+--------------+---------------------------+----------------------+\n",
      "|2021-01-23-11|       15|                     8|             3|             3|                          2|                  3.75|\n",
      "|2021-01-23-10|       16|                     8|             8|            12|                         10|                   3.2|\n",
      "+-------------+---------+----------------------+--------------+--------------+---------------------------+----------------------+\n",
      "\n",
      "+------------+---------+----------------------+--------------+--------------+---------------------------+----------------------+\n",
      "|user_country|pageviews|pageviews_with_consent|consents_asked|consents_given|consents_given_with_consent|avg_pageviews_per_user|\n",
      "+------------+---------+----------------------+--------------+--------------+---------------------------+----------------------+\n",
      "|          DE|        4|                     3|             1|             3|                          3|                   4.0|\n",
      "|          ES|       13|                     5|             5|             5|                          4|     4.333333333333333|\n",
      "|          FR|       14|                     8|             5|             7|                          5|                   3.5|\n",
      "+------------+---------+----------------------+--------------+--------------+---------------------------+----------------------+\n",
      "\n"
     ]
    },
    {
     "name": "stderr",
     "output_type": "stream",
     "text": [
      "                                                                                \r"
     ]
    },
    {
     "name": "stdout",
     "output_type": "stream",
     "text": [
      "+--------------------+---------+----------------------+--------------+--------------+---------------------------+----------------------+\n",
      "|              domain|pageviews|pageviews_with_consent|consents_asked|consents_given|consents_given_with_consent|avg_pageviews_per_user|\n",
      "+--------------------+---------+----------------------+--------------+--------------+---------------------------+----------------------+\n",
      "|   www.mywebsite.com|       13|                     8|             5|             7|                          6|                  3.25|\n",
      "|     www.domain-A.eu|       17|                     8|             4|             6|                          5|                  4.25|\n",
      "|my-other-website.com|        1|                  null|             2|             2|                          1|                   1.0|\n",
      "+--------------------+---------+----------------------+--------------+--------------+---------------------------+----------------------+\n",
      "\n"
     ]
    }
   ],
   "source": [
    "# join page view with consent\n",
    "df_metric_by_date = df_page_view_groupby_date.join(df_page_view_consent_date, \"datetime\", \"left\")\n",
    "df_metric_by_country = df_page_view_groupby_country.join(df_page_view_consent_country, \"user_country\", \"left\")\n",
    "df_metric_by_domain = df_page_view_groupby_domain.join(df_page_view_consent_domain, \"domain\", \"left\")\n",
    "\n",
    "# join consents_asked\n",
    "df_metric_by_date = df_metric_by_date.join(df_consents_asked_date, \"datetime\", \"left\")\n",
    "df_metric_by_country = df_metric_by_country.join(df_consents_asked_country, \"user_country\", \"left\")\n",
    "df_metric_by_domain = df_metric_by_domain.join(df_consents_asked_domain, \"domain\", \"left\")\n",
    "\n",
    "# join consents_given\n",
    "df_metric_by_date = df_metric_by_date.join(df_consents_given_date, \"datetime\", \"left\")\n",
    "df_metric_by_country = df_metric_by_country.join(df_consents_given_country, \"user_country\", \"left\")\n",
    "df_metric_by_domain = df_metric_by_domain.join(df_consents_given_domain, \"domain\", \"left\")\n",
    "\n",
    "# join consents_given_with_consents\n",
    "df_metric_by_date = df_metric_by_date.join(df_consents_given_with_consent_date, \"datetime\", \"left\")\n",
    "df_metric_by_country = df_metric_by_country.join(df_consents_given_with_consent_country, \"user_country\", \"left\")\n",
    "df_metric_by_domain = df_metric_by_domain.join(df_consents_given_with_consent_domain, \"domain\", \"left\")\n",
    "\n",
    "# join avg page views per user\n",
    "df_metric_by_date = df_metric_by_date.join(df_avg_by_date, \"datetime\", \"left\")\n",
    "df_metric_by_country = df_metric_by_country.join(df_avg_by_country, \"user_country\", \"left\")\n",
    "df_metric_by_domain = df_metric_by_domain.join(df_avg_by_domain, \"domain\", \"left\")\n",
    "\n",
    "############################ Step4: show final metric ############################################\n",
    "df_metric_by_date.show()\n",
    "df_metric_by_country.show()\n",
    "df_metric_by_domain.show()"
   ]
  },
  {
   "cell_type": "markdown",
   "metadata": {},
   "source": [
    "## Use window function\n",
    "\n"
   ]
  },
  {
   "cell_type": "code",
   "execution_count": 35,
   "metadata": {},
   "outputs": [
    {
     "name": "stdout",
     "output_type": "stream",
     "text": [
      "+------------+--------------+\n",
      "|user_country|page_views_sum|\n",
      "+------------+--------------+\n",
      "|          DE|             4|\n",
      "|          ES|            13|\n",
      "|          FR|            14|\n",
      "+------------+--------------+\n",
      "\n"
     ]
    }
   ],
   "source": [
    "from pyspark.sql.window import Window\n",
    "win_country=Window.partitionBy(\"user_country\")\n",
    "\n",
    "df_win_metric_by_country=df_ready.filter(col(\"type\")==\"pageview\") \\\n",
    "                       .withColumn(\"page_views_sum\",count(\"*\").over(win_country)) \\\n",
    "                       .select(\"user_country\",\"page_views_sum\")\\\n",
    "                       .distinct()\n",
    "\n",
    "df_win_metric_\n",
    "df_win_metric_by_country.show()\n"
   ]
  },
  {
   "cell_type": "code",
   "execution_count": null,
   "metadata": {},
   "outputs": [],
   "source": []
  },
  {
   "cell_type": "code",
   "execution_count": null,
   "metadata": {},
   "outputs": [],
   "source": []
  }
 ],
 "metadata": {
  "kernelspec": {
   "display_name": "Python 3 (ipykernel)",
   "language": "python",
   "name": "python3"
  },
  "language_info": {
   "codemirror_mode": {
    "name": "ipython",
    "version": 3
   },
   "file_extension": ".py",
   "mimetype": "text/x-python",
   "name": "python",
   "nbconvert_exporter": "python",
   "pygments_lexer": "ipython3",
   "version": "3.8.5"
  }
 },
 "nbformat": 4,
 "nbformat_minor": 1
}
